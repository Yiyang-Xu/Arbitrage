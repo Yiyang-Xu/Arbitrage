{
 "cells": [
  {
   "cell_type": "code",
   "execution_count": 37,
   "metadata": {},
   "outputs": [],
   "source": [
    "import pandas as pd\n",
    "import yfinance as yf\n",
    "import numpy as np\n",
    "import pandas_ta as ta\n",
    "import matplotlib.pyplot as plt\n",
    "from matplotlib import rcParams\n",
    "import plotly.graph_objects as go\n",
    "from plotly.subplots import make_subplots\n",
    "from scipy.optimize import minimize\n",
    "import seaborn as sns\n",
    "import matplotlib.dates as mdates\n",
    "# import ace_tools as tools; \n",
    "\n",
    "# 配置中文字体\n",
    "plt.rcParams['font.family'] = 'Heiti TC'\n",
    "\n",
    "# plt.rcParams['font.family'] = 'Times New Roman'\n",
    "plt.rcParams['figure.dpi'] = 150\n",
    "plt.rcParams.update({'font.size': 12})"
   ]
  },
  {
   "cell_type": "code",
   "execution_count": 38,
   "metadata": {},
   "outputs": [],
   "source": [
    "def get_stock_data(stock_symbols, start_date, end_date):\n",
    "    stock_data = {}\n",
    "    for symbol in stock_symbols:\n",
    "        stock_data[symbol] = yf.download(symbol, start=start_date, end=end_date)\n",
    "    return stock_data\n",
    "\n",
    "def get_stock_price(stock_symbols, start_date, end_date):\n",
    "    stock_data = {}\n",
    "    for symbol in stock_symbols:\n",
    "        stock_data[symbol] = yf.download(symbol, start=start_date, end=end_date)['Adj Close']\n",
    "    return pd.DataFrame(stock_data)\n",
    "\n",
    "def calculate_moving_average(stock_prices, short_window, long_window):\n",
    "    short_ma = stock_prices.rolling(window=short_window).mean()\n",
    "    long_ma = stock_prices.rolling(window=long_window).mean()\n",
    "    return short_ma, long_ma\n",
    "\n",
    "# Calculate Z-score for mean reversion\n",
    "def calculate_z_score(stock_prices, window):\n",
    "    rolling_mean = stock_prices.rolling(window=window).mean()\n",
    "    rolling_std = stock_prices.rolling(window=window).std()\n",
    "    z_score = (stock_prices - rolling_mean) / rolling_std\n",
    "    return z_score\n",
    "\n",
    "# Adjust Threshold Dynamically\n",
    "def dynamic_threshold(SSINDX, window):\n",
    "    std_SSINDX = (SSINDX - SSINDX.mean())/SSINDX.std()\n",
    "    rolling_std = std_SSINDX.rolling(window).std()\n",
    "    return 2.5 + 2 * rolling_std\n",
    "\n",
    "# Portfolio optimization\n",
    "def portfolio_optimization(returns, cov_matrix):\n",
    "    num_assets = len(returns)\n",
    "\n",
    "    def objective(weights):\n",
    "        return np.dot(weights.T, np.dot(cov_matrix, weights))\n",
    "    \n",
    "    def constraint(weights):\n",
    "        return np.sum(weights) - 1\n",
    "\n",
    "    cons = ({'type': 'eq', 'fun': constraint})\n",
    "    bounds = tuple((0, 1) for _ in range(num_assets))\n",
    "    result = minimize(objective, num_assets * [1. / num_assets,], bounds=bounds, constraints=cons)\n",
    "    \n",
    "    return result.x\n",
    "\n",
    "# Calculate max drawdown\n",
    "def calculate_max_drawdown(portfolio_values):\n",
    "    cumulative_max = np.maximum.accumulate(portfolio_values)\n",
    "    drawdown = (cumulative_max - portfolio_values) / cumulative_max\n",
    "    max_drawdown = np.max(drawdown) * 100\n",
    "    return max_drawdown\n",
    "\n",
    "# Summarize PnL analysis\n",
    "def pnl_summary(portfolio_values, dates, buy_count, sell_count):\n",
    "    df = pd.DataFrame({'Date': dates, 'Portfolio Value': portfolio_values})\n",
    "    df.set_index('Date', inplace=True)\n",
    "    df['Return'] = df['Portfolio Value'].pct_change()\n",
    "    df['Year'] = df.index.year\n",
    "\n",
    "    summary = df.groupby('Year').agg({\n",
    "        'Portfolio Value': ['first', 'last'],\n",
    "        'Return': ['std']\n",
    "    })\n",
    "    summary.columns = ['Start Value', 'End Value', 'Return Std']\n",
    "    summary['Annual Return %'] = ((summary['End Value'] / summary['Start Value']) - 1) * 100\n",
    "    summary['Sharpe Ratio'] = summary['Annual Return %']  / (summary['Return Std'] * np.sqrt(252) * 100)\n",
    "    \n",
    "    # Calculate Max Drawdown per year\n",
    "    max_drawdowns = []\n",
    "    for year in summary.index:\n",
    "        year_values = df[df['Year'] == year]['Portfolio Value']\n",
    "        max_drawdowns.append(calculate_max_drawdown(year_values.values))\n",
    "\n",
    "    summary['Max Drawdown %'] = max_drawdowns\n",
    "    summary['Buy Count'] = buy_count\n",
    "    summary['Sell Count'] = sell_count\n",
    "    \n",
    "    # Round to 2 decimal places\n",
    "    summary = summary.round(2)\n",
    "\n",
    "    return summary\n",
    "\n",
    "# Summarize total PnL analysis\n",
    "def pnl_summary_total(portfolio_values, dates):\n",
    "    df = pd.DataFrame({'Date': dates, 'Portfolio Value': portfolio_values})\n",
    "    df.set_index('Date', inplace=True)\n",
    "    df['Return'] = df['Portfolio Value'].pct_change()\n",
    "\n",
    "    total_return = ((df['Portfolio Value'][-1] / df['Portfolio Value'][0]) - 1) * 100\n",
    "    sharpe_ratio = df['Return'].mean() / df['Return'].std() * np.sqrt(252)\n",
    "    max_drawdown = calculate_max_drawdown(df['Portfolio Value'].values)\n",
    "\n",
    "    summary_total = pd.DataFrame({\n",
    "        'Total Return %': [total_return],\n",
    "        'Sharpe Ratio': [sharpe_ratio],\n",
    "        'Max Drawdown %': [max_drawdown]\n",
    "    })\n",
    "\n",
    "    # Round to 2 decimal places\n",
    "    summary_total = summary_total.round(2)\n",
    "\n",
    "    return summary_total"
   ]
  },
  {
   "cell_type": "code",
   "execution_count": 39,
   "metadata": {},
   "outputs": [],
   "source": [
    "#### 按照排序分配权重的策略\n",
    "# 初始分配权重\n",
    "def initial_weights(stock_symbols):\n",
    "    num_stocks = len(stock_symbols)\n",
    "    return np.ones(num_stocks) / num_stocks\n",
    "\n",
    "# 重新分配权重\n",
    "def rebalance_weights(z_scores, date, initial_weight):\n",
    "    ranked_stocks = z_scores.loc[date].sort_values()\n",
    "    num_stocks = len(ranked_stocks)\n",
    "    new_weights = np.zeros(num_stocks)\n",
    "    \n",
    "    # 根据排序结果重新分配权重\n",
    "    for i, stock in enumerate(ranked_stocks.index):\n",
    "        new_weights[i] = initial_weight * (1 + ranked_stocks.index.get_loc(stock) / num_stocks)\n",
    "    new_weights /= new_weights.sum()  # 归一化权重\n",
    "\n",
    "    return new_weights\n",
    "\n",
    "def rebalance_rank_portfolio(stock_prices, window, initial_capital):\n",
    "    transaction_cost=0.005\n",
    "    lot_size=100\n",
    "    min_trade_volume = 200\n",
    "    z_scores = calculate_z_score(stock_prices, window)\n",
    "    \n",
    "    num_stocks = len(stock_prices.columns)\n",
    "    initial_weight = 1 / num_stocks\n",
    "    weights = initial_weights(stock_prices.columns)\n",
    "    portfolio_value = initial_capital\n",
    "    portfolio_values = [initial_capital]\n",
    "    positions = np.zeros(num_stocks)\n",
    "    positions = np.zeros((len(stock_prices.index[window-1:]), num_stocks))  # 存储每个交易日的仓位\n",
    "    adjustments = np.zeros_like(positions)  # 存储每个交易日的调整信号\n",
    "    current_positions = np.zeros(num_stocks)\n",
    "    positions[0] = current_positions\n",
    "    cash = initial_capital\n",
    "    buy_count = []\n",
    "    sell_count = []\n",
    "    annual_buy_count = 0\n",
    "    annual_sell_count = 0\n",
    "    current_year = stock_prices.index[window].year\n",
    "\n",
    "    for t, date in enumerate(stock_prices.index[window:], start=1):\n",
    "        if date.year != current_year:\n",
    "            buy_count.append(annual_buy_count)\n",
    "            sell_count.append(annual_sell_count)\n",
    "            annual_buy_count = 0\n",
    "            annual_sell_count = 0\n",
    "            current_year = date.year\n",
    "        \n",
    "        # 根据Z-score排序重新分配权重\n",
    "        new_weights = rebalance_weights(z_scores, date, initial_weight)\n",
    "        \n",
    "        # 根据新的权重进行买卖股票\n",
    "        for i, stock in enumerate(stock_prices.columns):\n",
    "            current_price = stock_prices[stock].loc[date]\n",
    "            desired_position = portfolio_value * new_weights[i] // current_price\n",
    "            \n",
    "            # 检查交易量是否达到最低交易量限制\n",
    "            trade_volume = abs(desired_position - current_positions[i]) * current_price\n",
    "            if trade_volume < min_trade_volume:\n",
    "                continue  # 如果交易量小于最低限制，则跳过此交易\n",
    "            \n",
    "            if desired_position > current_positions[i]:\n",
    "                buy_amount = (desired_position - current_positions[i]) // lot_size * lot_size\n",
    "                if buy_amount > 0 and cash >= buy_amount * current_price * (1 + transaction_cost):\n",
    "                    current_positions[i] += buy_amount\n",
    "                    cash -= buy_amount * current_price * (1 + transaction_cost)\n",
    "                    annual_buy_count += 1\n",
    "            elif desired_position < current_positions[i]:\n",
    "                sell_amount = (current_positions[i] - desired_position) // lot_size * lot_size\n",
    "                if sell_amount > 0:\n",
    "                    current_positions[i] -= sell_amount\n",
    "                    cash += sell_amount * current_price * (1 - transaction_cost)\n",
    "                    annual_sell_count += 1\n",
    "\n",
    "        weights = new_weights\n",
    "        portfolio_value = cash + np.sum(current_positions * stock_prices.loc[date])\n",
    "        portfolio_values.append(portfolio_value)\n",
    "        positions[t] = current_positions  # 记录仓位\n",
    "        \n",
    "    buy_count.append(annual_buy_count)\n",
    "    sell_count.append(annual_sell_count)\n",
    "\n",
    "    return portfolio_values, weights, positions, adjustments, buy_count, sell_count"
   ]
  },
  {
   "cell_type": "code",
   "execution_count": 40,
   "metadata": {},
   "outputs": [],
   "source": [
    "\n",
    "def rebalance_portfolio(stock_prices, SSINDX, window, initial_capital, short_ma=None, long_ma=None):\n",
    "    lot_size=100\n",
    "    transaction_cost = 0.005\n",
    "    min_trade_volume = 100\n",
    "    \n",
    "    num_stocks = len(stock_prices.columns)\n",
    "    z_scores = calculate_z_score(stock_prices, window)\n",
    "    cov_matrix = stock_prices.pct_change().cov()\n",
    "    mean_returns = stock_prices.pct_change().mean()\n",
    "    dynamic_thresholds = dynamic_threshold(SSINDX, window)\n",
    "\n",
    "    weights = portfolio_optimization(mean_returns, cov_matrix)\n",
    "    portfolio_value = initial_capital\n",
    "    portfolio_values = [initial_capital]\n",
    "    positions = np.zeros((len(stock_prices.index[window-1:]), num_stocks))  # 存储每个交易日的仓位\n",
    "    adjustments = np.zeros_like(positions)  # 存储每个交易日的调整信号\n",
    "    current_positions = np.zeros(num_stocks)\n",
    "    cash = initial_capital\n",
    "    buy_count = []\n",
    "    sell_count = []\n",
    "    annual_buy_count = 0\n",
    "    annual_sell_count = 0\n",
    "    current_year = stock_prices.index[window].year\n",
    "    \n",
    "    positions[0] = current_positions\n",
    "\n",
    "    for t, date in enumerate(stock_prices.index[window:], start=1):\n",
    "        # 获取当前交易日的动态阈值\n",
    "        threshold = dynamic_thresholds.loc[date]\n",
    "        if date.year != current_year:\n",
    "            buy_count.append(annual_buy_count)\n",
    "            sell_count.append(annual_sell_count)\n",
    "            annual_buy_count = 0\n",
    "            annual_sell_count = 0\n",
    "            current_year = date.year\n",
    "        \n",
    "        # 根据Z-score和趋势调整权重\n",
    "        new_weights = np.zeros(len(weights))\n",
    "        for i, stock in enumerate(stock_prices.columns):\n",
    "            if short_ma[stock].loc[date] > long_ma[stock].loc[date]:  # 确保在多头市场\n",
    "                if z_scores[stock].loc[date] < -threshold:\n",
    "                    new_weights[i] = weights[i] + 0.05\n",
    "                elif z_scores[stock].loc[date] > threshold:\n",
    "                    new_weights[i] = weights[i] - 0.05\n",
    "                else:\n",
    "                    new_weights[i] = weights[i]\n",
    "            else:\n",
    "                new_weights[i] = weights[i]  # 保持不变\n",
    "                \n",
    "        \n",
    "        new_weights = np.clip(new_weights, 0, 1)\n",
    "        new_weights = new_weights / np.sum(new_weights)\n",
    "        \n",
    "        # 根据新的权重进行买卖股票\n",
    "        for i, stock in enumerate(stock_prices.columns):\n",
    "            current_price = stock_prices[stock].loc[date]\n",
    "            desired_position = portfolio_value * new_weights[i] // current_price\n",
    "            \n",
    "            # 检查交易量是否达到最低交易量限制\n",
    "            trade_volume = abs(desired_position - current_positions[i]) * current_price\n",
    "            if trade_volume < min_trade_volume:\n",
    "                continue  # 如果交易量小于最低限制，则跳过此交易\n",
    "            \n",
    "            if desired_position > current_positions[i]:\n",
    "                buy_amount = (desired_position - current_positions[i]) // lot_size * lot_size\n",
    "                if buy_amount > 0 and cash >= buy_amount * current_price * (1 + transaction_cost):\n",
    "                    current_positions[i] += buy_amount\n",
    "                    cash -= buy_amount * current_price * (1 + transaction_cost)\n",
    "                    annual_buy_count += 1\n",
    "                    adjustments[t, i] = 1 # 买入信号\n",
    "            elif desired_position < current_positions[i]:\n",
    "                sell_amount = (current_positions[i] - desired_position) // lot_size * lot_size\n",
    "                if sell_amount > 0:\n",
    "                    current_positions[i] -= sell_amount\n",
    "                    cash += sell_amount * current_price * (1 - transaction_cost)\n",
    "                    annual_sell_count += 1\n",
    "                    adjustments[t, i] = -1  # 卖出信号\n",
    "            else: adjustments[t, i] = 0  # 卖出信号\n",
    "    \n",
    "        weights = new_weights\n",
    "        portfolio_value = cash + np.sum(current_positions * stock_prices.loc[date])\n",
    "        portfolio_values.append(portfolio_value)\n",
    "        positions[t] = current_positions  # 记录仓位\n",
    "    \n",
    "    buy_count.append(annual_buy_count)\n",
    "    sell_count.append(annual_sell_count)\n",
    "\n",
    "    return portfolio_values, weights, positions, adjustments, buy_count, sell_count\n"
   ]
  },
  {
   "cell_type": "code",
   "execution_count": 41,
   "metadata": {},
   "outputs": [
    {
     "name": "stderr",
     "output_type": "stream",
     "text": [
      "[*********************100%%**********************]  1 of 1 completed\n",
      "[*********************100%%**********************]  1 of 1 completed\n",
      "[*********************100%%**********************]  1 of 1 completed\n",
      "[*********************100%%**********************]  1 of 1 completed\n",
      "[*********************100%%**********************]  1 of 1 completed\n",
      "[*********************100%%**********************]  1 of 1 completed\n",
      "[*********************100%%**********************]  1 of 1 completed\n",
      "[*********************100%%**********************]  1 of 1 completed\n",
      "[*********************100%%**********************]  1 of 1 completed\n",
      "[*********************100%%**********************]  1 of 1 completed\n",
      "[*********************100%%**********************]  1 of 1 completed\n",
      "[*********************100%%**********************]  1 of 1 completed\n",
      "[*********************100%%**********************]  1 of 1 completed\n",
      "[*********************100%%**********************]  1 of 1 completed\n",
      "[*********************100%%**********************]  1 of 1 completed\n",
      "[*********************100%%**********************]  1 of 1 completed\n",
      "[*********************100%%**********************]  1 of 1 completed\n",
      "[*********************100%%**********************]  1 of 1 completed\n",
      "[*********************100%%**********************]  1 of 1 completed\n",
      "[*********************100%%**********************]  1 of 1 completed\n",
      "[*********************100%%**********************]  1 of 1 completed\n",
      "[*********************100%%**********************]  1 of 1 completed\n"
     ]
    },
    {
     "name": "stdout",
     "output_type": "stream",
     "text": [
      "Final Portfolio Value: 38000.1115732193\n",
      "Final Portfolio Value: 37778.3071295619\n"
     ]
    }
   ],
   "source": [
    "# 读取Excel文件\n",
    "df = pd.read_excel('Stocks.xlsx', sheet_name='Holdlist')\n",
    "\n",
    "# 获取股票代码列表\n",
    "stock_symbols = df['Stock Symbol'].tolist()\n",
    "stock_names = df['Stock Name'].tolist()\n",
    "\n",
    "# 定义时间范围\n",
    "start_date = '2024-05-01'\n",
    "end_date = '2024-08-11'\n",
    "\n",
    "# 设置参数\n",
    "initial_capital = 40000\n",
    "window = 10\n",
    "threshold = 2.5\n",
    "transaction_cost = 0.005  # 假设交易成本为0.5%\n",
    "rebalance_period = 7  # 调仓周期为3天\n",
    "\n",
    "stock_data = get_stock_price(stock_symbols, start_date, end_date)\n",
    "# 获取上证指数数据\n",
    "SSINDX = yf.download('000001.SS', start=start_date, end=end_date)['Close']\n",
    "\n",
    "# Ensure stock_data is a DataFrame and handle any missing values\n",
    "stock_prices = pd.DataFrame(stock_data).ffill().bfill()\n",
    "dates = stock_prices.index[window-1:]\n",
    "short_window = 40\n",
    "long_window = 200\n",
    "short_ma, long_ma = calculate_moving_average(stock_prices, short_window, long_window)\n",
    "\n",
    "# 调整rebalance_portfolio函数的调用\n",
    "portfolio_values, weights, positions, adjustments, buy_count, sell_count = rebalance_portfolio(stock_prices, SSINDX, window, initial_capital, short_ma, long_ma)\n",
    "portfolio_values1, weights1, positions1, adjustments1, buy_count1, sell_count1 = rebalance_rank_portfolio(stock_prices=stock_prices, window=window, initial_capital=initial_capital)\n",
    "print(f'Final Portfolio Value: {portfolio_values[-1]}')\n",
    "print(f'Final Portfolio Value: {portfolio_values1[-1]}')"
   ]
  },
  {
   "cell_type": "code",
   "execution_count": 42,
   "metadata": {},
   "outputs": [
    {
     "name": "stderr",
     "output_type": "stream",
     "text": [
      "/var/folders/2h/657ql8s954s35xlylnvyhmrw0000gn/T/ipykernel_91667/3691211594.py:90: FutureWarning:\n",
      "\n",
      "Series.__getitem__ treating keys as positions is deprecated. In a future version, integer keys will always be treated as labels (consistent with DataFrame behavior). To access a value by position, use `ser.iloc[pos]`\n",
      "\n"
     ]
    },
    {
     "data": {
      "text/html": [
       "<div>\n",
       "<style scoped>\n",
       "    .dataframe tbody tr th:only-of-type {\n",
       "        vertical-align: middle;\n",
       "    }\n",
       "\n",
       "    .dataframe tbody tr th {\n",
       "        vertical-align: top;\n",
       "    }\n",
       "\n",
       "    .dataframe thead th {\n",
       "        text-align: right;\n",
       "    }\n",
       "</style>\n",
       "<table border=\"1\" class=\"dataframe\">\n",
       "  <thead>\n",
       "    <tr style=\"text-align: right;\">\n",
       "      <th></th>\n",
       "      <th>Total Return %</th>\n",
       "      <th>Sharpe Ratio</th>\n",
       "      <th>Max Drawdown %</th>\n",
       "    </tr>\n",
       "  </thead>\n",
       "  <tbody>\n",
       "    <tr>\n",
       "      <th>0</th>\n",
       "      <td>-5.0</td>\n",
       "      <td>-1.24</td>\n",
       "      <td>8.95</td>\n",
       "    </tr>\n",
       "  </tbody>\n",
       "</table>\n",
       "</div>"
      ],
      "text/plain": [
       "   Total Return %  Sharpe Ratio  Max Drawdown %\n",
       "0            -5.0         -1.24            8.95"
      ]
     },
     "execution_count": 42,
     "metadata": {},
     "output_type": "execute_result"
    }
   ],
   "source": [
    "# Total PnL Summary\n",
    "summary_total = pnl_summary_total(portfolio_values, dates)\n",
    "summary_total"
   ]
  },
  {
   "cell_type": "code",
   "execution_count": 43,
   "metadata": {},
   "outputs": [
    {
     "name": "stderr",
     "output_type": "stream",
     "text": [
      "/var/folders/2h/657ql8s954s35xlylnvyhmrw0000gn/T/ipykernel_91667/3691211594.py:90: FutureWarning:\n",
      "\n",
      "Series.__getitem__ treating keys as positions is deprecated. In a future version, integer keys will always be treated as labels (consistent with DataFrame behavior). To access a value by position, use `ser.iloc[pos]`\n",
      "\n"
     ]
    },
    {
     "data": {
      "text/html": [
       "<div>\n",
       "<style scoped>\n",
       "    .dataframe tbody tr th:only-of-type {\n",
       "        vertical-align: middle;\n",
       "    }\n",
       "\n",
       "    .dataframe tbody tr th {\n",
       "        vertical-align: top;\n",
       "    }\n",
       "\n",
       "    .dataframe thead th {\n",
       "        text-align: right;\n",
       "    }\n",
       "</style>\n",
       "<table border=\"1\" class=\"dataframe\">\n",
       "  <thead>\n",
       "    <tr style=\"text-align: right;\">\n",
       "      <th></th>\n",
       "      <th>Total Return %</th>\n",
       "      <th>Sharpe Ratio</th>\n",
       "      <th>Max Drawdown %</th>\n",
       "    </tr>\n",
       "  </thead>\n",
       "  <tbody>\n",
       "    <tr>\n",
       "      <th>0</th>\n",
       "      <td>-5.55</td>\n",
       "      <td>-1.51</td>\n",
       "      <td>7.86</td>\n",
       "    </tr>\n",
       "  </tbody>\n",
       "</table>\n",
       "</div>"
      ],
      "text/plain": [
       "   Total Return %  Sharpe Ratio  Max Drawdown %\n",
       "0           -5.55         -1.51            7.86"
      ]
     },
     "execution_count": 43,
     "metadata": {},
     "output_type": "execute_result"
    }
   ],
   "source": [
    "summary_total1 = pnl_summary_total(portfolio_values1, dates)\n",
    "summary_total1"
   ]
  },
  {
   "cell_type": "code",
   "execution_count": 44,
   "metadata": {},
   "outputs": [
    {
     "data": {
      "text/html": [
       "<div>\n",
       "<style scoped>\n",
       "    .dataframe tbody tr th:only-of-type {\n",
       "        vertical-align: middle;\n",
       "    }\n",
       "\n",
       "    .dataframe tbody tr th {\n",
       "        vertical-align: top;\n",
       "    }\n",
       "\n",
       "    .dataframe thead th {\n",
       "        text-align: right;\n",
       "    }\n",
       "</style>\n",
       "<table border=\"1\" class=\"dataframe\">\n",
       "  <thead>\n",
       "    <tr style=\"text-align: right;\">\n",
       "      <th></th>\n",
       "      <th>Start Value</th>\n",
       "      <th>End Value</th>\n",
       "      <th>Return Std</th>\n",
       "      <th>Annual Return %</th>\n",
       "      <th>Sharpe Ratio</th>\n",
       "      <th>Max Drawdown %</th>\n",
       "      <th>Buy Count</th>\n",
       "      <th>Sell Count</th>\n",
       "    </tr>\n",
       "    <tr>\n",
       "      <th>Year</th>\n",
       "      <th></th>\n",
       "      <th></th>\n",
       "      <th></th>\n",
       "      <th></th>\n",
       "      <th></th>\n",
       "      <th></th>\n",
       "      <th></th>\n",
       "      <th></th>\n",
       "    </tr>\n",
       "  </thead>\n",
       "  <tbody>\n",
       "    <tr>\n",
       "      <th>2024</th>\n",
       "      <td>40000.0</td>\n",
       "      <td>38000.11</td>\n",
       "      <td>0.01</td>\n",
       "      <td>-5.0</td>\n",
       "      <td>-0.3</td>\n",
       "      <td>8.95</td>\n",
       "      <td>26</td>\n",
       "      <td>5</td>\n",
       "    </tr>\n",
       "  </tbody>\n",
       "</table>\n",
       "</div>"
      ],
      "text/plain": [
       "      Start Value  End Value  Return Std  Annual Return %  Sharpe Ratio  \\\n",
       "Year                                                                      \n",
       "2024      40000.0   38000.11        0.01             -5.0          -0.3   \n",
       "\n",
       "      Max Drawdown %  Buy Count  Sell Count  \n",
       "Year                                         \n",
       "2024            8.95         26           5  "
      ]
     },
     "execution_count": 44,
     "metadata": {},
     "output_type": "execute_result"
    }
   ],
   "source": [
    "# PnL Summary of Portfolio Optimization\n",
    "summary = pnl_summary(portfolio_values, dates, buy_count, sell_count)\n",
    "summary"
   ]
  },
  {
   "cell_type": "code",
   "execution_count": 45,
   "metadata": {},
   "outputs": [
    {
     "data": {
      "text/html": [
       "<div>\n",
       "<style scoped>\n",
       "    .dataframe tbody tr th:only-of-type {\n",
       "        vertical-align: middle;\n",
       "    }\n",
       "\n",
       "    .dataframe tbody tr th {\n",
       "        vertical-align: top;\n",
       "    }\n",
       "\n",
       "    .dataframe thead th {\n",
       "        text-align: right;\n",
       "    }\n",
       "</style>\n",
       "<table border=\"1\" class=\"dataframe\">\n",
       "  <thead>\n",
       "    <tr style=\"text-align: right;\">\n",
       "      <th></th>\n",
       "      <th>Start Value</th>\n",
       "      <th>End Value</th>\n",
       "      <th>Return Std</th>\n",
       "      <th>Annual Return %</th>\n",
       "      <th>Sharpe Ratio</th>\n",
       "      <th>Max Drawdown %</th>\n",
       "      <th>Buy Count</th>\n",
       "      <th>Sell Count</th>\n",
       "    </tr>\n",
       "    <tr>\n",
       "      <th>Year</th>\n",
       "      <th></th>\n",
       "      <th></th>\n",
       "      <th></th>\n",
       "      <th></th>\n",
       "      <th></th>\n",
       "      <th></th>\n",
       "      <th></th>\n",
       "      <th></th>\n",
       "    </tr>\n",
       "  </thead>\n",
       "  <tbody>\n",
       "    <tr>\n",
       "      <th>2024</th>\n",
       "      <td>40000.0</td>\n",
       "      <td>37778.31</td>\n",
       "      <td>0.01</td>\n",
       "      <td>-5.55</td>\n",
       "      <td>-0.36</td>\n",
       "      <td>7.86</td>\n",
       "      <td>21</td>\n",
       "      <td>2</td>\n",
       "    </tr>\n",
       "  </tbody>\n",
       "</table>\n",
       "</div>"
      ],
      "text/plain": [
       "      Start Value  End Value  Return Std  Annual Return %  Sharpe Ratio  \\\n",
       "Year                                                                      \n",
       "2024      40000.0   37778.31        0.01            -5.55         -0.36   \n",
       "\n",
       "      Max Drawdown %  Buy Count  Sell Count  \n",
       "Year                                         \n",
       "2024            7.86         21           2  "
      ]
     },
     "execution_count": 45,
     "metadata": {},
     "output_type": "execute_result"
    }
   ],
   "source": [
    "# PnL Summary of Rank Method\n",
    "summary1 = pnl_summary(portfolio_values1, dates, buy_count1, sell_count1)\n",
    "summary1"
   ]
  },
  {
   "cell_type": "markdown",
   "metadata": {},
   "source": [
    "### PnL Visualization"
   ]
  },
  {
   "cell_type": "code",
   "execution_count": 46,
   "metadata": {},
   "outputs": [
    {
     "data": {
      "application/vnd.plotly.v1+json": {
       "config": {
        "plotlyServerURL": "https://plot.ly"
       },
       "data": [
        {
         "mode": "lines",
         "name": "Portfolio Value",
         "type": "scatter",
         "x": [
          "2024-05-17T00:00:00",
          "2024-05-20T00:00:00",
          "2024-05-21T00:00:00",
          "2024-05-22T00:00:00",
          "2024-05-23T00:00:00",
          "2024-05-24T00:00:00",
          "2024-05-27T00:00:00",
          "2024-05-28T00:00:00",
          "2024-05-29T00:00:00",
          "2024-05-30T00:00:00",
          "2024-05-31T00:00:00",
          "2024-06-03T00:00:00",
          "2024-06-04T00:00:00",
          "2024-06-05T00:00:00",
          "2024-06-06T00:00:00",
          "2024-06-07T00:00:00",
          "2024-06-11T00:00:00",
          "2024-06-12T00:00:00",
          "2024-06-13T00:00:00",
          "2024-06-14T00:00:00",
          "2024-06-17T00:00:00",
          "2024-06-18T00:00:00",
          "2024-06-19T00:00:00",
          "2024-06-20T00:00:00",
          "2024-06-21T00:00:00",
          "2024-06-24T00:00:00",
          "2024-06-25T00:00:00",
          "2024-06-26T00:00:00",
          "2024-06-27T00:00:00",
          "2024-06-28T00:00:00",
          "2024-07-01T00:00:00",
          "2024-07-02T00:00:00",
          "2024-07-03T00:00:00",
          "2024-07-04T00:00:00",
          "2024-07-05T00:00:00",
          "2024-07-08T00:00:00",
          "2024-07-09T00:00:00",
          "2024-07-10T00:00:00",
          "2024-07-11T00:00:00",
          "2024-07-12T00:00:00",
          "2024-07-15T00:00:00",
          "2024-07-16T00:00:00",
          "2024-07-17T00:00:00",
          "2024-07-18T00:00:00",
          "2024-07-19T00:00:00",
          "2024-07-22T00:00:00",
          "2024-07-23T00:00:00",
          "2024-07-24T00:00:00",
          "2024-07-25T00:00:00",
          "2024-07-26T00:00:00",
          "2024-07-29T00:00:00",
          "2024-07-30T00:00:00",
          "2024-07-31T00:00:00",
          "2024-08-01T00:00:00",
          "2024-08-02T00:00:00",
          "2024-08-05T00:00:00",
          "2024-08-06T00:00:00",
          "2024-08-07T00:00:00",
          "2024-08-08T00:00:00",
          "2024-08-09T00:00:00"
         ],
         "y": [
          40000,
          39860.338292360306,
          39664.15696167946,
          39582.39678168297,
          39386.49072980881,
          39312.075373888016,
          40097.26975893974,
          40425.29090380669,
          40916.58416724205,
          40020.72245001793,
          40041.32732272148,
          39964.01405453682,
          40330.38683056831,
          39979.222823381424,
          40412.55020022392,
          40522.562552690506,
          39910.07433056831,
          40220.216020941734,
          40064.43631350994,
          39924.20049607754,
          39711.53952777386,
          40064.721073150635,
          40063.38906431198,
          40399.54519414902,
          40184.14148706198,
          39770.618301808834,
          39793.638342797756,
          39986.964529931545,
          39649.12528413534,
          40442.89828157425,
          40970.437165260315,
          40870.49746131897,
          40736.7767354846,
          40708.47009629011,
          40855.37028521299,
          40946.52710169554,
          41314.67119663954,
          40786.4973192811,
          41197.518623411655,
          40283.57406908274,
          40673.39476400614,
          41076.616776525974,
          40589.98469167948,
          40698.358619749546,
          40242.952848017216,
          39999.33220642805,
          39518.67965954542,
          39500.60113555193,
          38802.76077598333,
          38967.88136571646,
          39327.102728784084,
          39074.20255750418,
          39433.2426032424,
          39527.44265407324,
          38885.642274320126,
          37616.91160726547,
          37831.111770153046,
          38053.91173887253,
          37701.411514759064,
          38000.1115732193
         ]
        }
       ],
       "layout": {
        "template": {
         "data": {
          "bar": [
           {
            "error_x": {
             "color": "#2a3f5f"
            },
            "error_y": {
             "color": "#2a3f5f"
            },
            "marker": {
             "line": {
              "color": "#E5ECF6",
              "width": 0.5
             },
             "pattern": {
              "fillmode": "overlay",
              "size": 10,
              "solidity": 0.2
             }
            },
            "type": "bar"
           }
          ],
          "barpolar": [
           {
            "marker": {
             "line": {
              "color": "#E5ECF6",
              "width": 0.5
             },
             "pattern": {
              "fillmode": "overlay",
              "size": 10,
              "solidity": 0.2
             }
            },
            "type": "barpolar"
           }
          ],
          "carpet": [
           {
            "aaxis": {
             "endlinecolor": "#2a3f5f",
             "gridcolor": "white",
             "linecolor": "white",
             "minorgridcolor": "white",
             "startlinecolor": "#2a3f5f"
            },
            "baxis": {
             "endlinecolor": "#2a3f5f",
             "gridcolor": "white",
             "linecolor": "white",
             "minorgridcolor": "white",
             "startlinecolor": "#2a3f5f"
            },
            "type": "carpet"
           }
          ],
          "choropleth": [
           {
            "colorbar": {
             "outlinewidth": 0,
             "ticks": ""
            },
            "type": "choropleth"
           }
          ],
          "contour": [
           {
            "colorbar": {
             "outlinewidth": 0,
             "ticks": ""
            },
            "colorscale": [
             [
              0,
              "#0d0887"
             ],
             [
              0.1111111111111111,
              "#46039f"
             ],
             [
              0.2222222222222222,
              "#7201a8"
             ],
             [
              0.3333333333333333,
              "#9c179e"
             ],
             [
              0.4444444444444444,
              "#bd3786"
             ],
             [
              0.5555555555555556,
              "#d8576b"
             ],
             [
              0.6666666666666666,
              "#ed7953"
             ],
             [
              0.7777777777777778,
              "#fb9f3a"
             ],
             [
              0.8888888888888888,
              "#fdca26"
             ],
             [
              1,
              "#f0f921"
             ]
            ],
            "type": "contour"
           }
          ],
          "contourcarpet": [
           {
            "colorbar": {
             "outlinewidth": 0,
             "ticks": ""
            },
            "type": "contourcarpet"
           }
          ],
          "heatmap": [
           {
            "colorbar": {
             "outlinewidth": 0,
             "ticks": ""
            },
            "colorscale": [
             [
              0,
              "#0d0887"
             ],
             [
              0.1111111111111111,
              "#46039f"
             ],
             [
              0.2222222222222222,
              "#7201a8"
             ],
             [
              0.3333333333333333,
              "#9c179e"
             ],
             [
              0.4444444444444444,
              "#bd3786"
             ],
             [
              0.5555555555555556,
              "#d8576b"
             ],
             [
              0.6666666666666666,
              "#ed7953"
             ],
             [
              0.7777777777777778,
              "#fb9f3a"
             ],
             [
              0.8888888888888888,
              "#fdca26"
             ],
             [
              1,
              "#f0f921"
             ]
            ],
            "type": "heatmap"
           }
          ],
          "heatmapgl": [
           {
            "colorbar": {
             "outlinewidth": 0,
             "ticks": ""
            },
            "colorscale": [
             [
              0,
              "#0d0887"
             ],
             [
              0.1111111111111111,
              "#46039f"
             ],
             [
              0.2222222222222222,
              "#7201a8"
             ],
             [
              0.3333333333333333,
              "#9c179e"
             ],
             [
              0.4444444444444444,
              "#bd3786"
             ],
             [
              0.5555555555555556,
              "#d8576b"
             ],
             [
              0.6666666666666666,
              "#ed7953"
             ],
             [
              0.7777777777777778,
              "#fb9f3a"
             ],
             [
              0.8888888888888888,
              "#fdca26"
             ],
             [
              1,
              "#f0f921"
             ]
            ],
            "type": "heatmapgl"
           }
          ],
          "histogram": [
           {
            "marker": {
             "pattern": {
              "fillmode": "overlay",
              "size": 10,
              "solidity": 0.2
             }
            },
            "type": "histogram"
           }
          ],
          "histogram2d": [
           {
            "colorbar": {
             "outlinewidth": 0,
             "ticks": ""
            },
            "colorscale": [
             [
              0,
              "#0d0887"
             ],
             [
              0.1111111111111111,
              "#46039f"
             ],
             [
              0.2222222222222222,
              "#7201a8"
             ],
             [
              0.3333333333333333,
              "#9c179e"
             ],
             [
              0.4444444444444444,
              "#bd3786"
             ],
             [
              0.5555555555555556,
              "#d8576b"
             ],
             [
              0.6666666666666666,
              "#ed7953"
             ],
             [
              0.7777777777777778,
              "#fb9f3a"
             ],
             [
              0.8888888888888888,
              "#fdca26"
             ],
             [
              1,
              "#f0f921"
             ]
            ],
            "type": "histogram2d"
           }
          ],
          "histogram2dcontour": [
           {
            "colorbar": {
             "outlinewidth": 0,
             "ticks": ""
            },
            "colorscale": [
             [
              0,
              "#0d0887"
             ],
             [
              0.1111111111111111,
              "#46039f"
             ],
             [
              0.2222222222222222,
              "#7201a8"
             ],
             [
              0.3333333333333333,
              "#9c179e"
             ],
             [
              0.4444444444444444,
              "#bd3786"
             ],
             [
              0.5555555555555556,
              "#d8576b"
             ],
             [
              0.6666666666666666,
              "#ed7953"
             ],
             [
              0.7777777777777778,
              "#fb9f3a"
             ],
             [
              0.8888888888888888,
              "#fdca26"
             ],
             [
              1,
              "#f0f921"
             ]
            ],
            "type": "histogram2dcontour"
           }
          ],
          "mesh3d": [
           {
            "colorbar": {
             "outlinewidth": 0,
             "ticks": ""
            },
            "type": "mesh3d"
           }
          ],
          "parcoords": [
           {
            "line": {
             "colorbar": {
              "outlinewidth": 0,
              "ticks": ""
             }
            },
            "type": "parcoords"
           }
          ],
          "pie": [
           {
            "automargin": true,
            "type": "pie"
           }
          ],
          "scatter": [
           {
            "fillpattern": {
             "fillmode": "overlay",
             "size": 10,
             "solidity": 0.2
            },
            "type": "scatter"
           }
          ],
          "scatter3d": [
           {
            "line": {
             "colorbar": {
              "outlinewidth": 0,
              "ticks": ""
             }
            },
            "marker": {
             "colorbar": {
              "outlinewidth": 0,
              "ticks": ""
             }
            },
            "type": "scatter3d"
           }
          ],
          "scattercarpet": [
           {
            "marker": {
             "colorbar": {
              "outlinewidth": 0,
              "ticks": ""
             }
            },
            "type": "scattercarpet"
           }
          ],
          "scattergeo": [
           {
            "marker": {
             "colorbar": {
              "outlinewidth": 0,
              "ticks": ""
             }
            },
            "type": "scattergeo"
           }
          ],
          "scattergl": [
           {
            "marker": {
             "colorbar": {
              "outlinewidth": 0,
              "ticks": ""
             }
            },
            "type": "scattergl"
           }
          ],
          "scattermapbox": [
           {
            "marker": {
             "colorbar": {
              "outlinewidth": 0,
              "ticks": ""
             }
            },
            "type": "scattermapbox"
           }
          ],
          "scatterpolar": [
           {
            "marker": {
             "colorbar": {
              "outlinewidth": 0,
              "ticks": ""
             }
            },
            "type": "scatterpolar"
           }
          ],
          "scatterpolargl": [
           {
            "marker": {
             "colorbar": {
              "outlinewidth": 0,
              "ticks": ""
             }
            },
            "type": "scatterpolargl"
           }
          ],
          "scatterternary": [
           {
            "marker": {
             "colorbar": {
              "outlinewidth": 0,
              "ticks": ""
             }
            },
            "type": "scatterternary"
           }
          ],
          "surface": [
           {
            "colorbar": {
             "outlinewidth": 0,
             "ticks": ""
            },
            "colorscale": [
             [
              0,
              "#0d0887"
             ],
             [
              0.1111111111111111,
              "#46039f"
             ],
             [
              0.2222222222222222,
              "#7201a8"
             ],
             [
              0.3333333333333333,
              "#9c179e"
             ],
             [
              0.4444444444444444,
              "#bd3786"
             ],
             [
              0.5555555555555556,
              "#d8576b"
             ],
             [
              0.6666666666666666,
              "#ed7953"
             ],
             [
              0.7777777777777778,
              "#fb9f3a"
             ],
             [
              0.8888888888888888,
              "#fdca26"
             ],
             [
              1,
              "#f0f921"
             ]
            ],
            "type": "surface"
           }
          ],
          "table": [
           {
            "cells": {
             "fill": {
              "color": "#EBF0F8"
             },
             "line": {
              "color": "white"
             }
            },
            "header": {
             "fill": {
              "color": "#C8D4E3"
             },
             "line": {
              "color": "white"
             }
            },
            "type": "table"
           }
          ]
         },
         "layout": {
          "annotationdefaults": {
           "arrowcolor": "#2a3f5f",
           "arrowhead": 0,
           "arrowwidth": 1
          },
          "autotypenumbers": "strict",
          "coloraxis": {
           "colorbar": {
            "outlinewidth": 0,
            "ticks": ""
           }
          },
          "colorscale": {
           "diverging": [
            [
             0,
             "#8e0152"
            ],
            [
             0.1,
             "#c51b7d"
            ],
            [
             0.2,
             "#de77ae"
            ],
            [
             0.3,
             "#f1b6da"
            ],
            [
             0.4,
             "#fde0ef"
            ],
            [
             0.5,
             "#f7f7f7"
            ],
            [
             0.6,
             "#e6f5d0"
            ],
            [
             0.7,
             "#b8e186"
            ],
            [
             0.8,
             "#7fbc41"
            ],
            [
             0.9,
             "#4d9221"
            ],
            [
             1,
             "#276419"
            ]
           ],
           "sequential": [
            [
             0,
             "#0d0887"
            ],
            [
             0.1111111111111111,
             "#46039f"
            ],
            [
             0.2222222222222222,
             "#7201a8"
            ],
            [
             0.3333333333333333,
             "#9c179e"
            ],
            [
             0.4444444444444444,
             "#bd3786"
            ],
            [
             0.5555555555555556,
             "#d8576b"
            ],
            [
             0.6666666666666666,
             "#ed7953"
            ],
            [
             0.7777777777777778,
             "#fb9f3a"
            ],
            [
             0.8888888888888888,
             "#fdca26"
            ],
            [
             1,
             "#f0f921"
            ]
           ],
           "sequentialminus": [
            [
             0,
             "#0d0887"
            ],
            [
             0.1111111111111111,
             "#46039f"
            ],
            [
             0.2222222222222222,
             "#7201a8"
            ],
            [
             0.3333333333333333,
             "#9c179e"
            ],
            [
             0.4444444444444444,
             "#bd3786"
            ],
            [
             0.5555555555555556,
             "#d8576b"
            ],
            [
             0.6666666666666666,
             "#ed7953"
            ],
            [
             0.7777777777777778,
             "#fb9f3a"
            ],
            [
             0.8888888888888888,
             "#fdca26"
            ],
            [
             1,
             "#f0f921"
            ]
           ]
          },
          "colorway": [
           "#636efa",
           "#EF553B",
           "#00cc96",
           "#ab63fa",
           "#FFA15A",
           "#19d3f3",
           "#FF6692",
           "#B6E880",
           "#FF97FF",
           "#FECB52"
          ],
          "font": {
           "color": "#2a3f5f"
          },
          "geo": {
           "bgcolor": "white",
           "lakecolor": "white",
           "landcolor": "#E5ECF6",
           "showlakes": true,
           "showland": true,
           "subunitcolor": "white"
          },
          "hoverlabel": {
           "align": "left"
          },
          "hovermode": "closest",
          "mapbox": {
           "style": "light"
          },
          "paper_bgcolor": "white",
          "plot_bgcolor": "#E5ECF6",
          "polar": {
           "angularaxis": {
            "gridcolor": "white",
            "linecolor": "white",
            "ticks": ""
           },
           "bgcolor": "#E5ECF6",
           "radialaxis": {
            "gridcolor": "white",
            "linecolor": "white",
            "ticks": ""
           }
          },
          "scene": {
           "xaxis": {
            "backgroundcolor": "#E5ECF6",
            "gridcolor": "white",
            "gridwidth": 2,
            "linecolor": "white",
            "showbackground": true,
            "ticks": "",
            "zerolinecolor": "white"
           },
           "yaxis": {
            "backgroundcolor": "#E5ECF6",
            "gridcolor": "white",
            "gridwidth": 2,
            "linecolor": "white",
            "showbackground": true,
            "ticks": "",
            "zerolinecolor": "white"
           },
           "zaxis": {
            "backgroundcolor": "#E5ECF6",
            "gridcolor": "white",
            "gridwidth": 2,
            "linecolor": "white",
            "showbackground": true,
            "ticks": "",
            "zerolinecolor": "white"
           }
          },
          "shapedefaults": {
           "line": {
            "color": "#2a3f5f"
           }
          },
          "ternary": {
           "aaxis": {
            "gridcolor": "white",
            "linecolor": "white",
            "ticks": ""
           },
           "baxis": {
            "gridcolor": "white",
            "linecolor": "white",
            "ticks": ""
           },
           "bgcolor": "#E5ECF6",
           "caxis": {
            "gridcolor": "white",
            "linecolor": "white",
            "ticks": ""
           }
          },
          "title": {
           "x": 0.05
          },
          "xaxis": {
           "automargin": true,
           "gridcolor": "white",
           "linecolor": "white",
           "ticks": "",
           "title": {
            "standoff": 15
           },
           "zerolinecolor": "white",
           "zerolinewidth": 2
          },
          "yaxis": {
           "automargin": true,
           "gridcolor": "white",
           "linecolor": "white",
           "ticks": "",
           "title": {
            "standoff": 15
           },
           "zerolinecolor": "white",
           "zerolinewidth": 2
          }
         }
        },
        "title": {
         "text": "Portfolio Value Over Time"
        },
        "xaxis": {
         "title": {
          "text": "Date"
         }
        },
        "yaxis": {
         "title": {
          "text": "Portfolio Value"
         }
        }
       }
      }
     },
     "metadata": {},
     "output_type": "display_data"
    }
   ],
   "source": [
    "# Interactive Plot for Portfolio Value\n",
    "fig = go.Figure()\n",
    "fig.add_trace(go.Scatter(x=dates, y=portfolio_values, mode='lines', name='Portfolio Value'))\n",
    "fig.update_layout(title='Portfolio Value Over Time', xaxis_title='Date', yaxis_title='Portfolio Value')\n",
    "fig.show()"
   ]
  },
  {
   "cell_type": "code",
   "execution_count": 47,
   "metadata": {},
   "outputs": [
    {
     "data": {
      "application/vnd.plotly.v1+json": {
       "config": {
        "plotlyServerURL": "https://plot.ly"
       },
       "data": [
        {
         "mode": "lines",
         "name": "Portfolio Value",
         "type": "scatter",
         "x": [
          "2024-05-17T00:00:00",
          "2024-05-20T00:00:00",
          "2024-05-21T00:00:00",
          "2024-05-22T00:00:00",
          "2024-05-23T00:00:00",
          "2024-05-24T00:00:00",
          "2024-05-27T00:00:00",
          "2024-05-28T00:00:00",
          "2024-05-29T00:00:00",
          "2024-05-30T00:00:00",
          "2024-05-31T00:00:00",
          "2024-06-03T00:00:00",
          "2024-06-04T00:00:00",
          "2024-06-05T00:00:00",
          "2024-06-06T00:00:00",
          "2024-06-07T00:00:00",
          "2024-06-11T00:00:00",
          "2024-06-12T00:00:00",
          "2024-06-13T00:00:00",
          "2024-06-14T00:00:00",
          "2024-06-17T00:00:00",
          "2024-06-18T00:00:00",
          "2024-06-19T00:00:00",
          "2024-06-20T00:00:00",
          "2024-06-21T00:00:00",
          "2024-06-24T00:00:00",
          "2024-06-25T00:00:00",
          "2024-06-26T00:00:00",
          "2024-06-27T00:00:00",
          "2024-06-28T00:00:00",
          "2024-07-01T00:00:00",
          "2024-07-02T00:00:00",
          "2024-07-03T00:00:00",
          "2024-07-04T00:00:00",
          "2024-07-05T00:00:00",
          "2024-07-08T00:00:00",
          "2024-07-09T00:00:00",
          "2024-07-10T00:00:00",
          "2024-07-11T00:00:00",
          "2024-07-12T00:00:00",
          "2024-07-15T00:00:00",
          "2024-07-16T00:00:00",
          "2024-07-17T00:00:00",
          "2024-07-18T00:00:00",
          "2024-07-19T00:00:00",
          "2024-07-22T00:00:00",
          "2024-07-23T00:00:00",
          "2024-07-24T00:00:00",
          "2024-07-25T00:00:00",
          "2024-07-26T00:00:00",
          "2024-07-29T00:00:00",
          "2024-07-30T00:00:00",
          "2024-07-31T00:00:00",
          "2024-08-01T00:00:00",
          "2024-08-02T00:00:00",
          "2024-08-05T00:00:00",
          "2024-08-06T00:00:00",
          "2024-08-07T00:00:00",
          "2024-08-08T00:00:00",
          "2024-08-09T00:00:00"
         ],
         "y": [
          40000,
          39858.097202181816,
          39439.75269258022,
          39311.29252374172,
          39081.14128768444,
          39053.82602870464,
          39796.72039210796,
          40115.44146001339,
          40613.634747862816,
          39767.96055495739,
          39785.26541650295,
          39690.952164530754,
          40055.8249181509,
          39701.960951685905,
          40084.78834092617,
          40178.8006490469,
          39582.31239974499,
          39864.154126644135,
          39683.97438764572,
          39553.13862800598,
          39353.07762861252,
          39675.55920565128,
          39677.12712967396,
          39983.583302140236,
          39797.61509382725,
          39410.191912293434,
          39441.01197206974,
          39578.438098073006,
          39252.19885790348,
          39997.22138130665,
          40507.36026251316,
          40396.3205524683,
          40215.45031750202,
          40180.84367001057,
          40329.843861699104,
          40388.3007594347,
          40717.44476044178,
          40214.6708779335,
          40608.39225578308,
          39800.347667217255,
          40119.06842517853,
          40512.79035139084,
          40045.25828886032,
          40185.732191085815,
          39789.3264465332,
          39582.190316200256,
          39088.43772935867,
          39099.29017353058,
          38493.768333017826,
          38640.388940393925,
          38927.310310423374,
          38710.510121405125,
          39043.65018469095,
          39115.150271475315,
          38583.74987703562,
          37515.70719641447,
          37651.90736216307,
          37860.307289779186,
          37536.807061851025,
          37778.3071295619
         ]
        }
       ],
       "layout": {
        "template": {
         "data": {
          "bar": [
           {
            "error_x": {
             "color": "#2a3f5f"
            },
            "error_y": {
             "color": "#2a3f5f"
            },
            "marker": {
             "line": {
              "color": "#E5ECF6",
              "width": 0.5
             },
             "pattern": {
              "fillmode": "overlay",
              "size": 10,
              "solidity": 0.2
             }
            },
            "type": "bar"
           }
          ],
          "barpolar": [
           {
            "marker": {
             "line": {
              "color": "#E5ECF6",
              "width": 0.5
             },
             "pattern": {
              "fillmode": "overlay",
              "size": 10,
              "solidity": 0.2
             }
            },
            "type": "barpolar"
           }
          ],
          "carpet": [
           {
            "aaxis": {
             "endlinecolor": "#2a3f5f",
             "gridcolor": "white",
             "linecolor": "white",
             "minorgridcolor": "white",
             "startlinecolor": "#2a3f5f"
            },
            "baxis": {
             "endlinecolor": "#2a3f5f",
             "gridcolor": "white",
             "linecolor": "white",
             "minorgridcolor": "white",
             "startlinecolor": "#2a3f5f"
            },
            "type": "carpet"
           }
          ],
          "choropleth": [
           {
            "colorbar": {
             "outlinewidth": 0,
             "ticks": ""
            },
            "type": "choropleth"
           }
          ],
          "contour": [
           {
            "colorbar": {
             "outlinewidth": 0,
             "ticks": ""
            },
            "colorscale": [
             [
              0,
              "#0d0887"
             ],
             [
              0.1111111111111111,
              "#46039f"
             ],
             [
              0.2222222222222222,
              "#7201a8"
             ],
             [
              0.3333333333333333,
              "#9c179e"
             ],
             [
              0.4444444444444444,
              "#bd3786"
             ],
             [
              0.5555555555555556,
              "#d8576b"
             ],
             [
              0.6666666666666666,
              "#ed7953"
             ],
             [
              0.7777777777777778,
              "#fb9f3a"
             ],
             [
              0.8888888888888888,
              "#fdca26"
             ],
             [
              1,
              "#f0f921"
             ]
            ],
            "type": "contour"
           }
          ],
          "contourcarpet": [
           {
            "colorbar": {
             "outlinewidth": 0,
             "ticks": ""
            },
            "type": "contourcarpet"
           }
          ],
          "heatmap": [
           {
            "colorbar": {
             "outlinewidth": 0,
             "ticks": ""
            },
            "colorscale": [
             [
              0,
              "#0d0887"
             ],
             [
              0.1111111111111111,
              "#46039f"
             ],
             [
              0.2222222222222222,
              "#7201a8"
             ],
             [
              0.3333333333333333,
              "#9c179e"
             ],
             [
              0.4444444444444444,
              "#bd3786"
             ],
             [
              0.5555555555555556,
              "#d8576b"
             ],
             [
              0.6666666666666666,
              "#ed7953"
             ],
             [
              0.7777777777777778,
              "#fb9f3a"
             ],
             [
              0.8888888888888888,
              "#fdca26"
             ],
             [
              1,
              "#f0f921"
             ]
            ],
            "type": "heatmap"
           }
          ],
          "heatmapgl": [
           {
            "colorbar": {
             "outlinewidth": 0,
             "ticks": ""
            },
            "colorscale": [
             [
              0,
              "#0d0887"
             ],
             [
              0.1111111111111111,
              "#46039f"
             ],
             [
              0.2222222222222222,
              "#7201a8"
             ],
             [
              0.3333333333333333,
              "#9c179e"
             ],
             [
              0.4444444444444444,
              "#bd3786"
             ],
             [
              0.5555555555555556,
              "#d8576b"
             ],
             [
              0.6666666666666666,
              "#ed7953"
             ],
             [
              0.7777777777777778,
              "#fb9f3a"
             ],
             [
              0.8888888888888888,
              "#fdca26"
             ],
             [
              1,
              "#f0f921"
             ]
            ],
            "type": "heatmapgl"
           }
          ],
          "histogram": [
           {
            "marker": {
             "pattern": {
              "fillmode": "overlay",
              "size": 10,
              "solidity": 0.2
             }
            },
            "type": "histogram"
           }
          ],
          "histogram2d": [
           {
            "colorbar": {
             "outlinewidth": 0,
             "ticks": ""
            },
            "colorscale": [
             [
              0,
              "#0d0887"
             ],
             [
              0.1111111111111111,
              "#46039f"
             ],
             [
              0.2222222222222222,
              "#7201a8"
             ],
             [
              0.3333333333333333,
              "#9c179e"
             ],
             [
              0.4444444444444444,
              "#bd3786"
             ],
             [
              0.5555555555555556,
              "#d8576b"
             ],
             [
              0.6666666666666666,
              "#ed7953"
             ],
             [
              0.7777777777777778,
              "#fb9f3a"
             ],
             [
              0.8888888888888888,
              "#fdca26"
             ],
             [
              1,
              "#f0f921"
             ]
            ],
            "type": "histogram2d"
           }
          ],
          "histogram2dcontour": [
           {
            "colorbar": {
             "outlinewidth": 0,
             "ticks": ""
            },
            "colorscale": [
             [
              0,
              "#0d0887"
             ],
             [
              0.1111111111111111,
              "#46039f"
             ],
             [
              0.2222222222222222,
              "#7201a8"
             ],
             [
              0.3333333333333333,
              "#9c179e"
             ],
             [
              0.4444444444444444,
              "#bd3786"
             ],
             [
              0.5555555555555556,
              "#d8576b"
             ],
             [
              0.6666666666666666,
              "#ed7953"
             ],
             [
              0.7777777777777778,
              "#fb9f3a"
             ],
             [
              0.8888888888888888,
              "#fdca26"
             ],
             [
              1,
              "#f0f921"
             ]
            ],
            "type": "histogram2dcontour"
           }
          ],
          "mesh3d": [
           {
            "colorbar": {
             "outlinewidth": 0,
             "ticks": ""
            },
            "type": "mesh3d"
           }
          ],
          "parcoords": [
           {
            "line": {
             "colorbar": {
              "outlinewidth": 0,
              "ticks": ""
             }
            },
            "type": "parcoords"
           }
          ],
          "pie": [
           {
            "automargin": true,
            "type": "pie"
           }
          ],
          "scatter": [
           {
            "fillpattern": {
             "fillmode": "overlay",
             "size": 10,
             "solidity": 0.2
            },
            "type": "scatter"
           }
          ],
          "scatter3d": [
           {
            "line": {
             "colorbar": {
              "outlinewidth": 0,
              "ticks": ""
             }
            },
            "marker": {
             "colorbar": {
              "outlinewidth": 0,
              "ticks": ""
             }
            },
            "type": "scatter3d"
           }
          ],
          "scattercarpet": [
           {
            "marker": {
             "colorbar": {
              "outlinewidth": 0,
              "ticks": ""
             }
            },
            "type": "scattercarpet"
           }
          ],
          "scattergeo": [
           {
            "marker": {
             "colorbar": {
              "outlinewidth": 0,
              "ticks": ""
             }
            },
            "type": "scattergeo"
           }
          ],
          "scattergl": [
           {
            "marker": {
             "colorbar": {
              "outlinewidth": 0,
              "ticks": ""
             }
            },
            "type": "scattergl"
           }
          ],
          "scattermapbox": [
           {
            "marker": {
             "colorbar": {
              "outlinewidth": 0,
              "ticks": ""
             }
            },
            "type": "scattermapbox"
           }
          ],
          "scatterpolar": [
           {
            "marker": {
             "colorbar": {
              "outlinewidth": 0,
              "ticks": ""
             }
            },
            "type": "scatterpolar"
           }
          ],
          "scatterpolargl": [
           {
            "marker": {
             "colorbar": {
              "outlinewidth": 0,
              "ticks": ""
             }
            },
            "type": "scatterpolargl"
           }
          ],
          "scatterternary": [
           {
            "marker": {
             "colorbar": {
              "outlinewidth": 0,
              "ticks": ""
             }
            },
            "type": "scatterternary"
           }
          ],
          "surface": [
           {
            "colorbar": {
             "outlinewidth": 0,
             "ticks": ""
            },
            "colorscale": [
             [
              0,
              "#0d0887"
             ],
             [
              0.1111111111111111,
              "#46039f"
             ],
             [
              0.2222222222222222,
              "#7201a8"
             ],
             [
              0.3333333333333333,
              "#9c179e"
             ],
             [
              0.4444444444444444,
              "#bd3786"
             ],
             [
              0.5555555555555556,
              "#d8576b"
             ],
             [
              0.6666666666666666,
              "#ed7953"
             ],
             [
              0.7777777777777778,
              "#fb9f3a"
             ],
             [
              0.8888888888888888,
              "#fdca26"
             ],
             [
              1,
              "#f0f921"
             ]
            ],
            "type": "surface"
           }
          ],
          "table": [
           {
            "cells": {
             "fill": {
              "color": "#EBF0F8"
             },
             "line": {
              "color": "white"
             }
            },
            "header": {
             "fill": {
              "color": "#C8D4E3"
             },
             "line": {
              "color": "white"
             }
            },
            "type": "table"
           }
          ]
         },
         "layout": {
          "annotationdefaults": {
           "arrowcolor": "#2a3f5f",
           "arrowhead": 0,
           "arrowwidth": 1
          },
          "autotypenumbers": "strict",
          "coloraxis": {
           "colorbar": {
            "outlinewidth": 0,
            "ticks": ""
           }
          },
          "colorscale": {
           "diverging": [
            [
             0,
             "#8e0152"
            ],
            [
             0.1,
             "#c51b7d"
            ],
            [
             0.2,
             "#de77ae"
            ],
            [
             0.3,
             "#f1b6da"
            ],
            [
             0.4,
             "#fde0ef"
            ],
            [
             0.5,
             "#f7f7f7"
            ],
            [
             0.6,
             "#e6f5d0"
            ],
            [
             0.7,
             "#b8e186"
            ],
            [
             0.8,
             "#7fbc41"
            ],
            [
             0.9,
             "#4d9221"
            ],
            [
             1,
             "#276419"
            ]
           ],
           "sequential": [
            [
             0,
             "#0d0887"
            ],
            [
             0.1111111111111111,
             "#46039f"
            ],
            [
             0.2222222222222222,
             "#7201a8"
            ],
            [
             0.3333333333333333,
             "#9c179e"
            ],
            [
             0.4444444444444444,
             "#bd3786"
            ],
            [
             0.5555555555555556,
             "#d8576b"
            ],
            [
             0.6666666666666666,
             "#ed7953"
            ],
            [
             0.7777777777777778,
             "#fb9f3a"
            ],
            [
             0.8888888888888888,
             "#fdca26"
            ],
            [
             1,
             "#f0f921"
            ]
           ],
           "sequentialminus": [
            [
             0,
             "#0d0887"
            ],
            [
             0.1111111111111111,
             "#46039f"
            ],
            [
             0.2222222222222222,
             "#7201a8"
            ],
            [
             0.3333333333333333,
             "#9c179e"
            ],
            [
             0.4444444444444444,
             "#bd3786"
            ],
            [
             0.5555555555555556,
             "#d8576b"
            ],
            [
             0.6666666666666666,
             "#ed7953"
            ],
            [
             0.7777777777777778,
             "#fb9f3a"
            ],
            [
             0.8888888888888888,
             "#fdca26"
            ],
            [
             1,
             "#f0f921"
            ]
           ]
          },
          "colorway": [
           "#636efa",
           "#EF553B",
           "#00cc96",
           "#ab63fa",
           "#FFA15A",
           "#19d3f3",
           "#FF6692",
           "#B6E880",
           "#FF97FF",
           "#FECB52"
          ],
          "font": {
           "color": "#2a3f5f"
          },
          "geo": {
           "bgcolor": "white",
           "lakecolor": "white",
           "landcolor": "#E5ECF6",
           "showlakes": true,
           "showland": true,
           "subunitcolor": "white"
          },
          "hoverlabel": {
           "align": "left"
          },
          "hovermode": "closest",
          "mapbox": {
           "style": "light"
          },
          "paper_bgcolor": "white",
          "plot_bgcolor": "#E5ECF6",
          "polar": {
           "angularaxis": {
            "gridcolor": "white",
            "linecolor": "white",
            "ticks": ""
           },
           "bgcolor": "#E5ECF6",
           "radialaxis": {
            "gridcolor": "white",
            "linecolor": "white",
            "ticks": ""
           }
          },
          "scene": {
           "xaxis": {
            "backgroundcolor": "#E5ECF6",
            "gridcolor": "white",
            "gridwidth": 2,
            "linecolor": "white",
            "showbackground": true,
            "ticks": "",
            "zerolinecolor": "white"
           },
           "yaxis": {
            "backgroundcolor": "#E5ECF6",
            "gridcolor": "white",
            "gridwidth": 2,
            "linecolor": "white",
            "showbackground": true,
            "ticks": "",
            "zerolinecolor": "white"
           },
           "zaxis": {
            "backgroundcolor": "#E5ECF6",
            "gridcolor": "white",
            "gridwidth": 2,
            "linecolor": "white",
            "showbackground": true,
            "ticks": "",
            "zerolinecolor": "white"
           }
          },
          "shapedefaults": {
           "line": {
            "color": "#2a3f5f"
           }
          },
          "ternary": {
           "aaxis": {
            "gridcolor": "white",
            "linecolor": "white",
            "ticks": ""
           },
           "baxis": {
            "gridcolor": "white",
            "linecolor": "white",
            "ticks": ""
           },
           "bgcolor": "#E5ECF6",
           "caxis": {
            "gridcolor": "white",
            "linecolor": "white",
            "ticks": ""
           }
          },
          "title": {
           "x": 0.05
          },
          "xaxis": {
           "automargin": true,
           "gridcolor": "white",
           "linecolor": "white",
           "ticks": "",
           "title": {
            "standoff": 15
           },
           "zerolinecolor": "white",
           "zerolinewidth": 2
          },
          "yaxis": {
           "automargin": true,
           "gridcolor": "white",
           "linecolor": "white",
           "ticks": "",
           "title": {
            "standoff": 15
           },
           "zerolinecolor": "white",
           "zerolinewidth": 2
          }
         }
        },
        "title": {
         "text": "Portfolio Value Over Time"
        },
        "xaxis": {
         "title": {
          "text": "Date"
         }
        },
        "yaxis": {
         "title": {
          "text": "Portfolio Value"
         }
        }
       }
      }
     },
     "metadata": {},
     "output_type": "display_data"
    }
   ],
   "source": [
    "# Interactive Plot for Portfolio Value\n",
    "fig = go.Figure()\n",
    "fig.add_trace(go.Scatter(x=dates, y=portfolio_values1, mode='lines', name='Portfolio Value'))\n",
    "fig.update_layout(title='Portfolio Value Over Time', xaxis_title='Date', yaxis_title='Portfolio Value')\n",
    "fig.show()"
   ]
  },
  {
   "cell_type": "markdown",
   "metadata": {},
   "source": [
    "### Visualization"
   ]
  },
  {
   "cell_type": "code",
   "execution_count": 48,
   "metadata": {},
   "outputs": [],
   "source": [
    "# 历史仓位的堆积面积图\n",
    "def plot_historical_positions(dates, positions, stock_names, stock_prices):\n",
    "    dates = dates[1:]\n",
    "    # 计算每个股票价值\n",
    "    stock_values = positions[1:] * stock_prices[window:]\n",
    "    # print(stock_values)\n",
    "    \n",
    "    # 计算总资产\n",
    "    total_portfolio_value = stock_values.sum(axis=1).values.reshape(-1, 1)  # 移除 keepdims 并调整形状\n",
    "    \n",
    "    # 计算每个股票在总资产中的权重\n",
    "    positions_weight = stock_values / total_portfolio_value * 100\n",
    "   # 累积求和以形成堆积图效果\n",
    "    cumulative_weights = np.cumsum(positions_weight, axis=1)\n",
    "    fig = go.Figure()\n",
    "\n",
    "    # 创建堆积面积图\n",
    "    for i, stock in enumerate(stock_names):\n",
    "        fig.add_trace(go.Scatter(\n",
    "            x=dates,\n",
    "            y=cumulative_weights.iloc[:, i],\n",
    "            mode='none',  # 不显示线，只显示堆积部分\n",
    "            fill='tonexty' if i > 0 else 'tozeroy',  # 第一个是从零开始填充，后面的堆积在前面的基础上\n",
    "            name=stock,\n",
    "            hoverinfo='text',  # 使用自定义的 hover 信息\n",
    "            text=[f\"{stock}: {p:.2f}%\" for p in positions_weight.iloc[:, i]],  # 生成每个点的具体信息\n",
    "            hovertemplate=\"%{text}<extra></extra>\"  # 显示自定义的文本信息\n",
    "        ))\n",
    "    \n",
    "    fig.update_layout(\n",
    "        title=\"Historical Stock Positions Over Time\",\n",
    "        xaxis_title=\"Date\",\n",
    "        yaxis_title=\"Position Percentage (%)\",\n",
    "        yaxis=dict(range=[0, 100]),  # 确保Y轴从0到100%\n",
    "        showlegend=True,\n",
    "        hovermode=\"x unified\"  # 使得悬停时显示统一的标签框\n",
    "    )\n",
    "    \n",
    "    fig.show()\n",
    "    \n",
    "# 当前仓位的饼图\n",
    "def plot_current_positions(weights, stock_names, threshold=0.03):\n",
    "    # 合并小份额\n",
    "    other_weight = 0\n",
    "    filtered_weights = []\n",
    "    filtered_symbols = []\n",
    "    for weight, symbol in zip(weights, stock_names):\n",
    "        if weight < threshold:\n",
    "            other_weight += weight\n",
    "        else:\n",
    "            filtered_weights.append(weight)\n",
    "            filtered_symbols.append(symbol)\n",
    "    \n",
    "    if other_weight > 0:\n",
    "        filtered_weights.append(other_weight)\n",
    "        filtered_symbols.append(\"Other\")\n",
    "    \n",
    "    fig = go.Figure(data=[go.Pie(\n",
    "        labels=filtered_symbols,\n",
    "        values=filtered_weights,\n",
    "        textinfo='label+percent',\n",
    "        hoverinfo='label+percent+value',\n",
    "        textfont=dict(size=12),\n",
    "        hole=0.3  # 如果你想要甜甜圈图效果\n",
    "    )])\n",
    "    \n",
    "    fig.update_traces(marker=dict(line=dict(color='#000000', width=2)))\n",
    "    \n",
    "    fig.update_layout(\n",
    "        title_text=\"Current Portfolio Positions\",\n",
    "        annotations=[dict(text='Portfolio', x=0.5, y=0.5, font_size=15, showarrow=False)]\n",
    "    )\n",
    "    \n",
    "    fig.show()\n",
    "  \n",
    "# 仓位调整提示的热力图\n",
    "def plot_adjustment_heatmap(dates, adjustments, stock_names):\n",
    "    disp_dates = pd.to_datetime(dates[-30:])\n",
    "    disp_adjustments = adjustments[-30:]\n",
    "    \n",
    "    # 设置图像大小\n",
    "    plt.figure(figsize=(12, 8))\n",
    "    # 创建热力图\n",
    "    sns.heatmap(disp_adjustments.T, cmap=\"coolwarm\", center=0, linewidths=0.1, linecolor='black', \n",
    "                cbar_kws={'label': 'Adjustment Signal'}, yticklabels=stock_names, xticklabels=disp_dates.strftime('%m-%d'))\n",
    "    \n",
    "    plt.title(\"Position Adjustment Signals Over Last 30 Days\")\n",
    "    plt.xlabel(\"Date\")\n",
    "    plt.ylabel(\"Stock Symbol\")\n",
    "   \n",
    "    plt.show()\n",
    "    \n",
    "# 仓位调整表格\n",
    "def display_position_table(stock_symbols, final_weights, adjustments):\n",
    "    print(len(stock_symbols))\n",
    "    print(len(final_weights))\n",
    "    print(len(adjustments[-1]))\n",
    "    data = {\n",
    "        \"Stock Symbol\": stock_symbols,\n",
    "        \"Current Position\": final_weights,\n",
    "        \"Adjustment Signal\": adjustments[-1]  # 显示最新的调整信号\n",
    "    }\n",
    "    df = pd.DataFrame(data)\n",
    "    print(df)    "
   ]
  },
  {
   "cell_type": "code",
   "execution_count": 49,
   "metadata": {},
   "outputs": [
    {
     "data": {
      "application/vnd.plotly.v1+json": {
       "config": {
        "plotlyServerURL": "https://plot.ly"
       },
       "data": [
        {
         "fill": "tozeroy",
         "hoverinfo": "text",
         "hovertemplate": "%{text}<extra></extra>",
         "mode": "none",
         "name": "标普500ETF",
         "text": [
          "标普500ETF: 6.57%",
          "标普500ETF: 6.21%",
          "标普500ETF: 6.26%",
          "标普500ETF: 5.94%",
          "标普500ETF: 5.85%",
          "标普500ETF: 5.76%",
          "标普500ETF: 5.71%",
          "标普500ETF: 5.60%",
          "标普500ETF: 5.66%",
          "标普500ETF: 5.66%",
          "标普500ETF: 5.76%",
          "标普500ETF: 5.70%",
          "标普500ETF: 5.79%",
          "标普500ETF: 5.80%",
          "标普500ETF: 5.80%",
          "标普500ETF: 5.94%",
          "标普500ETF: 5.92%",
          "标普500ETF: 6.00%",
          "标普500ETF: 6.01%",
          "标普500ETF: 6.02%",
          "标普500ETF: 6.01%",
          "标普500ETF: 6.02%",
          "标普500ETF: 6.01%",
          "标普500ETF: 6.00%",
          "标普500ETF: 6.07%",
          "标普500ETF: 6.06%",
          "标普500ETF: 6.10%",
          "标普500ETF: 6.21%",
          "标普500ETF: 6.17%",
          "标普500ETF: 6.06%",
          "标普500ETF: 6.09%",
          "标普500ETF: 6.23%",
          "标普500ETF: 6.17%",
          "标普500ETF: 6.19%",
          "标普500ETF: 6.19%",
          "标普500ETF: 6.11%",
          "标普500ETF: 6.15%",
          "标普500ETF: 6.13%",
          "标普500ETF: 6.22%",
          "标普500ETF: 6.30%",
          "标普500ETF: 6.23%",
          "标普500ETF: 6.40%",
          "标普500ETF: 6.30%",
          "标普500ETF: 6.24%",
          "标普500ETF: 6.18%",
          "标普500ETF: 6.37%",
          "标普500ETF: 6.34%",
          "标普500ETF: 6.28%",
          "标普500ETF: 6.30%",
          "标普500ETF: 6.37%",
          "标普500ETF: 6.39%",
          "标普500ETF: 6.27%",
          "标普500ETF: 6.33%",
          "标普500ETF: 6.26%",
          "标普500ETF: 6.01%",
          "标普500ETF: 6.03%",
          "标普500ETF: 6.01%",
          "标普500ETF: 6.04%",
          "标普500ETF: 6.10%"
         ],
         "type": "scatter",
         "x": [
          "2024-05-20T00:00:00",
          "2024-05-21T00:00:00",
          "2024-05-22T00:00:00",
          "2024-05-23T00:00:00",
          "2024-05-24T00:00:00",
          "2024-05-27T00:00:00",
          "2024-05-28T00:00:00",
          "2024-05-29T00:00:00",
          "2024-05-30T00:00:00",
          "2024-05-31T00:00:00",
          "2024-06-03T00:00:00",
          "2024-06-04T00:00:00",
          "2024-06-05T00:00:00",
          "2024-06-06T00:00:00",
          "2024-06-07T00:00:00",
          "2024-06-11T00:00:00",
          "2024-06-12T00:00:00",
          "2024-06-13T00:00:00",
          "2024-06-14T00:00:00",
          "2024-06-17T00:00:00",
          "2024-06-18T00:00:00",
          "2024-06-19T00:00:00",
          "2024-06-20T00:00:00",
          "2024-06-21T00:00:00",
          "2024-06-24T00:00:00",
          "2024-06-25T00:00:00",
          "2024-06-26T00:00:00",
          "2024-06-27T00:00:00",
          "2024-06-28T00:00:00",
          "2024-07-01T00:00:00",
          "2024-07-02T00:00:00",
          "2024-07-03T00:00:00",
          "2024-07-04T00:00:00",
          "2024-07-05T00:00:00",
          "2024-07-08T00:00:00",
          "2024-07-09T00:00:00",
          "2024-07-10T00:00:00",
          "2024-07-11T00:00:00",
          "2024-07-12T00:00:00",
          "2024-07-15T00:00:00",
          "2024-07-16T00:00:00",
          "2024-07-17T00:00:00",
          "2024-07-18T00:00:00",
          "2024-07-19T00:00:00",
          "2024-07-22T00:00:00",
          "2024-07-23T00:00:00",
          "2024-07-24T00:00:00",
          "2024-07-25T00:00:00",
          "2024-07-26T00:00:00",
          "2024-07-29T00:00:00",
          "2024-07-30T00:00:00",
          "2024-07-31T00:00:00",
          "2024-08-01T00:00:00",
          "2024-08-02T00:00:00",
          "2024-08-05T00:00:00",
          "2024-08-06T00:00:00",
          "2024-08-07T00:00:00",
          "2024-08-08T00:00:00",
          "2024-08-09T00:00:00"
         ],
         "y": [
          6.565865556177967,
          6.21075664904015,
          6.258536945979659,
          5.936136785226898,
          5.850590019836332,
          5.75661818097307,
          5.710379465448684,
          5.596986859862036,
          5.657784308979904,
          5.657265441872486,
          5.75886568288545,
          5.702710753434024,
          5.793760344340582,
          5.796527306144065,
          5.804617523353684,
          5.93838904515753,
          5.919895862831528,
          6.00234422367426,
          6.0099787427141385,
          6.01882061758764,
          6.012767103686579,
          6.019343438728762,
          6.009225567084772,
          6.003793328281861,
          6.069981583520243,
          6.056017070745208,
          6.101127399742008,
          6.21474099834836,
          6.169081190769626,
          6.056558371384571,
          6.087607502242799,
          6.228543337812767,
          6.165433054728785,
          6.186986614716132,
          6.188101224320653,
          6.1091927653452585,
          6.152770715803393,
          6.133521544791957,
          6.215567715802321,
          6.295727455817847,
          6.230030825968806,
          6.402544588002236,
          6.300166990157181,
          6.239291636508593,
          6.183531747362713,
          6.365612571488644,
          6.342656867677245,
          6.2777344587611275,
          6.296143245006677,
          6.368427040997368,
          6.388307546529245,
          6.2694308932666925,
          6.327489270085321,
          6.263964374769149,
          6.013461945359057,
          6.033929167070023,
          6.012536281272877,
          6.043422703098962,
          6.103117867133272
         ]
        },
        {
         "fill": "tonexty",
         "hoverinfo": "text",
         "hovertemplate": "%{text}<extra></extra>",
         "mode": "none",
         "name": "纳斯达克ETF",
         "text": [
          "纳斯达克ETF: 6.73%",
          "纳斯达克ETF: 6.41%",
          "纳斯达克ETF: 6.46%",
          "纳斯达克ETF: 6.19%",
          "纳斯达克ETF: 6.08%",
          "纳斯达克ETF: 6.01%",
          "纳斯达克ETF: 5.97%",
          "纳斯达克ETF: 5.85%",
          "纳斯达克ETF: 5.92%",
          "纳斯达克ETF: 5.90%",
          "纳斯达克ETF: 5.94%",
          "纳斯达克ETF: 5.86%",
          "纳斯达克ETF: 5.97%",
          "纳斯达克ETF: 5.99%",
          "纳斯达克ETF: 5.99%",
          "纳斯达克ETF: 6.11%",
          "纳斯达克ETF: 6.15%",
          "纳斯达克ETF: 6.29%",
          "纳斯达克ETF: 6.32%",
          "纳斯达克ETF: 6.40%",
          "纳斯达克ETF: 6.48%",
          "纳斯达克ETF: 6.46%",
          "纳斯达克ETF: 6.46%",
          "纳斯达克ETF: 6.39%",
          "纳斯达克ETF: 6.46%",
          "纳斯达克ETF: 6.37%",
          "纳斯达克ETF: 6.46%",
          "纳斯达克ETF: 6.56%",
          "纳斯达克ETF: 5.94%",
          "纳斯达克ETF: 5.83%",
          "纳斯达克ETF: 5.87%",
          "纳斯达克ETF: 6.03%",
          "纳斯达克ETF: 6.03%",
          "纳斯达克ETF: 6.07%",
          "纳斯达克ETF: 6.21%",
          "纳斯达克ETF: 6.24%",
          "纳斯达克ETF: 6.27%",
          "纳斯达克ETF: 6.19%",
          "纳斯达克ETF: 6.04%",
          "纳斯达克ETF: 6.22%",
          "纳斯达克ETF: 6.14%",
          "纳斯达克ETF: 6.14%",
          "纳斯达克ETF: 6.03%",
          "纳斯达克ETF: 5.97%",
          "纳斯达克ETF: 5.91%",
          "纳斯达克ETF: 6.08%",
          "纳斯达克ETF: 5.97%",
          "纳斯达克ETF: 5.93%",
          "纳斯达克ETF: 5.94%",
          "纳斯达克ETF: 6.07%",
          "纳斯达克ETF: 6.03%",
          "纳斯达克ETF: 6.01%",
          "纳斯达克ETF: 6.05%",
          "纳斯达克ETF: 5.85%",
          "纳斯达克ETF: 6.09%",
          "纳斯达克ETF: 6.26%",
          "纳斯达克ETF: 6.18%",
          "纳斯达克ETF: 6.17%",
          "纳斯达克ETF: 6.27%"
         ],
         "type": "scatter",
         "x": [
          "2024-05-20T00:00:00",
          "2024-05-21T00:00:00",
          "2024-05-22T00:00:00",
          "2024-05-23T00:00:00",
          "2024-05-24T00:00:00",
          "2024-05-27T00:00:00",
          "2024-05-28T00:00:00",
          "2024-05-29T00:00:00",
          "2024-05-30T00:00:00",
          "2024-05-31T00:00:00",
          "2024-06-03T00:00:00",
          "2024-06-04T00:00:00",
          "2024-06-05T00:00:00",
          "2024-06-06T00:00:00",
          "2024-06-07T00:00:00",
          "2024-06-11T00:00:00",
          "2024-06-12T00:00:00",
          "2024-06-13T00:00:00",
          "2024-06-14T00:00:00",
          "2024-06-17T00:00:00",
          "2024-06-18T00:00:00",
          "2024-06-19T00:00:00",
          "2024-06-20T00:00:00",
          "2024-06-21T00:00:00",
          "2024-06-24T00:00:00",
          "2024-06-25T00:00:00",
          "2024-06-26T00:00:00",
          "2024-06-27T00:00:00",
          "2024-06-28T00:00:00",
          "2024-07-01T00:00:00",
          "2024-07-02T00:00:00",
          "2024-07-03T00:00:00",
          "2024-07-04T00:00:00",
          "2024-07-05T00:00:00",
          "2024-07-08T00:00:00",
          "2024-07-09T00:00:00",
          "2024-07-10T00:00:00",
          "2024-07-11T00:00:00",
          "2024-07-12T00:00:00",
          "2024-07-15T00:00:00",
          "2024-07-16T00:00:00",
          "2024-07-17T00:00:00",
          "2024-07-18T00:00:00",
          "2024-07-19T00:00:00",
          "2024-07-22T00:00:00",
          "2024-07-23T00:00:00",
          "2024-07-24T00:00:00",
          "2024-07-25T00:00:00",
          "2024-07-26T00:00:00",
          "2024-07-29T00:00:00",
          "2024-07-30T00:00:00",
          "2024-07-31T00:00:00",
          "2024-08-01T00:00:00",
          "2024-08-02T00:00:00",
          "2024-08-05T00:00:00",
          "2024-08-06T00:00:00",
          "2024-08-07T00:00:00",
          "2024-08-08T00:00:00",
          "2024-08-09T00:00:00"
         ],
         "y": [
          13.299995024272263,
          12.618158757034228,
          12.721053186908794,
          12.12333136930858,
          11.92870314899817,
          11.771248337648492,
          11.684219206844872,
          11.447353026207642,
          11.574648819339224,
          11.556537936700852,
          11.696617087109288,
          11.559313705891219,
          11.759733601283498,
          11.791430203911734,
          11.799535168062986,
          12.045278624653042,
          12.070392247022006,
          12.297102335767391,
          12.325667253826154,
          12.41918308172215,
          12.494669177737725,
          12.48065336616222,
          12.471411038463671,
          12.390586983052925,
          12.530221955107818,
          12.427696674026336,
          12.558916825045646,
          12.777226915497721,
          12.112808102015185,
          11.888343747268912,
          11.959014026175158,
          12.260789520180257,
          12.1905301341724,
          12.256007644357314,
          12.397871912581351,
          12.349996340941445,
          12.42022802330034,
          12.31907383971711,
          12.257956149784285,
          12.513691551071705,
          12.370972944062531,
          12.543124394010356,
          12.329927533041058,
          12.213752322416497,
          12.095190526414534,
          12.448736856864912,
          12.311457773358113,
          12.203968373050248,
          12.236147339100148,
          12.43974691388674,
          12.421709226070089,
          12.274953826792046,
          12.372615746514338,
          12.111860057642483,
          12.102050192549303,
          12.2922909046485,
          12.188084984012434,
          12.214499449784086,
          12.377522140202636
         ]
        },
        {
         "fill": "tonexty",
         "hoverinfo": "text",
         "hovertemplate": "%{text}<extra></extra>",
         "mode": "none",
         "name": "日经ETF",
         "text": [
          "日经ETF: 6.68%",
          "日经ETF: 6.27%",
          "日经ETF: 6.24%",
          "日经ETF: 5.98%",
          "日经ETF: 5.89%",
          "日经ETF: 5.78%",
          "日经ETF: 5.71%",
          "日经ETF: 5.57%",
          "日经ETF: 6.03%",
          "日经ETF: 6.05%",
          "日经ETF: 6.11%",
          "日经ETF: 6.04%",
          "日经ETF: 6.08%",
          "日经ETF: 6.02%",
          "日经ETF: 6.01%",
          "日经ETF: 6.15%",
          "日经ETF: 6.09%",
          "日经ETF: 6.10%",
          "日经ETF: 6.11%",
          "日经ETF: 6.03%",
          "日经ETF: 6.04%",
          "日经ETF: 6.06%",
          "日经ETF: 6.02%",
          "日经ETF: 5.99%",
          "日经ETF: 6.04%",
          "日经ETF: 6.16%",
          "日经ETF: 6.31%",
          "日经ETF: 6.31%",
          "日经ETF: 6.25%",
          "日经ETF: 6.17%",
          "日经ETF: 6.27%",
          "日经ETF: 6.08%",
          "日经ETF: 6.22%",
          "日经ETF: 6.05%",
          "日经ETF: 6.12%",
          "日经ETF: 6.24%",
          "日经ETF: 6.39%",
          "日经ETF: 6.26%",
          "日经ETF: 6.12%",
          "日经ETF: 6.15%",
          "日经ETF: 6.12%",
          "日经ETF: 6.16%",
          "日经ETF: 6.04%",
          "日经ETF: 6.04%",
          "日经ETF: 5.98%",
          "日经ETF: 6.12%",
          "日经ETF: 6.10%",
          "日经ETF: 6.04%",
          "日经ETF: 6.04%",
          "日经ETF: 6.25%",
          "日经ETF: 6.22%",
          "日经ETF: 6.24%",
          "日经ETF: 6.15%",
          "日经ETF: 6.00%",
          "日经ETF: 6.07%",
          "日经ETF: 6.23%",
          "日经ETF: 6.24%",
          "日经ETF: 6.32%",
          "日经ETF: 6.26%"
         ],
         "type": "scatter",
         "x": [
          "2024-05-20T00:00:00",
          "2024-05-21T00:00:00",
          "2024-05-22T00:00:00",
          "2024-05-23T00:00:00",
          "2024-05-24T00:00:00",
          "2024-05-27T00:00:00",
          "2024-05-28T00:00:00",
          "2024-05-29T00:00:00",
          "2024-05-30T00:00:00",
          "2024-05-31T00:00:00",
          "2024-06-03T00:00:00",
          "2024-06-04T00:00:00",
          "2024-06-05T00:00:00",
          "2024-06-06T00:00:00",
          "2024-06-07T00:00:00",
          "2024-06-11T00:00:00",
          "2024-06-12T00:00:00",
          "2024-06-13T00:00:00",
          "2024-06-14T00:00:00",
          "2024-06-17T00:00:00",
          "2024-06-18T00:00:00",
          "2024-06-19T00:00:00",
          "2024-06-20T00:00:00",
          "2024-06-21T00:00:00",
          "2024-06-24T00:00:00",
          "2024-06-25T00:00:00",
          "2024-06-26T00:00:00",
          "2024-06-27T00:00:00",
          "2024-06-28T00:00:00",
          "2024-07-01T00:00:00",
          "2024-07-02T00:00:00",
          "2024-07-03T00:00:00",
          "2024-07-04T00:00:00",
          "2024-07-05T00:00:00",
          "2024-07-08T00:00:00",
          "2024-07-09T00:00:00",
          "2024-07-10T00:00:00",
          "2024-07-11T00:00:00",
          "2024-07-12T00:00:00",
          "2024-07-15T00:00:00",
          "2024-07-16T00:00:00",
          "2024-07-17T00:00:00",
          "2024-07-18T00:00:00",
          "2024-07-19T00:00:00",
          "2024-07-22T00:00:00",
          "2024-07-23T00:00:00",
          "2024-07-24T00:00:00",
          "2024-07-25T00:00:00",
          "2024-07-26T00:00:00",
          "2024-07-29T00:00:00",
          "2024-07-30T00:00:00",
          "2024-07-31T00:00:00",
          "2024-08-01T00:00:00",
          "2024-08-02T00:00:00",
          "2024-08-05T00:00:00",
          "2024-08-06T00:00:00",
          "2024-08-07T00:00:00",
          "2024-08-08T00:00:00",
          "2024-08-09T00:00:00"
         ],
         "y": [
          19.97863284540684,
          18.883746043077096,
          18.959905142699135,
          18.099920170081674,
          17.815014498405905,
          17.54921063937159,
          17.391180910113544,
          17.020776949479362,
          17.605232888715523,
          17.605146983679262,
          17.803839032934533,
          17.59711275647429,
          17.837692220347037,
          17.813876475452126,
          17.814500806669013,
          18.198065653295963,
          18.163629940505984,
          18.398175570763406,
          18.436075363185765,
          18.45072182024235,
          18.53588806050041,
          18.54425656451353,
          18.488769645831688,
          18.384969911321015,
          18.56778800598068,
          18.585335559209444,
          18.86457275295765,
          19.088315634164545,
          18.361389509998446,
          18.05698073031447,
          18.233172293031338,
          18.340708118262807,
          18.40960293285537,
          18.30143551997667,
          18.522822892112362,
          18.592942336641404,
          18.807021108273403,
          18.58175453586263,
          18.37339455836699,
          18.66820064769606,
          18.489182135826432,
          18.70553457992951,
          18.370566350991815,
          18.250952991418785,
          18.078927147405647,
          18.57070334854937,
          18.407563204093453,
          18.24255114733518,
          18.276132051055924,
          18.690945644846238,
          18.639726909064972,
          18.517350291986354,
          18.521061351724526,
          18.112751385302932,
          18.167393162454538,
          18.524898019590715,
          18.430366176230386,
          18.530699377342174,
          18.640285600345813
         ]
        },
        {
         "fill": "tonexty",
         "hoverinfo": "text",
         "hovertemplate": "%{text}<extra></extra>",
         "mode": "none",
         "name": "黄金ETF",
         "text": [
          "黄金ETF: 5.96%",
          "黄金ETF: 5.57%",
          "黄金ETF: 5.59%",
          "黄金ETF: 5.17%",
          "黄金ETF: 5.14%",
          "黄金ETF: 5.03%",
          "黄金ETF: 4.97%",
          "黄金ETF: 4.93%",
          "黄金ETF: 5.00%",
          "黄金ETF: 5.02%",
          "黄金ETF: 4.99%",
          "黄金ETF: 4.98%",
          "黄金ETF: 5.01%",
          "黄金ETF: 5.01%",
          "黄金ETF: 5.00%",
          "黄金ETF: 4.94%",
          "黄金ETF: 4.94%",
          "黄金ETF: 4.97%",
          "黄金ETF: 4.99%",
          "黄金ETF: 5.04%",
          "黄金ETF: 5.01%",
          "黄金ETF: 5.03%",
          "黄金ETF: 5.02%",
          "黄金ETF: 5.06%",
          "黄金ETF: 5.04%",
          "黄金ETF: 5.05%",
          "黄金ETF: 4.99%",
          "黄金ETF: 5.02%",
          "黄金ETF: 4.97%",
          "黄金ETF: 4.89%",
          "黄金ETF: 4.92%",
          "黄金ETF: 4.99%",
          "黄金ETF: 5.02%",
          "黄金ETF: 5.01%",
          "黄金ETF: 5.00%",
          "黄金ETF: 4.92%",
          "黄金ETF: 5.02%",
          "黄金ETF: 4.97%",
          "黄金ETF: 5.14%",
          "黄金ETF: 5.08%",
          "黄金ETF: 5.07%",
          "黄金ETF: 5.22%",
          "黄金ETF: 5.20%",
          "黄金ETF: 5.13%",
          "黄金ETF: 5.14%",
          "黄金ETF: 5.19%",
          "黄金ETF: 5.28%",
          "黄金ETF: 5.25%",
          "黄金ETF: 5.24%",
          "黄金ETF: 5.22%",
          "黄金ETF: 5.27%",
          "黄金ETF: 5.25%",
          "黄金ETF: 5.28%",
          "黄金ETF: 5.41%",
          "黄金ETF: 5.42%",
          "黄金ETF: 5.35%",
          "黄金ETF: 5.33%",
          "黄金ETF: 5.39%",
          "黄金ETF: 5.38%"
         ],
         "type": "scatter",
         "x": [
          "2024-05-20T00:00:00",
          "2024-05-21T00:00:00",
          "2024-05-22T00:00:00",
          "2024-05-23T00:00:00",
          "2024-05-24T00:00:00",
          "2024-05-27T00:00:00",
          "2024-05-28T00:00:00",
          "2024-05-29T00:00:00",
          "2024-05-30T00:00:00",
          "2024-05-31T00:00:00",
          "2024-06-03T00:00:00",
          "2024-06-04T00:00:00",
          "2024-06-05T00:00:00",
          "2024-06-06T00:00:00",
          "2024-06-07T00:00:00",
          "2024-06-11T00:00:00",
          "2024-06-12T00:00:00",
          "2024-06-13T00:00:00",
          "2024-06-14T00:00:00",
          "2024-06-17T00:00:00",
          "2024-06-18T00:00:00",
          "2024-06-19T00:00:00",
          "2024-06-20T00:00:00",
          "2024-06-21T00:00:00",
          "2024-06-24T00:00:00",
          "2024-06-25T00:00:00",
          "2024-06-26T00:00:00",
          "2024-06-27T00:00:00",
          "2024-06-28T00:00:00",
          "2024-07-01T00:00:00",
          "2024-07-02T00:00:00",
          "2024-07-03T00:00:00",
          "2024-07-04T00:00:00",
          "2024-07-05T00:00:00",
          "2024-07-08T00:00:00",
          "2024-07-09T00:00:00",
          "2024-07-10T00:00:00",
          "2024-07-11T00:00:00",
          "2024-07-12T00:00:00",
          "2024-07-15T00:00:00",
          "2024-07-16T00:00:00",
          "2024-07-17T00:00:00",
          "2024-07-18T00:00:00",
          "2024-07-19T00:00:00",
          "2024-07-22T00:00:00",
          "2024-07-23T00:00:00",
          "2024-07-24T00:00:00",
          "2024-07-25T00:00:00",
          "2024-07-26T00:00:00",
          "2024-07-29T00:00:00",
          "2024-07-30T00:00:00",
          "2024-07-31T00:00:00",
          "2024-08-01T00:00:00",
          "2024-08-02T00:00:00",
          "2024-08-05T00:00:00",
          "2024-08-06T00:00:00",
          "2024-08-07T00:00:00",
          "2024-08-08T00:00:00",
          "2024-08-09T00:00:00"
         ],
         "y": [
          25.939465221579354,
          24.449057675889016,
          24.55186054774474,
          23.268115642036168,
          22.950210481251517,
          22.57573631468279,
          22.362752790509706,
          21.950654291134057,
          22.602315740834303,
          22.62342615408656,
          22.790043726858393,
          22.57317779726408,
          22.847867532801363,
          22.825566693946257,
          22.810111565072646,
          23.137082445850822,
          23.107619371360617,
          23.368267459813183,
          23.430073910255032,
          23.48611845371883,
          23.547159625577105,
          23.575656014107878,
          23.510429969151055,
          23.443965509869095,
          23.611275373481075,
          23.636568443570344,
          23.855629528288418,
          24.10541117610326,
          23.335152580199846,
          22.951800464681227,
          23.149587444080524,
          23.332267370664965,
          23.428957554915538,
          23.312801509483137,
          23.522833400073495,
          23.516412881636,
          23.825636066152526,
          23.55559973629284,
          23.517768842442564,
          23.74646390710242,
          23.562602023743104,
          23.922376828557947,
          23.567038655887107,
          23.382053364001617,
          23.22017348677568,
          23.76527428001988,
          23.69149914803088,
          23.492392923511108,
          23.520195096228452,
          23.91002023225083,
          23.90861544567196,
          23.765906707312926,
          23.796108198141575,
          23.52328365512527,
          23.59062651664197,
          23.87014322487898,
          23.76097287735779,
          23.921405456553174,
          24.02433291931208
         ]
        },
        {
         "fill": "tonexty",
         "hoverinfo": "text",
         "hovertemplate": "%{text}<extra></extra>",
         "mode": "none",
         "name": "纳斯达克100ETF",
         "text": [
          "纳斯达克100ETF: 6.68%",
          "纳斯达克100ETF: 6.34%",
          "纳斯达克100ETF: 6.39%",
          "纳斯达克100ETF: 6.09%",
          "纳斯达克100ETF: 6.02%",
          "纳斯达克100ETF: 5.94%",
          "纳斯达克100ETF: 5.89%",
          "纳斯达克100ETF: 5.78%",
          "纳斯达克100ETF: 5.85%",
          "纳斯达克100ETF: 5.83%",
          "纳斯达克100ETF: 5.88%",
          "纳斯达克100ETF: 5.79%",
          "纳斯达克100ETF: 5.90%",
          "纳斯达克100ETF: 5.93%",
          "纳斯达克100ETF: 5.91%",
          "纳斯达克100ETF: 6.04%",
          "纳斯达克100ETF: 6.06%",
          "纳斯达克100ETF: 6.21%",
          "纳斯达克100ETF: 6.23%",
          "纳斯达克100ETF: 6.31%",
          "纳斯达克100ETF: 6.35%",
          "纳斯达克100ETF: 6.37%",
          "纳斯达克100ETF: 6.33%",
          "纳斯达克100ETF: 6.27%",
          "纳斯达克100ETF: 6.33%",
          "纳斯达克100ETF: 6.28%",
          "纳斯达克100ETF: 6.31%",
          "纳斯达克100ETF: 6.35%",
          "纳斯达克100ETF: 6.30%",
          "纳斯达克100ETF: 6.17%",
          "纳斯达克100ETF: 6.19%",
          "纳斯达克100ETF: 6.37%",
          "纳斯达克100ETF: 6.44%",
          "纳斯达克100ETF: 6.43%",
          "纳斯达克100ETF: 6.43%",
          "纳斯达克100ETF: 6.40%",
          "纳斯达克100ETF: 6.46%",
          "纳斯达克100ETF: 6.45%",
          "纳斯达克100ETF: 6.43%",
          "纳斯达克100ETF: 6.47%",
          "纳斯达克100ETF: 6.37%",
          "纳斯达克100ETF: 6.40%",
          "纳斯达克100ETF: 6.27%",
          "纳斯达克100ETF: 6.30%",
          "纳斯达克100ETF: 6.30%",
          "纳斯达克100ETF: 6.42%",
          "纳斯达克100ETF: 6.37%",
          "纳斯达克100ETF: 6.30%",
          "纳斯达克100ETF: 6.24%",
          "纳斯达克100ETF: 6.26%",
          "纳斯达克100ETF: 6.26%",
          "纳斯达克100ETF: 6.17%",
          "纳斯达克100ETF: 6.30%",
          "纳斯达克100ETF: 6.12%",
          "纳斯达克100ETF: 5.85%",
          "纳斯达克100ETF: 6.03%",
          "纳斯达克100ETF: 6.02%",
          "纳斯达克100ETF: 5.99%",
          "纳斯达克100ETF: 6.11%"
         ],
         "type": "scatter",
         "x": [
          "2024-05-20T00:00:00",
          "2024-05-21T00:00:00",
          "2024-05-22T00:00:00",
          "2024-05-23T00:00:00",
          "2024-05-24T00:00:00",
          "2024-05-27T00:00:00",
          "2024-05-28T00:00:00",
          "2024-05-29T00:00:00",
          "2024-05-30T00:00:00",
          "2024-05-31T00:00:00",
          "2024-06-03T00:00:00",
          "2024-06-04T00:00:00",
          "2024-06-05T00:00:00",
          "2024-06-06T00:00:00",
          "2024-06-07T00:00:00",
          "2024-06-11T00:00:00",
          "2024-06-12T00:00:00",
          "2024-06-13T00:00:00",
          "2024-06-14T00:00:00",
          "2024-06-17T00:00:00",
          "2024-06-18T00:00:00",
          "2024-06-19T00:00:00",
          "2024-06-20T00:00:00",
          "2024-06-21T00:00:00",
          "2024-06-24T00:00:00",
          "2024-06-25T00:00:00",
          "2024-06-26T00:00:00",
          "2024-06-27T00:00:00",
          "2024-06-28T00:00:00",
          "2024-07-01T00:00:00",
          "2024-07-02T00:00:00",
          "2024-07-03T00:00:00",
          "2024-07-04T00:00:00",
          "2024-07-05T00:00:00",
          "2024-07-08T00:00:00",
          "2024-07-09T00:00:00",
          "2024-07-10T00:00:00",
          "2024-07-11T00:00:00",
          "2024-07-12T00:00:00",
          "2024-07-15T00:00:00",
          "2024-07-16T00:00:00",
          "2024-07-17T00:00:00",
          "2024-07-18T00:00:00",
          "2024-07-19T00:00:00",
          "2024-07-22T00:00:00",
          "2024-07-23T00:00:00",
          "2024-07-24T00:00:00",
          "2024-07-25T00:00:00",
          "2024-07-26T00:00:00",
          "2024-07-29T00:00:00",
          "2024-07-30T00:00:00",
          "2024-07-31T00:00:00",
          "2024-08-01T00:00:00",
          "2024-08-02T00:00:00",
          "2024-08-05T00:00:00",
          "2024-08-06T00:00:00",
          "2024-08-07T00:00:00",
          "2024-08-08T00:00:00",
          "2024-08-09T00:00:00"
         ],
         "y": [
          32.61559733949492,
          30.789106196294593,
          30.942084799726373,
          29.36284919252442,
          28.970718821805033,
          28.51566240420217,
          28.253329184562652,
          27.734309571322303,
          28.451825628071028,
          28.45037811589465,
          28.668794081315617,
          28.36276297933128,
          28.746398747433993,
          28.75269357006091,
          28.724529784363476,
          29.17669723442361,
          29.171445213219897,
          29.5825328122692,
          29.66428195985904,
          29.793003036011417,
          29.89755239724695,
          29.945284704014274,
          29.843109029627705,
          29.71124794451133,
          29.941853008323566,
          29.91297754376253,
          30.16949184288535,
          30.45669811750533,
          29.63381295741882,
          29.12228476426154,
          29.339118338307358,
          29.707255008398057,
          29.865707200292718,
          29.746274088430866,
          29.953010372092,
          29.918210217326912,
          30.286510173508496,
          30.00130665753997,
          29.944930333658256,
          30.215137610773713,
          29.93640232422537,
          30.321803013920313,
          29.83674616462254,
          29.681247188330097,
          29.517512535468562,
          30.186742536863314,
          30.061227982313646,
          29.795750653960518,
          29.76210055921336,
          30.172522326562202,
          30.17189203204423,
          29.937498769186938,
          30.091510762788502,
          29.640477483186977,
          29.43631795540329,
          29.8987206215248,
          29.776829164473902,
          29.907719637893216,
          30.13077649510523
         ]
        },
        {
         "fill": "tonexty",
         "hoverinfo": "text",
         "hovertemplate": "%{text}<extra></extra>",
         "mode": "none",
         "name": "煤炭ETF",
         "text": [
          "煤炭ETF: 6.60%",
          "煤炭ETF: 6.27%",
          "煤炭ETF: 6.29%",
          "煤炭ETF: 5.85%",
          "煤炭ETF: 5.85%",
          "煤炭ETF: 5.84%",
          "煤炭ETF: 5.79%",
          "煤炭ETF: 5.77%",
          "煤炭ETF: 5.78%",
          "煤炭ETF: 5.81%",
          "煤炭ETF: 5.79%",
          "煤炭ETF: 5.63%",
          "煤炭ETF: 5.63%",
          "煤炭ETF: 5.62%",
          "煤炭ETF: 5.65%",
          "煤炭ETF: 5.67%",
          "煤炭ETF: 5.85%",
          "煤炭ETF: 5.80%",
          "煤炭ETF: 5.78%",
          "煤炭ETF: 5.68%",
          "煤炭ETF: 5.66%",
          "煤炭ETF: 5.64%",
          "煤炭ETF: 5.62%",
          "煤炭ETF: 5.98%",
          "煤炭ETF: 5.91%",
          "煤炭ETF: 5.89%",
          "煤炭ETF: 5.86%",
          "煤炭ETF: 5.86%",
          "煤炭ETF: 5.80%",
          "煤炭ETF: 5.90%",
          "煤炭ETF: 5.89%",
          "煤炭ETF: 5.85%",
          "煤炭ETF: 5.80%",
          "煤炭ETF: 5.76%",
          "煤炭ETF: 5.67%",
          "煤炭ETF: 5.65%",
          "煤炭ETF: 5.82%",
          "煤炭ETF: 5.80%",
          "煤炭ETF: 5.83%",
          "煤炭ETF: 5.86%",
          "煤炭ETF: 5.79%",
          "煤炭ETF: 5.78%",
          "煤炭ETF: 5.76%",
          "煤炭ETF: 5.84%",
          "煤炭ETF: 5.79%",
          "煤炭ETF: 5.77%",
          "煤炭ETF: 5.75%",
          "煤炭ETF: 6.15%",
          "煤炭ETF: 6.18%",
          "煤炭ETF: 6.05%",
          "煤炭ETF: 6.01%",
          "煤炭ETF: 6.14%",
          "煤炭ETF: 6.07%",
          "煤炭ETF: 6.15%",
          "煤炭ETF: 6.27%",
          "煤炭ETF: 6.25%",
          "煤炭ETF: 6.29%",
          "煤炭ETF: 6.36%",
          "煤炭ETF: 6.30%"
         ],
         "type": "scatter",
         "x": [
          "2024-05-20T00:00:00",
          "2024-05-21T00:00:00",
          "2024-05-22T00:00:00",
          "2024-05-23T00:00:00",
          "2024-05-24T00:00:00",
          "2024-05-27T00:00:00",
          "2024-05-28T00:00:00",
          "2024-05-29T00:00:00",
          "2024-05-30T00:00:00",
          "2024-05-31T00:00:00",
          "2024-06-03T00:00:00",
          "2024-06-04T00:00:00",
          "2024-06-05T00:00:00",
          "2024-06-06T00:00:00",
          "2024-06-07T00:00:00",
          "2024-06-11T00:00:00",
          "2024-06-12T00:00:00",
          "2024-06-13T00:00:00",
          "2024-06-14T00:00:00",
          "2024-06-17T00:00:00",
          "2024-06-18T00:00:00",
          "2024-06-19T00:00:00",
          "2024-06-20T00:00:00",
          "2024-06-21T00:00:00",
          "2024-06-24T00:00:00",
          "2024-06-25T00:00:00",
          "2024-06-26T00:00:00",
          "2024-06-27T00:00:00",
          "2024-06-28T00:00:00",
          "2024-07-01T00:00:00",
          "2024-07-02T00:00:00",
          "2024-07-03T00:00:00",
          "2024-07-04T00:00:00",
          "2024-07-05T00:00:00",
          "2024-07-08T00:00:00",
          "2024-07-09T00:00:00",
          "2024-07-10T00:00:00",
          "2024-07-11T00:00:00",
          "2024-07-12T00:00:00",
          "2024-07-15T00:00:00",
          "2024-07-16T00:00:00",
          "2024-07-17T00:00:00",
          "2024-07-18T00:00:00",
          "2024-07-19T00:00:00",
          "2024-07-22T00:00:00",
          "2024-07-23T00:00:00",
          "2024-07-24T00:00:00",
          "2024-07-25T00:00:00",
          "2024-07-26T00:00:00",
          "2024-07-29T00:00:00",
          "2024-07-30T00:00:00",
          "2024-07-31T00:00:00",
          "2024-08-01T00:00:00",
          "2024-08-02T00:00:00",
          "2024-08-05T00:00:00",
          "2024-08-06T00:00:00",
          "2024-08-07T00:00:00",
          "2024-08-08T00:00:00",
          "2024-08-09T00:00:00"
         ],
         "y": [
          39.21654786208367,
          37.062816438054824,
          37.23320421698117,
          35.21487225714446,
          34.82323997316389,
          34.351378960799785,
          34.04697196031811,
          33.505112121765194,
          34.228028834731845,
          34.2623023724369,
          34.459670597137126,
          33.99659445730094,
          34.38080711370381,
          34.3765318497801,
          34.37678396597404,
          34.84976066814278,
          35.01937645953258,
          35.384274556674725,
          35.44308357046948,
          35.47733850579723,
          35.55372650782949,
          35.583993275350004,
          35.46193822170375,
          35.6915154597253,
          35.8529346991524,
          35.805447334596636,
          36.030740724782845,
          36.31890914166975,
          35.436692837648195,
          35.02488889589296,
          35.227512155601794,
          35.5587829830276,
          35.666266421869075,
          35.50175450396348,
          35.62259879134387,
          35.565234533977524,
          36.10886013490581,
          35.799382337574784,
          35.778873556299224,
          36.07787834866291,
          35.721606384712096,
          36.099998186248094,
          35.600451318308146,
          35.51761722180943,
          35.30904123878261,
          35.95977175591821,
          35.8160289788107,
          35.94996710216561,
          35.93865934755223,
          36.22252799626082,
          36.183152452545436,
          36.07626290841321,
          36.15717281943874,
          35.78912204783926,
          35.701772605192716,
          36.15340336083719,
          36.069906295698516,
          36.26389545859929,
          36.435114247479234
         ]
        },
        {
         "fill": "tonexty",
         "hoverinfo": "text",
         "hovertemplate": "%{text}<extra></extra>",
         "mode": "none",
         "name": "电力ETF",
         "text": [
          "电力ETF: 6.82%",
          "电力ETF: 6.42%",
          "电力ETF: 6.44%",
          "电力ETF: 6.03%",
          "电力ETF: 6.16%",
          "电力ETF: 6.11%",
          "电力ETF: 6.13%",
          "电力ETF: 6.04%",
          "电力ETF: 6.09%",
          "电力ETF: 6.08%",
          "电力ETF: 6.12%",
          "电力ETF: 6.14%",
          "电力ETF: 6.16%",
          "电力ETF: 6.12%",
          "电力ETF: 6.20%",
          "电力ETF: 6.27%",
          "电力ETF: 6.27%",
          "电力ETF: 6.32%",
          "电力ETF: 6.23%",
          "电力ETF: 6.21%",
          "电力ETF: 6.19%",
          "电力ETF: 6.16%",
          "电力ETF: 6.09%",
          "电力ETF: 6.11%",
          "电力ETF: 6.21%",
          "电力ETF: 6.16%",
          "电力ETF: 6.15%",
          "电力ETF: 6.18%",
          "电力ETF: 6.21%",
          "电力ETF: 6.23%",
          "电力ETF: 6.27%",
          "电力ETF: 6.29%",
          "电力ETF: 6.27%",
          "电力ETF: 6.21%",
          "电力ETF: 6.29%",
          "电力ETF: 6.29%",
          "电力ETF: 6.22%",
          "电力ETF: 6.18%",
          "电力ETF: 6.28%",
          "电力ETF: 6.24%",
          "电力ETF: 6.18%",
          "电力ETF: 6.16%",
          "电力ETF: 6.24%",
          "电力ETF: 6.36%",
          "电力ETF: 6.29%",
          "电力ETF: 6.36%",
          "电力ETF: 6.16%",
          "电力ETF: 6.26%",
          "电力ETF: 6.18%",
          "电力ETF: 6.13%",
          "电力ETF: 6.09%",
          "电力ETF: 5.96%",
          "电力ETF: 5.95%",
          "电力ETF: 6.03%",
          "电力ETF: 6.09%",
          "电力ETF: 6.06%",
          "电力ETF: 6.08%",
          "电力ETF: 6.13%",
          "电力ETF: 6.03%"
         ],
         "type": "scatter",
         "x": [
          "2024-05-20T00:00:00",
          "2024-05-21T00:00:00",
          "2024-05-22T00:00:00",
          "2024-05-23T00:00:00",
          "2024-05-24T00:00:00",
          "2024-05-27T00:00:00",
          "2024-05-28T00:00:00",
          "2024-05-29T00:00:00",
          "2024-05-30T00:00:00",
          "2024-05-31T00:00:00",
          "2024-06-03T00:00:00",
          "2024-06-04T00:00:00",
          "2024-06-05T00:00:00",
          "2024-06-06T00:00:00",
          "2024-06-07T00:00:00",
          "2024-06-11T00:00:00",
          "2024-06-12T00:00:00",
          "2024-06-13T00:00:00",
          "2024-06-14T00:00:00",
          "2024-06-17T00:00:00",
          "2024-06-18T00:00:00",
          "2024-06-19T00:00:00",
          "2024-06-20T00:00:00",
          "2024-06-21T00:00:00",
          "2024-06-24T00:00:00",
          "2024-06-25T00:00:00",
          "2024-06-26T00:00:00",
          "2024-06-27T00:00:00",
          "2024-06-28T00:00:00",
          "2024-07-01T00:00:00",
          "2024-07-02T00:00:00",
          "2024-07-03T00:00:00",
          "2024-07-04T00:00:00",
          "2024-07-05T00:00:00",
          "2024-07-08T00:00:00",
          "2024-07-09T00:00:00",
          "2024-07-10T00:00:00",
          "2024-07-11T00:00:00",
          "2024-07-12T00:00:00",
          "2024-07-15T00:00:00",
          "2024-07-16T00:00:00",
          "2024-07-17T00:00:00",
          "2024-07-18T00:00:00",
          "2024-07-19T00:00:00",
          "2024-07-22T00:00:00",
          "2024-07-23T00:00:00",
          "2024-07-24T00:00:00",
          "2024-07-25T00:00:00",
          "2024-07-26T00:00:00",
          "2024-07-29T00:00:00",
          "2024-07-30T00:00:00",
          "2024-07-31T00:00:00",
          "2024-08-01T00:00:00",
          "2024-08-02T00:00:00",
          "2024-08-05T00:00:00",
          "2024-08-06T00:00:00",
          "2024-08-07T00:00:00",
          "2024-08-08T00:00:00",
          "2024-08-09T00:00:00"
         ],
         "y": [
          46.03230281471542,
          43.480711161182114,
          43.66890821902557,
          41.24764403863121,
          40.98051929011298,
          40.46425447832442,
          40.17428963439359,
          39.54031024981391,
          40.317195732135126,
          40.3415925240352,
          40.58352554579659,
          40.13336884759581,
          40.5434611393051,
          40.49182142764923,
          40.576806276051585,
          41.11540551788947,
          41.29127440788972,
          41.7048150241343,
          41.677607714383285,
          41.68756584657719,
          41.74036436370013,
          41.746865171812814,
          41.54811718860744,
          41.806350760303516,
          42.06020600968941,
          41.96594453892179,
          42.177634427871205,
          42.49568581531878,
          41.645211391122714,
          41.25541582798433,
          41.50074398674825,
          41.85182392579217,
          41.94116173807271,
          41.7126444270049,
          41.910068905304726,
          41.85164252688362,
          42.3279629098835,
          41.97514107682048,
          42.05458199137013,
          42.31295023491886,
          41.90279202888408,
          42.262408223459445,
          41.84249678784987,
          41.87324534785904,
          41.59784516760968,
          42.321210974524995,
          41.97691462265696,
          42.20601998762593,
          42.1197924545298,
          42.355206663624486,
          42.27255769862556,
          42.03737208112743,
          42.10603933255369,
          41.821791701554766,
          41.796087905450584,
          42.216097127665876,
          42.15349084449596,
          42.389285636164054,
          42.463730531260175
         ]
        },
        {
         "fill": "tonexty",
         "hoverinfo": "text",
         "hovertemplate": "%{text}<extra></extra>",
         "mode": "none",
         "name": "纳指科技ETF",
         "text": [
          "纳指科技ETF: 6.65%",
          "纳指科技ETF: 6.43%",
          "纳指科技ETF: 6.43%",
          "纳指科技ETF: 6.18%",
          "纳指科技ETF: 5.90%",
          "纳指科技ETF: 5.97%",
          "纳指科技ETF: 5.98%",
          "纳指科技ETF: 5.87%",
          "纳指科技ETF: 5.92%",
          "纳指科技ETF: 5.89%",
          "纳指科技ETF: 6.01%",
          "纳指科技ETF: 5.91%",
          "纳指科技ETF: 6.02%",
          "纳指科技ETF: 6.18%",
          "纳指科技ETF: 6.21%",
          "纳指科技ETF: 6.40%",
          "纳指科技ETF: 6.04%",
          "纳指科技ETF: 6.12%",
          "纳指科技ETF: 6.28%",
          "纳指科技ETF: 6.52%",
          "纳指科技ETF: 6.01%",
          "纳指科技ETF: 5.82%",
          "纳指科技ETF: 5.98%",
          "纳指科技ETF: 5.81%",
          "纳指科技ETF: 5.86%",
          "纳指科技ETF: 5.66%",
          "纳指科技ETF: 5.91%",
          "纳指科技ETF: 5.90%",
          "纳指科技ETF: 5.89%",
          "纳指科技ETF: 5.82%",
          "纳指科技ETF: 5.77%",
          "纳指科技ETF: 5.73%",
          "纳指科技ETF: 5.69%",
          "纳指科技ETF: 5.67%",
          "纳指科技ETF: 5.79%",
          "纳指科技ETF: 5.84%",
          "纳指科技ETF: 5.89%",
          "纳指科技ETF: 5.96%",
          "纳指科技ETF: 5.80%",
          "纳指科技ETF: 5.87%",
          "纳指科技ETF: 5.74%",
          "纳指科技ETF: 5.73%",
          "纳指科技ETF: 5.64%",
          "纳指科技ETF: 5.61%",
          "纳指科技ETF: 5.95%",
          "纳指科技ETF: 6.07%",
          "纳指科技ETF: 5.89%",
          "纳指科技ETF: 5.78%",
          "纳指科技ETF: 5.88%",
          "纳指科技ETF: 6.03%",
          "纳指科技ETF: 5.92%",
          "纳指科技ETF: 5.92%",
          "纳指科技ETF: 6.12%",
          "纳指科技ETF: 5.82%",
          "纳指科技ETF: 5.84%",
          "纳指科技ETF: 6.13%",
          "纳指科技ETF: 6.05%",
          "纳指科技ETF: 5.96%",
          "纳指科技ETF: 6.11%"
         ],
         "type": "scatter",
         "x": [
          "2024-05-20T00:00:00",
          "2024-05-21T00:00:00",
          "2024-05-22T00:00:00",
          "2024-05-23T00:00:00",
          "2024-05-24T00:00:00",
          "2024-05-27T00:00:00",
          "2024-05-28T00:00:00",
          "2024-05-29T00:00:00",
          "2024-05-30T00:00:00",
          "2024-05-31T00:00:00",
          "2024-06-03T00:00:00",
          "2024-06-04T00:00:00",
          "2024-06-05T00:00:00",
          "2024-06-06T00:00:00",
          "2024-06-07T00:00:00",
          "2024-06-11T00:00:00",
          "2024-06-12T00:00:00",
          "2024-06-13T00:00:00",
          "2024-06-14T00:00:00",
          "2024-06-17T00:00:00",
          "2024-06-18T00:00:00",
          "2024-06-19T00:00:00",
          "2024-06-20T00:00:00",
          "2024-06-21T00:00:00",
          "2024-06-24T00:00:00",
          "2024-06-25T00:00:00",
          "2024-06-26T00:00:00",
          "2024-06-27T00:00:00",
          "2024-06-28T00:00:00",
          "2024-07-01T00:00:00",
          "2024-07-02T00:00:00",
          "2024-07-03T00:00:00",
          "2024-07-04T00:00:00",
          "2024-07-05T00:00:00",
          "2024-07-08T00:00:00",
          "2024-07-09T00:00:00",
          "2024-07-10T00:00:00",
          "2024-07-11T00:00:00",
          "2024-07-12T00:00:00",
          "2024-07-15T00:00:00",
          "2024-07-16T00:00:00",
          "2024-07-17T00:00:00",
          "2024-07-18T00:00:00",
          "2024-07-19T00:00:00",
          "2024-07-22T00:00:00",
          "2024-07-23T00:00:00",
          "2024-07-24T00:00:00",
          "2024-07-25T00:00:00",
          "2024-07-26T00:00:00",
          "2024-07-29T00:00:00",
          "2024-07-30T00:00:00",
          "2024-07-31T00:00:00",
          "2024-08-01T00:00:00",
          "2024-08-02T00:00:00",
          "2024-08-05T00:00:00",
          "2024-08-06T00:00:00",
          "2024-08-07T00:00:00",
          "2024-08-08T00:00:00",
          "2024-08-09T00:00:00"
         ],
         "y": [
          52.68301637618744,
          49.913498050486595,
          50.0974847296167,
          47.42456532762241,
          46.87938149824865,
          46.4380798182289,
          46.15589618210401,
          45.412097048727354,
          46.234686564543594,
          46.23491620386231,
          46.597224739686354,
          46.038373558044356,
          46.566525137989615,
          46.675505680518825,
          46.78361410171355,
          47.515284781006386,
          47.33257194678642,
          47.82475342462932,
          47.957293136317205,
          48.20811376893717,
          47.745860658167565,
          47.57178098830298,
          47.53200439245779,
          47.61691850460393,
          47.91567247288319,
          47.62150868637369,
          48.08685897571158,
          48.39490440411427,
          47.536042306695535,
          47.070881919745496,
          47.26621195030704,
          47.585885167536894,
          47.635689073643434,
          47.377788414167824,
          47.702243143780926,
          47.69638892606771,
          48.21974467093066,
          47.930839799895146,
          47.859557050741,
          48.18097913347377,
          47.64068679981279,
          47.99132895355913,
          47.48374158393381,
          47.48104124360459,
          47.549968783336396,
          48.38828504479442,
          47.86320925781759,
          47.98114157467264,
          48.000984759559586,
          48.38906537535075,
          48.19199854293736,
          47.96179146187193,
          48.22817410093631,
          47.64413345347103,
          47.63403074442246,
          48.347023834222945,
          48.204539051071045,
          48.350404876722656,
          48.57749145907326
         ]
        },
        {
         "fill": "tonexty",
         "hoverinfo": "text",
         "hovertemplate": "%{text}<extra></extra>",
         "mode": "none",
         "name": "圣农发展",
         "text": [
          "圣农发展: 6.12%",
          "圣农发展: 5.77%",
          "圣农发展: 5.74%",
          "圣农发展: 5.43%",
          "圣农发展: 5.45%",
          "圣农发展: 5.35%",
          "圣农发展: 5.17%",
          "圣农发展: 5.07%",
          "圣农发展: 5.14%",
          "圣农发展: 5.14%",
          "圣农发展: 5.17%",
          "圣农发展: 5.25%",
          "圣农发展: 5.13%",
          "圣农发展: 5.00%",
          "圣农发展: 4.97%",
          "圣农发展: 5.06%",
          "圣农发展: 5.01%",
          "圣农发展: 4.92%",
          "圣农发展: 4.97%",
          "圣农发展: 5.00%",
          "圣农发展: 4.92%",
          "圣农发展: 4.83%",
          "圣农发展: 4.70%",
          "圣农发展: 4.66%",
          "圣农发展: 4.65%",
          "圣农发展: 4.58%",
          "圣农发展: 4.51%",
          "圣农发展: 4.48%",
          "圣农发展: 4.27%",
          "圣农发展: 4.25%",
          "圣农发展: 4.13%",
          "圣农发展: 4.02%",
          "圣农发展: 3.91%",
          "圣农发展: 3.87%",
          "圣农发展: 3.89%",
          "圣农发展: 3.75%",
          "圣农发展: 3.82%",
          "圣农发展: 3.86%",
          "圣农发展: 3.90%",
          "圣农发展: 3.93%",
          "圣农发展: 3.89%",
          "圣农发展: 3.99%",
          "圣农发展: 4.03%",
          "圣农发展: 4.15%",
          "圣农发展: 4.22%",
          "圣农发展: 4.14%",
          "圣农发展: 4.14%",
          "圣农发展: 4.34%",
          "圣农发展: 4.32%",
          "圣农发展: 4.22%",
          "圣农发展: 4.28%",
          "圣农发展: 4.34%",
          "圣农发展: 4.24%",
          "圣农发展: 4.34%",
          "圣农发展: 4.40%",
          "圣农发展: 4.44%",
          "圣农发展: 4.36%",
          "圣农发展: 4.41%",
          "圣农发展: 4.31%"
         ],
         "type": "scatter",
         "x": [
          "2024-05-20T00:00:00",
          "2024-05-21T00:00:00",
          "2024-05-22T00:00:00",
          "2024-05-23T00:00:00",
          "2024-05-24T00:00:00",
          "2024-05-27T00:00:00",
          "2024-05-28T00:00:00",
          "2024-05-29T00:00:00",
          "2024-05-30T00:00:00",
          "2024-05-31T00:00:00",
          "2024-06-03T00:00:00",
          "2024-06-04T00:00:00",
          "2024-06-05T00:00:00",
          "2024-06-06T00:00:00",
          "2024-06-07T00:00:00",
          "2024-06-11T00:00:00",
          "2024-06-12T00:00:00",
          "2024-06-13T00:00:00",
          "2024-06-14T00:00:00",
          "2024-06-17T00:00:00",
          "2024-06-18T00:00:00",
          "2024-06-19T00:00:00",
          "2024-06-20T00:00:00",
          "2024-06-21T00:00:00",
          "2024-06-24T00:00:00",
          "2024-06-25T00:00:00",
          "2024-06-26T00:00:00",
          "2024-06-27T00:00:00",
          "2024-06-28T00:00:00",
          "2024-07-01T00:00:00",
          "2024-07-02T00:00:00",
          "2024-07-03T00:00:00",
          "2024-07-04T00:00:00",
          "2024-07-05T00:00:00",
          "2024-07-08T00:00:00",
          "2024-07-09T00:00:00",
          "2024-07-10T00:00:00",
          "2024-07-11T00:00:00",
          "2024-07-12T00:00:00",
          "2024-07-15T00:00:00",
          "2024-07-16T00:00:00",
          "2024-07-17T00:00:00",
          "2024-07-18T00:00:00",
          "2024-07-19T00:00:00",
          "2024-07-22T00:00:00",
          "2024-07-23T00:00:00",
          "2024-07-24T00:00:00",
          "2024-07-25T00:00:00",
          "2024-07-26T00:00:00",
          "2024-07-29T00:00:00",
          "2024-07-30T00:00:00",
          "2024-07-31T00:00:00",
          "2024-08-01T00:00:00",
          "2024-08-02T00:00:00",
          "2024-08-05T00:00:00",
          "2024-08-06T00:00:00",
          "2024-08-07T00:00:00",
          "2024-08-08T00:00:00",
          "2024-08-09T00:00:00"
         ],
         "y": [
          58.80495225627316,
          55.6876398986099,
          55.84013367994325,
          52.85344977191539,
          52.33413988860942,
          51.78665013083489,
          51.3256844173023,
          50.48580081597956,
          51.37869648034909,
          51.37873860712999,
          51.76608097244177,
          51.28499134195049,
          51.69527357834576,
          51.67667381159448,
          51.752391644776026,
          52.57344664972894,
          52.33882648222647,
          52.748624964785854,
          52.93139536122828,
          53.20948963927939,
          52.66798391844004,
          52.402430358958384,
          52.22739621745675,
          52.281307454608154,
          52.56190972980783,
          52.204011605619925,
          52.60036773931562,
          52.87092168318361,
          51.80525952805258,
          51.32309713712402,
          51.39256587979159,
          51.60218970178542,
          51.54638863589417,
          51.2458191354397,
          51.59650601269688,
          51.44270736896592,
          52.0446913220485,
          51.79336690480976,
          51.76396628065722,
          52.10958789137703,
          51.532919862524466,
          51.97693631786876,
          51.51497836458492,
          51.63321266741388,
          51.76716283753465,
          52.529303606834674,
          52.00785168097545,
          52.32069530885988,
          52.31712645810365,
          52.60992436934599,
          52.47691830880444,
          52.296967939844585,
          52.466821838154004,
          51.98828468839508,
          52.03716504472412,
          52.782162484343395,
          52.56039083346569,
          52.76455581052214,
          52.884596285899875
         ]
        },
        {
         "fill": "tonexty",
         "hoverinfo": "text",
         "hovertemplate": "%{text}<extra></extra>",
         "mode": "none",
         "name": "中国海油",
         "text": [
          "中国海油: 0.00%",
          "中国海油: 0.00%",
          "中国海油: 0.00%",
          "中国海油: 0.00%",
          "中国海油: 0.00%",
          "中国海油: 0.00%",
          "中国海油: 0.00%",
          "中国海油: 0.00%",
          "中国海油: 0.00%",
          "中国海油: 0.00%",
          "中国海油: 0.00%",
          "中国海油: 0.00%",
          "中国海油: 0.00%",
          "中国海油: 0.00%",
          "中国海油: 0.00%",
          "中国海油: 0.00%",
          "中国海油: 0.00%",
          "中国海油: 0.00%",
          "中国海油: 0.00%",
          "中国海油: 0.00%",
          "中国海油: 0.00%",
          "中国海油: 0.00%",
          "中国海油: 0.00%",
          "中国海油: 0.00%",
          "中国海油: 0.00%",
          "中国海油: 0.00%",
          "中国海油: 0.00%",
          "中国海油: 0.00%",
          "中国海油: 0.00%",
          "中国海油: 0.00%",
          "中国海油: 0.00%",
          "中国海油: 0.00%",
          "中国海油: 0.00%",
          "中国海油: 0.00%",
          "中国海油: 0.00%",
          "中国海油: 0.00%",
          "中国海油: 0.00%",
          "中国海油: 0.00%",
          "中国海油: 0.00%",
          "中国海油: 0.00%",
          "中国海油: 0.00%",
          "中国海油: 0.00%",
          "中国海油: 0.00%",
          "中国海油: 0.00%",
          "中国海油: 0.00%",
          "中国海油: 0.00%",
          "中国海油: 0.00%",
          "中国海油: 0.00%",
          "中国海油: 0.00%",
          "中国海油: 0.00%",
          "中国海油: 0.00%",
          "中国海油: 0.00%",
          "中国海油: 0.00%",
          "中国海油: 0.00%",
          "中国海油: 0.00%",
          "中国海油: 0.00%",
          "中国海油: 0.00%",
          "中国海油: 0.00%",
          "中国海油: 0.00%"
         ],
         "type": "scatter",
         "x": [
          "2024-05-20T00:00:00",
          "2024-05-21T00:00:00",
          "2024-05-22T00:00:00",
          "2024-05-23T00:00:00",
          "2024-05-24T00:00:00",
          "2024-05-27T00:00:00",
          "2024-05-28T00:00:00",
          "2024-05-29T00:00:00",
          "2024-05-30T00:00:00",
          "2024-05-31T00:00:00",
          "2024-06-03T00:00:00",
          "2024-06-04T00:00:00",
          "2024-06-05T00:00:00",
          "2024-06-06T00:00:00",
          "2024-06-07T00:00:00",
          "2024-06-11T00:00:00",
          "2024-06-12T00:00:00",
          "2024-06-13T00:00:00",
          "2024-06-14T00:00:00",
          "2024-06-17T00:00:00",
          "2024-06-18T00:00:00",
          "2024-06-19T00:00:00",
          "2024-06-20T00:00:00",
          "2024-06-21T00:00:00",
          "2024-06-24T00:00:00",
          "2024-06-25T00:00:00",
          "2024-06-26T00:00:00",
          "2024-06-27T00:00:00",
          "2024-06-28T00:00:00",
          "2024-07-01T00:00:00",
          "2024-07-02T00:00:00",
          "2024-07-03T00:00:00",
          "2024-07-04T00:00:00",
          "2024-07-05T00:00:00",
          "2024-07-08T00:00:00",
          "2024-07-09T00:00:00",
          "2024-07-10T00:00:00",
          "2024-07-11T00:00:00",
          "2024-07-12T00:00:00",
          "2024-07-15T00:00:00",
          "2024-07-16T00:00:00",
          "2024-07-17T00:00:00",
          "2024-07-18T00:00:00",
          "2024-07-19T00:00:00",
          "2024-07-22T00:00:00",
          "2024-07-23T00:00:00",
          "2024-07-24T00:00:00",
          "2024-07-25T00:00:00",
          "2024-07-26T00:00:00",
          "2024-07-29T00:00:00",
          "2024-07-30T00:00:00",
          "2024-07-31T00:00:00",
          "2024-08-01T00:00:00",
          "2024-08-02T00:00:00",
          "2024-08-05T00:00:00",
          "2024-08-06T00:00:00",
          "2024-08-07T00:00:00",
          "2024-08-08T00:00:00",
          "2024-08-09T00:00:00"
         ],
         "y": [
          58.80495225627316,
          55.6876398986099,
          55.84013367994325,
          52.85344977191539,
          52.33413988860942,
          51.78665013083489,
          51.3256844173023,
          50.48580081597956,
          51.37869648034909,
          51.37873860712999,
          51.76608097244177,
          51.28499134195049,
          51.69527357834576,
          51.67667381159448,
          51.752391644776026,
          52.57344664972894,
          52.33882648222647,
          52.748624964785854,
          52.93139536122828,
          53.20948963927939,
          52.66798391844004,
          52.402430358958384,
          52.22739621745675,
          52.281307454608154,
          52.56190972980783,
          52.204011605619925,
          52.60036773931562,
          52.87092168318361,
          51.80525952805258,
          51.32309713712402,
          51.39256587979159,
          51.60218970178542,
          51.54638863589417,
          51.2458191354397,
          51.59650601269688,
          51.44270736896592,
          52.0446913220485,
          51.79336690480976,
          51.76396628065722,
          52.10958789137703,
          51.532919862524466,
          51.97693631786876,
          51.51497836458492,
          51.63321266741388,
          51.76716283753465,
          52.529303606834674,
          52.00785168097545,
          52.32069530885988,
          52.31712645810365,
          52.60992436934599,
          52.47691830880444,
          52.296967939844585,
          52.466821838154004,
          51.98828468839508,
          52.03716504472412,
          52.782162484343395,
          52.56039083346569,
          52.76455581052214,
          52.884596285899875
         ]
        },
        {
         "fill": "tonexty",
         "hoverinfo": "text",
         "hovertemplate": "%{text}<extra></extra>",
         "mode": "none",
         "name": "陕西煤业",
         "text": [
          "陕西煤业: 0.00%",
          "陕西煤业: 0.00%",
          "陕西煤业: 0.00%",
          "陕西煤业: 0.00%",
          "陕西煤业: 0.00%",
          "陕西煤业: 0.00%",
          "陕西煤业: 0.00%",
          "陕西煤业: 0.00%",
          "陕西煤业: 0.00%",
          "陕西煤业: 0.00%",
          "陕西煤业: 0.00%",
          "陕西煤业: 0.00%",
          "陕西煤业: 0.00%",
          "陕西煤业: 0.00%",
          "陕西煤业: 0.00%",
          "陕西煤业: 0.00%",
          "陕西煤业: 0.00%",
          "陕西煤业: 0.00%",
          "陕西煤业: 0.00%",
          "陕西煤业: 0.00%",
          "陕西煤业: 0.00%",
          "陕西煤业: 0.00%",
          "陕西煤业: 0.00%",
          "陕西煤业: 0.00%",
          "陕西煤业: 0.00%",
          "陕西煤业: 0.00%",
          "陕西煤业: 0.00%",
          "陕西煤业: 0.00%",
          "陕西煤业: 0.00%",
          "陕西煤业: 0.00%",
          "陕西煤业: 0.00%",
          "陕西煤业: 0.00%",
          "陕西煤业: 0.00%",
          "陕西煤业: 0.00%",
          "陕西煤业: 0.00%",
          "陕西煤业: 0.00%",
          "陕西煤业: 0.00%",
          "陕西煤业: 0.00%",
          "陕西煤业: 0.00%",
          "陕西煤业: 0.00%",
          "陕西煤业: 0.00%",
          "陕西煤业: 0.00%",
          "陕西煤业: 0.00%",
          "陕西煤业: 0.00%",
          "陕西煤业: 0.00%",
          "陕西煤业: 0.00%",
          "陕西煤业: 0.00%",
          "陕西煤业: 0.00%",
          "陕西煤业: 0.00%",
          "陕西煤业: 0.00%",
          "陕西煤业: 0.00%",
          "陕西煤业: 0.00%",
          "陕西煤业: 0.00%",
          "陕西煤业: 0.00%",
          "陕西煤业: 0.00%",
          "陕西煤业: 0.00%",
          "陕西煤业: 0.00%",
          "陕西煤业: 0.00%",
          "陕西煤业: 0.00%"
         ],
         "type": "scatter",
         "x": [
          "2024-05-20T00:00:00",
          "2024-05-21T00:00:00",
          "2024-05-22T00:00:00",
          "2024-05-23T00:00:00",
          "2024-05-24T00:00:00",
          "2024-05-27T00:00:00",
          "2024-05-28T00:00:00",
          "2024-05-29T00:00:00",
          "2024-05-30T00:00:00",
          "2024-05-31T00:00:00",
          "2024-06-03T00:00:00",
          "2024-06-04T00:00:00",
          "2024-06-05T00:00:00",
          "2024-06-06T00:00:00",
          "2024-06-07T00:00:00",
          "2024-06-11T00:00:00",
          "2024-06-12T00:00:00",
          "2024-06-13T00:00:00",
          "2024-06-14T00:00:00",
          "2024-06-17T00:00:00",
          "2024-06-18T00:00:00",
          "2024-06-19T00:00:00",
          "2024-06-20T00:00:00",
          "2024-06-21T00:00:00",
          "2024-06-24T00:00:00",
          "2024-06-25T00:00:00",
          "2024-06-26T00:00:00",
          "2024-06-27T00:00:00",
          "2024-06-28T00:00:00",
          "2024-07-01T00:00:00",
          "2024-07-02T00:00:00",
          "2024-07-03T00:00:00",
          "2024-07-04T00:00:00",
          "2024-07-05T00:00:00",
          "2024-07-08T00:00:00",
          "2024-07-09T00:00:00",
          "2024-07-10T00:00:00",
          "2024-07-11T00:00:00",
          "2024-07-12T00:00:00",
          "2024-07-15T00:00:00",
          "2024-07-16T00:00:00",
          "2024-07-17T00:00:00",
          "2024-07-18T00:00:00",
          "2024-07-19T00:00:00",
          "2024-07-22T00:00:00",
          "2024-07-23T00:00:00",
          "2024-07-24T00:00:00",
          "2024-07-25T00:00:00",
          "2024-07-26T00:00:00",
          "2024-07-29T00:00:00",
          "2024-07-30T00:00:00",
          "2024-07-31T00:00:00",
          "2024-08-01T00:00:00",
          "2024-08-02T00:00:00",
          "2024-08-05T00:00:00",
          "2024-08-06T00:00:00",
          "2024-08-07T00:00:00",
          "2024-08-08T00:00:00",
          "2024-08-09T00:00:00"
         ],
         "y": [
          58.80495225627316,
          55.6876398986099,
          55.84013367994325,
          52.85344977191539,
          52.33413988860942,
          51.78665013083489,
          51.3256844173023,
          50.48580081597956,
          51.37869648034909,
          51.37873860712999,
          51.76608097244177,
          51.28499134195049,
          51.69527357834576,
          51.67667381159448,
          51.752391644776026,
          52.57344664972894,
          52.33882648222647,
          52.748624964785854,
          52.93139536122828,
          53.20948963927939,
          52.66798391844004,
          52.402430358958384,
          52.22739621745675,
          52.281307454608154,
          52.56190972980783,
          52.204011605619925,
          52.60036773931562,
          52.87092168318361,
          51.80525952805258,
          51.32309713712402,
          51.39256587979159,
          51.60218970178542,
          51.54638863589417,
          51.2458191354397,
          51.59650601269688,
          51.44270736896592,
          52.0446913220485,
          51.79336690480976,
          51.76396628065722,
          52.10958789137703,
          51.532919862524466,
          51.97693631786876,
          51.51497836458492,
          51.63321266741388,
          51.76716283753465,
          52.529303606834674,
          52.00785168097545,
          52.32069530885988,
          52.31712645810365,
          52.60992436934599,
          52.47691830880444,
          52.296967939844585,
          52.466821838154004,
          51.98828468839508,
          52.03716504472412,
          52.782162484343395,
          52.56039083346569,
          52.76455581052214,
          52.884596285899875
         ]
        },
        {
         "fill": "tonexty",
         "hoverinfo": "text",
         "hovertemplate": "%{text}<extra></extra>",
         "mode": "none",
         "name": "中煤能源",
         "text": [
          "中煤能源: 4.53%",
          "中煤能源: 4.26%",
          "中煤能源: 4.26%",
          "中煤能源: 3.96%",
          "中煤能源: 3.98%",
          "中煤能源: 3.95%",
          "中煤能源: 3.94%",
          "中煤能源: 3.96%",
          "中煤能源: 4.10%",
          "中煤能源: 4.16%",
          "中煤能源: 4.10%",
          "中煤能源: 3.99%",
          "中煤能源: 3.97%",
          "中煤能源: 4.01%",
          "中煤能源: 3.99%",
          "中煤能源: 3.96%",
          "中煤能源: 4.14%",
          "中煤能源: 4.15%",
          "中煤能源: 4.10%",
          "中煤能源: 3.97%",
          "中煤能源: 3.98%",
          "中煤能源: 4.00%",
          "中煤能源: 4.07%",
          "中煤能源: 4.03%",
          "中煤能源: 3.98%",
          "中煤能源: 3.98%",
          "中煤能源: 3.90%",
          "中煤能源: 3.89%",
          "中煤能源: 3.91%",
          "中煤能源: 3.98%",
          "中煤能源: 3.98%",
          "中煤能源: 3.96%",
          "中煤能源: 3.98%",
          "中煤能源: 3.96%",
          "中煤能源: 3.92%",
          "中煤能源: 3.91%",
          "中煤能源: 3.76%",
          "中煤能源: 3.69%",
          "中煤能源: 3.71%",
          "中煤能源: 3.75%",
          "中煤能源: 3.75%",
          "中煤能源: 3.72%",
          "中煤能源: 3.75%",
          "中煤能源: 3.78%",
          "中煤能源: 3.80%",
          "中煤能源: 3.74%",
          "中煤能源: 3.81%",
          "中煤能源: 3.84%",
          "中煤能源: 3.88%",
          "中煤能源: 3.88%",
          "中煤能源: 3.77%",
          "中煤能源: 3.85%",
          "中煤能源: 3.81%",
          "中煤能源: 3.91%",
          "中煤能源: 3.97%",
          "中煤能源: 3.94%",
          "中煤能源: 4.08%",
          "中煤能源: 4.11%",
          "中煤能源: 4.14%"
         ],
         "type": "scatter",
         "x": [
          "2024-05-20T00:00:00",
          "2024-05-21T00:00:00",
          "2024-05-22T00:00:00",
          "2024-05-23T00:00:00",
          "2024-05-24T00:00:00",
          "2024-05-27T00:00:00",
          "2024-05-28T00:00:00",
          "2024-05-29T00:00:00",
          "2024-05-30T00:00:00",
          "2024-05-31T00:00:00",
          "2024-06-03T00:00:00",
          "2024-06-04T00:00:00",
          "2024-06-05T00:00:00",
          "2024-06-06T00:00:00",
          "2024-06-07T00:00:00",
          "2024-06-11T00:00:00",
          "2024-06-12T00:00:00",
          "2024-06-13T00:00:00",
          "2024-06-14T00:00:00",
          "2024-06-17T00:00:00",
          "2024-06-18T00:00:00",
          "2024-06-19T00:00:00",
          "2024-06-20T00:00:00",
          "2024-06-21T00:00:00",
          "2024-06-24T00:00:00",
          "2024-06-25T00:00:00",
          "2024-06-26T00:00:00",
          "2024-06-27T00:00:00",
          "2024-06-28T00:00:00",
          "2024-07-01T00:00:00",
          "2024-07-02T00:00:00",
          "2024-07-03T00:00:00",
          "2024-07-04T00:00:00",
          "2024-07-05T00:00:00",
          "2024-07-08T00:00:00",
          "2024-07-09T00:00:00",
          "2024-07-10T00:00:00",
          "2024-07-11T00:00:00",
          "2024-07-12T00:00:00",
          "2024-07-15T00:00:00",
          "2024-07-16T00:00:00",
          "2024-07-17T00:00:00",
          "2024-07-18T00:00:00",
          "2024-07-19T00:00:00",
          "2024-07-22T00:00:00",
          "2024-07-23T00:00:00",
          "2024-07-24T00:00:00",
          "2024-07-25T00:00:00",
          "2024-07-26T00:00:00",
          "2024-07-29T00:00:00",
          "2024-07-30T00:00:00",
          "2024-07-31T00:00:00",
          "2024-08-01T00:00:00",
          "2024-08-02T00:00:00",
          "2024-08-05T00:00:00",
          "2024-08-06T00:00:00",
          "2024-08-07T00:00:00",
          "2024-08-08T00:00:00",
          "2024-08-09T00:00:00"
         ],
         "y": [
          63.333752538153334,
          59.952246684457485,
          60.10299850858285,
          56.8183655355447,
          56.318205166327026,
          55.74157879036,
          55.268269329664065,
          54.44561534682048,
          55.476360852678695,
          55.536374570187576,
          55.87103798207983,
          55.27192458458664,
          55.66652452375322,
          55.68751166936214,
          55.74036760468174,
          56.537611896660316,
          56.4752443756847,
          56.89901474921826,
          57.030687082014474,
          57.180702944665754,
          56.65120525258627,
          56.39846509525502,
          56.30028114608146,
          56.31206739059748,
          56.53758890918861,
          56.186311343474244,
          56.504710546627344,
          56.75673015521921,
          55.71140524851993,
          55.30127376736584,
          55.367579050821156,
          55.56240920712872,
          55.528815697460004,
          55.21008510093417,
          55.51243797652877,
          55.34818327441835,
          55.80454567716046,
          55.48143764752021,
          55.47630386839232,
          55.85467489586631,
          55.2807685078883,
          55.70057882583038,
          55.26026772276866,
          55.413359526389925,
          55.5670634283984,
          56.27227083391597,
          55.82053604013001,
          56.157636171332705,
          56.19217860913177,
          56.48523493633863,
          56.247387240199224,
          56.142948419274155,
          56.27871702799569,
          55.903262481207605,
          56.009081987702174,
          56.71893345275272,
          56.644001978404646,
          56.873008054753846,
          57.02540362661591
         ]
        },
        {
         "fill": "tonexty",
         "hoverinfo": "text",
         "hovertemplate": "%{text}<extra></extra>",
         "mode": "none",
         "name": "洛阳钼业",
         "text": [
          "洛阳钼业: 6.29%",
          "洛阳钼业: 5.60%",
          "洛阳钼业: 5.48%",
          "洛阳钼业: 5.15%",
          "洛阳钼业: 5.17%",
          "洛阳钼业: 5.27%",
          "洛阳钼业: 5.21%",
          "洛阳钼业: 5.27%",
          "洛阳钼业: 5.13%",
          "洛阳钼业: 5.13%",
          "洛阳钼业: 5.04%",
          "洛阳钼业: 5.12%",
          "洛阳钼业: 4.95%",
          "洛阳钼业: 5.03%",
          "洛阳钼业: 5.10%",
          "洛阳钼业: 5.02%",
          "洛阳钼业: 5.07%",
          "洛阳钼业: 5.00%",
          "洛阳钼业: 5.14%",
          "洛阳钼业: 5.12%",
          "洛阳钼业: 5.06%",
          "洛阳钼业: 5.22%",
          "洛阳钼业: 5.19%",
          "洛阳钼业: 5.13%",
          "洛阳钼业: 5.15%",
          "洛阳钼业: 5.20%",
          "洛阳钼业: 5.15%",
          "洛阳钼业: 5.13%",
          "洛阳钼业: 5.23%",
          "洛阳钼业: 5.24%",
          "洛阳钼业: 5.18%",
          "洛阳钼业: 5.28%",
          "洛阳钼业: 5.40%",
          "洛阳钼业: 5.38%",
          "洛阳钼业: 5.52%",
          "洛阳钼业: 5.56%",
          "洛阳钼业: 5.44%",
          "洛阳钼业: 5.54%",
          "洛阳钼业: 5.52%",
          "洛阳钼业: 5.68%",
          "洛阳钼业: 5.63%",
          "洛阳钼业: 5.34%",
          "洛阳钼业: 5.36%",
          "洛阳钼业: 5.30%",
          "洛阳钼业: 5.14%",
          "洛阳钼业: 4.85%",
          "洛阳钼业: 4.79%",
          "洛阳钼业: 4.61%",
          "洛阳钼业: 4.75%",
          "洛阳钼业: 4.75%",
          "洛阳钼业: 4.66%",
          "洛阳钼业: 4.81%",
          "洛阳钼业: 4.83%",
          "洛阳钼业: 4.73%",
          "洛阳钼业: 4.74%",
          "洛阳钼业: 4.67%",
          "洛阳钼业: 4.71%",
          "洛阳钼业: 4.67%",
          "洛阳钼业: 4.70%"
         ],
         "type": "scatter",
         "x": [
          "2024-05-20T00:00:00",
          "2024-05-21T00:00:00",
          "2024-05-22T00:00:00",
          "2024-05-23T00:00:00",
          "2024-05-24T00:00:00",
          "2024-05-27T00:00:00",
          "2024-05-28T00:00:00",
          "2024-05-29T00:00:00",
          "2024-05-30T00:00:00",
          "2024-05-31T00:00:00",
          "2024-06-03T00:00:00",
          "2024-06-04T00:00:00",
          "2024-06-05T00:00:00",
          "2024-06-06T00:00:00",
          "2024-06-07T00:00:00",
          "2024-06-11T00:00:00",
          "2024-06-12T00:00:00",
          "2024-06-13T00:00:00",
          "2024-06-14T00:00:00",
          "2024-06-17T00:00:00",
          "2024-06-18T00:00:00",
          "2024-06-19T00:00:00",
          "2024-06-20T00:00:00",
          "2024-06-21T00:00:00",
          "2024-06-24T00:00:00",
          "2024-06-25T00:00:00",
          "2024-06-26T00:00:00",
          "2024-06-27T00:00:00",
          "2024-06-28T00:00:00",
          "2024-07-01T00:00:00",
          "2024-07-02T00:00:00",
          "2024-07-03T00:00:00",
          "2024-07-04T00:00:00",
          "2024-07-05T00:00:00",
          "2024-07-08T00:00:00",
          "2024-07-09T00:00:00",
          "2024-07-10T00:00:00",
          "2024-07-11T00:00:00",
          "2024-07-12T00:00:00",
          "2024-07-15T00:00:00",
          "2024-07-16T00:00:00",
          "2024-07-17T00:00:00",
          "2024-07-18T00:00:00",
          "2024-07-19T00:00:00",
          "2024-07-22T00:00:00",
          "2024-07-23T00:00:00",
          "2024-07-24T00:00:00",
          "2024-07-25T00:00:00",
          "2024-07-26T00:00:00",
          "2024-07-29T00:00:00",
          "2024-07-30T00:00:00",
          "2024-07-31T00:00:00",
          "2024-08-01T00:00:00",
          "2024-08-02T00:00:00",
          "2024-08-05T00:00:00",
          "2024-08-06T00:00:00",
          "2024-08-07T00:00:00",
          "2024-08-08T00:00:00",
          "2024-08-09T00:00:00"
         ],
         "y": [
          69.62298635920125,
          65.55224731323568,
          65.57848372075762,
          61.97251041617413,
          61.4910172802266,
          61.00894530283251,
          60.48195555548371,
          59.71320875440126,
          60.61043685487893,
          60.66713864639678,
          60.9094131169139,
          60.39325322742182,
          60.61620013106158,
          60.716761327730666,
          60.83740195191581,
          61.559821024629656,
          61.547655696645265,
          61.90359385949347,
          62.16913606028263,
          62.29766526552781,
          61.707773400599514,
          61.616764478182006,
          61.49444196429397,
          61.446546168669535,
          61.6895850934757,
          61.38446341416006,
          61.65253721110082,
          61.89108081368445,
          60.93922186660006,
          60.54098053940013,
          60.550629924901926,
          60.84627836233325,
          60.93378269496016,
          60.59040378136871,
          61.03498571873981,
          60.91256821794463,
          61.24750032224624,
          61.021195389704566,
          60.99285657805577,
          61.5345162393734,
          60.914829639237546,
          61.03967138040997,
          60.618673254372325,
          60.7162844828629,
          60.707361442053234,
          61.125929906448576,
          60.60975739545073,
          60.769849198320294,
          60.94287504750863,
          61.238949318084565,
          60.91000505562642,
          60.95122855868393,
          61.10455061027969,
          60.63399709106022,
          60.74573627656079,
          61.388204542960665,
          61.35177485511336,
          61.54246731600318,
          61.721644596316274
         ]
        },
        {
         "fill": "tonexty",
         "hoverinfo": "text",
         "hovertemplate": "%{text}<extra></extra>",
         "mode": "none",
         "name": "中远海控",
         "text": [
          "中远海控: 5.08%",
          "中远海控: 4.76%",
          "中远海控: 4.68%",
          "中远海控: 4.47%",
          "中远海控: 4.48%",
          "中远海控: 4.65%",
          "中远海控: 4.75%",
          "中远海控: 4.71%",
          "中远海控: 4.64%",
          "中远海控: 4.64%",
          "中远海控: 4.97%",
          "中远海控: 5.07%",
          "中远海控: 5.12%",
          "中远海控: 5.14%",
          "中远海控: 5.22%",
          "中远海控: 4.79%",
          "中远海控: 4.70%",
          "中远海控: 4.65%",
          "中远海控: 4.73%",
          "中远海控: 4.71%",
          "中远海控: 4.85%",
          "中远海控: 4.85%",
          "中远海控: 5.01%",
          "中远海控: 5.03%",
          "中远海控: 4.97%",
          "中远海控: 4.93%",
          "中远海控: 4.89%",
          "中远海控: 4.79%",
          "中远海控: 4.85%",
          "中远海控: 4.87%",
          "中远海控: 4.96%",
          "中远海控: 4.82%",
          "中远海控: 4.84%",
          "中远海控: 4.82%",
          "中远海控: 4.46%",
          "中远海控: 4.44%",
          "中远海控: 4.45%",
          "中远海控: 4.35%",
          "中远海控: 4.26%",
          "中远海控: 4.19%",
          "中远海控: 4.14%",
          "中远海控: 4.12%",
          "中远海控: 4.12%",
          "中远海控: 4.16%",
          "中远海控: 4.15%",
          "中远海控: 4.21%",
          "中远海控: 4.21%",
          "中远海控: 4.23%",
          "中远海控: 4.19%",
          "中远海控: 4.22%",
          "中远海控: 4.20%",
          "中远海控: 4.23%",
          "中远海控: 4.25%",
          "中远海控: 4.33%",
          "中远海控: 4.32%",
          "中远海控: 4.25%",
          "中远海控: 4.27%",
          "中远海控: 4.17%",
          "中远海控: 4.09%"
         ],
         "type": "scatter",
         "x": [
          "2024-05-20T00:00:00",
          "2024-05-21T00:00:00",
          "2024-05-22T00:00:00",
          "2024-05-23T00:00:00",
          "2024-05-24T00:00:00",
          "2024-05-27T00:00:00",
          "2024-05-28T00:00:00",
          "2024-05-29T00:00:00",
          "2024-05-30T00:00:00",
          "2024-05-31T00:00:00",
          "2024-06-03T00:00:00",
          "2024-06-04T00:00:00",
          "2024-06-05T00:00:00",
          "2024-06-06T00:00:00",
          "2024-06-07T00:00:00",
          "2024-06-11T00:00:00",
          "2024-06-12T00:00:00",
          "2024-06-13T00:00:00",
          "2024-06-14T00:00:00",
          "2024-06-17T00:00:00",
          "2024-06-18T00:00:00",
          "2024-06-19T00:00:00",
          "2024-06-20T00:00:00",
          "2024-06-21T00:00:00",
          "2024-06-24T00:00:00",
          "2024-06-25T00:00:00",
          "2024-06-26T00:00:00",
          "2024-06-27T00:00:00",
          "2024-06-28T00:00:00",
          "2024-07-01T00:00:00",
          "2024-07-02T00:00:00",
          "2024-07-03T00:00:00",
          "2024-07-04T00:00:00",
          "2024-07-05T00:00:00",
          "2024-07-08T00:00:00",
          "2024-07-09T00:00:00",
          "2024-07-10T00:00:00",
          "2024-07-11T00:00:00",
          "2024-07-12T00:00:00",
          "2024-07-15T00:00:00",
          "2024-07-16T00:00:00",
          "2024-07-17T00:00:00",
          "2024-07-18T00:00:00",
          "2024-07-19T00:00:00",
          "2024-07-22T00:00:00",
          "2024-07-23T00:00:00",
          "2024-07-24T00:00:00",
          "2024-07-25T00:00:00",
          "2024-07-26T00:00:00",
          "2024-07-29T00:00:00",
          "2024-07-30T00:00:00",
          "2024-07-31T00:00:00",
          "2024-08-01T00:00:00",
          "2024-08-02T00:00:00",
          "2024-08-05T00:00:00",
          "2024-08-06T00:00:00",
          "2024-08-07T00:00:00",
          "2024-08-08T00:00:00",
          "2024-08-09T00:00:00"
         ],
         "y": [
          74.70219496170684,
          70.30744860449562,
          70.25993879965706,
          66.44191928844732,
          65.97430012052051,
          65.66005778834996,
          65.23565597636623,
          64.41956067856847,
          65.25256782825139,
          65.30627504115026,
          65.87519130562745,
          65.46154112577788,
          65.74031767919175,
          65.85448727034888,
          66.05797392121404,
          66.34818428799407,
          66.25188422122251,
          66.55651647952399,
          66.90178500086908,
          67.00279555627992,
          66.55723364050732,
          66.46954369096163,
          66.50890785577184,
          66.4810747271818,
          66.65680051248421,
          66.31311524370267,
          66.54164551757935,
          66.68293989138537,
          65.78747495436829,
          65.41209142986037,
          65.50781399091862,
          65.66646692419619,
          65.77693766643034,
          65.41147247194394,
          65.49264741722462,
          65.35673051557522,
          65.7016723043516,
          65.36730352365397,
          65.25621967889998,
          65.72752049735521,
          65.05282333129443,
          65.15937987294909,
          64.74315381129128,
          64.8747612497921,
          64.85816787240405,
          65.3311505534691,
          64.81885795771223,
          65.00428136804098,
          65.13159080060221,
          65.45657912067364,
          65.11026827644918,
          65.18341622768807,
          65.35924173846686,
          64.96831970474068,
          65.06127977705752,
          65.63938187623373,
          65.62462641227194,
          65.71474688237488,
          65.81588884392121
         ]
        },
        {
         "fill": "tonexty",
         "hoverinfo": "text",
         "hovertemplate": "%{text}<extra></extra>",
         "mode": "none",
         "name": "中远海能",
         "text": [
          "中远海能: 6.16%",
          "中远海能: 5.88%",
          "中远海能: 5.73%",
          "中远海能: 5.39%",
          "中远海能: 5.41%",
          "中远海能: 5.47%",
          "中远海能: 5.52%",
          "中远海能: 5.42%",
          "中远海能: 5.54%",
          "中远海能: 5.38%",
          "中远海能: 5.38%",
          "中远海能: 5.33%",
          "中远海能: 5.35%",
          "中远海能: 5.41%",
          "中远海能: 5.54%",
          "中远海能: 5.25%",
          "中远海能: 5.22%",
          "中远海能: 5.20%",
          "中远海能: 5.04%",
          "中远海能: 4.92%",
          "中远海能: 4.94%",
          "中远海能: 4.90%",
          "中远海能: 5.01%",
          "中远海能: 4.94%",
          "中远海能: 4.91%",
          "中远海能: 4.89%",
          "中远海能: 4.77%",
          "中远海能: 4.74%",
          "中远海能: 4.77%",
          "中远海能: 4.81%",
          "中远海能: 4.76%",
          "中远海能: 4.70%",
          "中远海能: 4.75%",
          "中远海能: 4.73%",
          "中远海能: 4.57%",
          "中远海能: 4.45%",
          "中远海能: 4.40%",
          "中远海能: 4.35%",
          "中远海能: 4.36%",
          "中远海能: 4.24%",
          "中远海能: 4.27%",
          "中远海能: 4.35%",
          "中远海能: 4.43%",
          "中远海能: 4.50%",
          "中远海能: 4.54%",
          "中远海能: 4.80%",
          "中远海能: 4.75%",
          "中远海能: 4.85%",
          "中远海能: 4.81%",
          "中远海能: 4.74%",
          "中远海能: 4.80%",
          "中远海能: 4.96%",
          "中远海能: 4.78%",
          "中远海能: 4.88%",
          "中远海能: 4.83%",
          "中远海能: 4.94%",
          "中远海能: 4.91%",
          "中远海能: 4.84%",
          "中远海能: 4.82%"
         ],
         "type": "scatter",
         "x": [
          "2024-05-20T00:00:00",
          "2024-05-21T00:00:00",
          "2024-05-22T00:00:00",
          "2024-05-23T00:00:00",
          "2024-05-24T00:00:00",
          "2024-05-27T00:00:00",
          "2024-05-28T00:00:00",
          "2024-05-29T00:00:00",
          "2024-05-30T00:00:00",
          "2024-05-31T00:00:00",
          "2024-06-03T00:00:00",
          "2024-06-04T00:00:00",
          "2024-06-05T00:00:00",
          "2024-06-06T00:00:00",
          "2024-06-07T00:00:00",
          "2024-06-11T00:00:00",
          "2024-06-12T00:00:00",
          "2024-06-13T00:00:00",
          "2024-06-14T00:00:00",
          "2024-06-17T00:00:00",
          "2024-06-18T00:00:00",
          "2024-06-19T00:00:00",
          "2024-06-20T00:00:00",
          "2024-06-21T00:00:00",
          "2024-06-24T00:00:00",
          "2024-06-25T00:00:00",
          "2024-06-26T00:00:00",
          "2024-06-27T00:00:00",
          "2024-06-28T00:00:00",
          "2024-07-01T00:00:00",
          "2024-07-02T00:00:00",
          "2024-07-03T00:00:00",
          "2024-07-04T00:00:00",
          "2024-07-05T00:00:00",
          "2024-07-08T00:00:00",
          "2024-07-09T00:00:00",
          "2024-07-10T00:00:00",
          "2024-07-11T00:00:00",
          "2024-07-12T00:00:00",
          "2024-07-15T00:00:00",
          "2024-07-16T00:00:00",
          "2024-07-17T00:00:00",
          "2024-07-18T00:00:00",
          "2024-07-19T00:00:00",
          "2024-07-22T00:00:00",
          "2024-07-23T00:00:00",
          "2024-07-24T00:00:00",
          "2024-07-25T00:00:00",
          "2024-07-26T00:00:00",
          "2024-07-29T00:00:00",
          "2024-07-30T00:00:00",
          "2024-07-31T00:00:00",
          "2024-08-01T00:00:00",
          "2024-08-02T00:00:00",
          "2024-08-05T00:00:00",
          "2024-08-06T00:00:00",
          "2024-08-07T00:00:00",
          "2024-08-08T00:00:00",
          "2024-08-09T00:00:00"
         ],
         "y": [
          80.8659442307864,
          76.18418265222934,
          75.98744548718534,
          71.8283748720782,
          71.37993262418767,
          71.12841892771199,
          70.75435854185831,
          69.83738371204063,
          70.78982209618157,
          70.68726181547046,
          71.25086588493122,
          70.79426815687152,
          71.09506861783797,
          71.26119980732975,
          71.5937616062817,
          71.60111412842974,
          71.47404916719839,
          71.75825345499439,
          71.94480211021339,
          71.92173594660258,
          71.50039775604483,
          71.37282597723637,
          71.51930219285542,
          71.42569272074329,
          71.57029963770152,
          71.20443610706846,
          71.30767578326804,
          71.41942683668157,
          70.55336878561477,
          70.22071186860215,
          70.27102166820865,
          70.36226905205473,
          70.53164171893859,
          70.14449360703685,
          70.06737093943622,
          69.80825259800727,
          70.10396785400226,
          69.71720412376318,
          69.6145851697525,
          69.96325216502044,
          69.32598520835799,
          69.50674811605718,
          69.16912217304409,
          69.37058244272097,
          69.39781588422811,
          70.1302380374514,
          69.56618164555925,
          69.85301822836529,
          69.94109926174033,
          70.19737581284888,
          69.90963887678856,
          70.13974249224326,
          70.13694545384466,
          69.84648050888417,
          69.89563175596481,
          70.57957786128677,
          70.53823980957164,
          70.55217230871045,
          70.63518991528093
         ]
        },
        {
         "fill": "tonexty",
         "hoverinfo": "text",
         "hovertemplate": "%{text}<extra></extra>",
         "mode": "none",
         "name": "山金国际",
         "text": [
          "山金国际: 0.00%",
          "山金国际: 0.00%",
          "山金国际: 0.00%",
          "山金国际: 6.01%",
          "山金国际: 6.05%",
          "山金国际: 5.96%",
          "山金国际: 5.90%",
          "山金国际: 5.94%",
          "山金国际: 5.79%",
          "山金国际: 6.06%",
          "山金国际: 5.78%",
          "山金国际: 5.79%",
          "山金国际: 5.63%",
          "山金国际: 5.74%",
          "山金国际: 5.72%",
          "山金国际: 5.53%",
          "山金国际: 5.52%",
          "山金国际: 5.39%",
          "山金国际: 5.30%",
          "山金国际: 5.28%",
          "山金国际: 5.18%",
          "山金国际: 5.28%",
          "山金国际: 5.28%",
          "山金国际: 5.29%",
          "山金国际: 5.17%",
          "山金国际: 5.16%",
          "山金国际: 5.08%",
          "山金国际: 5.01%",
          "山金国际: 5.10%",
          "山金国际: 5.22%",
          "山金国际: 5.21%",
          "山金国际: 5.17%",
          "山金国际: 5.25%",
          "山金国际: 5.57%",
          "山金国际: 5.58%",
          "山金国际: 5.54%",
          "山金国际: 5.48%",
          "山金国际: 5.55%",
          "山金国际: 5.49%",
          "山金国际: 5.61%",
          "山金国际: 5.81%",
          "山金国际: 5.82%",
          "山金国际: 5.80%",
          "山金国际: 5.72%",
          "山金国际: 5.74%",
          "山金国际: 5.46%",
          "山金国际: 5.55%",
          "山金国际: 5.51%",
          "山金国际: 5.52%",
          "山金国际: 5.50%",
          "山金国际: 5.57%",
          "山金国际: 5.72%",
          "山金国际: 5.79%",
          "山金国际: 5.84%",
          "山金国际: 5.96%",
          "山金国际: 5.81%",
          "山金国际: 5.74%",
          "山金国际: 5.74%",
          "山金国际: 5.70%"
         ],
         "type": "scatter",
         "x": [
          "2024-05-20T00:00:00",
          "2024-05-21T00:00:00",
          "2024-05-22T00:00:00",
          "2024-05-23T00:00:00",
          "2024-05-24T00:00:00",
          "2024-05-27T00:00:00",
          "2024-05-28T00:00:00",
          "2024-05-29T00:00:00",
          "2024-05-30T00:00:00",
          "2024-05-31T00:00:00",
          "2024-06-03T00:00:00",
          "2024-06-04T00:00:00",
          "2024-06-05T00:00:00",
          "2024-06-06T00:00:00",
          "2024-06-07T00:00:00",
          "2024-06-11T00:00:00",
          "2024-06-12T00:00:00",
          "2024-06-13T00:00:00",
          "2024-06-14T00:00:00",
          "2024-06-17T00:00:00",
          "2024-06-18T00:00:00",
          "2024-06-19T00:00:00",
          "2024-06-20T00:00:00",
          "2024-06-21T00:00:00",
          "2024-06-24T00:00:00",
          "2024-06-25T00:00:00",
          "2024-06-26T00:00:00",
          "2024-06-27T00:00:00",
          "2024-06-28T00:00:00",
          "2024-07-01T00:00:00",
          "2024-07-02T00:00:00",
          "2024-07-03T00:00:00",
          "2024-07-04T00:00:00",
          "2024-07-05T00:00:00",
          "2024-07-08T00:00:00",
          "2024-07-09T00:00:00",
          "2024-07-10T00:00:00",
          "2024-07-11T00:00:00",
          "2024-07-12T00:00:00",
          "2024-07-15T00:00:00",
          "2024-07-16T00:00:00",
          "2024-07-17T00:00:00",
          "2024-07-18T00:00:00",
          "2024-07-19T00:00:00",
          "2024-07-22T00:00:00",
          "2024-07-23T00:00:00",
          "2024-07-24T00:00:00",
          "2024-07-25T00:00:00",
          "2024-07-26T00:00:00",
          "2024-07-29T00:00:00",
          "2024-07-30T00:00:00",
          "2024-07-31T00:00:00",
          "2024-08-01T00:00:00",
          "2024-08-02T00:00:00",
          "2024-08-05T00:00:00",
          "2024-08-06T00:00:00",
          "2024-08-07T00:00:00",
          "2024-08-08T00:00:00",
          "2024-08-09T00:00:00"
         ],
         "y": [
          80.8659442307864,
          76.18418265222934,
          75.98744548718534,
          77.83514151305924,
          77.42683000090996,
          77.09220005913859,
          76.6511483217043,
          75.7801658592378,
          76.5823155020245,
          76.74526325288292,
          77.03169989653358,
          76.58075074417907,
          76.72257611706199,
          77.00202071647855,
          77.31510339032283,
          77.13082619796839,
          76.9903156208479,
          77.14432728465299,
          77.24735327911394,
          77.19972982909643,
          76.6849077864247,
          76.65239728517066,
          76.80279079039693,
          76.72057383490007,
          76.7440852960561,
          76.36808800866056,
          76.38931856973976,
          76.43141778203237,
          75.65201619719906,
          75.43975958683164,
          75.47838181472372,
          75.53454640076409,
          75.77709352465666,
          75.7168173779306,
          75.6518308874973,
          75.34815182297025,
          75.58721805370558,
          75.26308328519663,
          75.10279937641045,
          75.57777191484882,
          75.13515065261734,
          75.32299047733186,
          74.96577312705145,
          75.08967026787545,
          75.14192498543105,
          75.59060460885242,
          75.11278306175582,
          75.35876549317949,
          75.46288524571293,
          75.69708761425298,
          75.47742994673322,
          75.8620468149651,
          75.92858725566253,
          75.68782401192233,
          75.85182284936562,
          76.38940898835644,
          76.27853569085437,
          76.29325588261719,
          76.33919356199898
         ]
        },
        {
         "fill": "tonexty",
         "hoverinfo": "text",
         "hovertemplate": "%{text}<extra></extra>",
         "mode": "none",
         "name": "湖南黄金",
         "text": [
          "湖南黄金: 0.00%",
          "湖南黄金: 6.09%",
          "湖南黄金: 6.16%",
          "湖南黄金: 5.65%",
          "湖南黄金: 5.78%",
          "湖南黄金: 5.94%",
          "湖南黄金: 6.07%",
          "湖南黄金: 6.58%",
          "湖南黄金: 6.06%",
          "湖南黄金: 6.02%",
          "湖南黄金: 5.76%",
          "湖南黄金: 5.92%",
          "湖南黄金: 5.81%",
          "湖南黄金: 5.80%",
          "湖南黄金: 5.62%",
          "湖南黄金: 5.56%",
          "湖南黄金: 5.56%",
          "湖南黄金: 5.39%",
          "湖南黄金: 5.46%",
          "湖南黄金: 5.43%",
          "湖南黄金: 5.59%",
          "湖南黄金: 5.61%",
          "湖南黄金: 5.46%",
          "湖南黄金: 5.61%",
          "湖南黄金: 5.46%",
          "湖南黄金: 5.55%",
          "湖南黄金: 5.52%",
          "湖南黄金: 5.41%",
          "湖南黄金: 5.67%",
          "湖南黄金: 5.87%",
          "湖南黄金: 5.85%",
          "湖南黄金: 5.82%",
          "湖南黄金: 5.63%",
          "湖南黄金: 5.77%",
          "湖南黄金: 5.67%",
          "湖南黄金: 5.78%",
          "湖南黄金: 5.68%",
          "湖南黄金: 5.88%",
          "湖南黄金: 5.91%",
          "湖南黄金: 6.00%",
          "湖南黄金: 6.23%",
          "湖南黄金: 6.16%",
          "湖南黄金: 6.26%",
          "湖南黄金: 5.88%",
          "湖南黄金: 5.83%",
          "湖南黄金: 5.47%",
          "湖南黄金: 5.50%",
          "湖南黄金: 5.25%",
          "湖南黄金: 5.31%",
          "湖南黄金: 5.27%",
          "湖南黄金: 5.40%",
          "湖南黄金: 5.50%",
          "湖南黄金: 5.44%",
          "湖南黄金: 5.59%",
          "湖南黄金: 5.36%",
          "湖南黄金: 5.23%",
          "湖南黄金: 5.31%",
          "湖南黄金: 5.20%",
          "湖南黄金: 5.20%"
         ],
         "type": "scatter",
         "x": [
          "2024-05-20T00:00:00",
          "2024-05-21T00:00:00",
          "2024-05-22T00:00:00",
          "2024-05-23T00:00:00",
          "2024-05-24T00:00:00",
          "2024-05-27T00:00:00",
          "2024-05-28T00:00:00",
          "2024-05-29T00:00:00",
          "2024-05-30T00:00:00",
          "2024-05-31T00:00:00",
          "2024-06-03T00:00:00",
          "2024-06-04T00:00:00",
          "2024-06-05T00:00:00",
          "2024-06-06T00:00:00",
          "2024-06-07T00:00:00",
          "2024-06-11T00:00:00",
          "2024-06-12T00:00:00",
          "2024-06-13T00:00:00",
          "2024-06-14T00:00:00",
          "2024-06-17T00:00:00",
          "2024-06-18T00:00:00",
          "2024-06-19T00:00:00",
          "2024-06-20T00:00:00",
          "2024-06-21T00:00:00",
          "2024-06-24T00:00:00",
          "2024-06-25T00:00:00",
          "2024-06-26T00:00:00",
          "2024-06-27T00:00:00",
          "2024-06-28T00:00:00",
          "2024-07-01T00:00:00",
          "2024-07-02T00:00:00",
          "2024-07-03T00:00:00",
          "2024-07-04T00:00:00",
          "2024-07-05T00:00:00",
          "2024-07-08T00:00:00",
          "2024-07-09T00:00:00",
          "2024-07-10T00:00:00",
          "2024-07-11T00:00:00",
          "2024-07-12T00:00:00",
          "2024-07-15T00:00:00",
          "2024-07-16T00:00:00",
          "2024-07-17T00:00:00",
          "2024-07-18T00:00:00",
          "2024-07-19T00:00:00",
          "2024-07-22T00:00:00",
          "2024-07-23T00:00:00",
          "2024-07-24T00:00:00",
          "2024-07-25T00:00:00",
          "2024-07-26T00:00:00",
          "2024-07-29T00:00:00",
          "2024-07-30T00:00:00",
          "2024-07-31T00:00:00",
          "2024-08-01T00:00:00",
          "2024-08-02T00:00:00",
          "2024-08-05T00:00:00",
          "2024-08-06T00:00:00",
          "2024-08-07T00:00:00",
          "2024-08-08T00:00:00",
          "2024-08-09T00:00:00"
         ],
         "y": [
          80.8659442307864,
          82.27767281293751,
          82.1450038316189,
          83.4812741668184,
          83.21104806842779,
          83.02980609567489,
          82.72558632866476,
          82.36158997184766,
          82.64526112490142,
          82.76701093355614,
          82.79396199078523,
          82.4961430294675,
          82.52878759338323,
          82.80408406436703,
          82.93218136972516,
          82.6938176600619,
          82.55513826898311,
          82.53669032741963,
          82.70465422272717,
          82.63034025311465,
          82.274062728583,
          82.25759444663491,
          82.26771355574273,
          82.32599650420579,
          82.20706898641738,
          81.91917236324576,
          81.90653046270155,
          81.83900849758034,
          81.31717978885303,
          81.30541448803015,
          81.33125697350484,
          81.35180039328884,
          81.40613055254578,
          81.49092433386389,
          81.32606288455852,
          81.12984744577261,
          81.26264514229752,
          81.14563233254023,
          81.01609052758087,
          81.57488821442293,
          81.36825340954849,
          81.48540081195881,
          81.22864266598425,
          80.96954840162765,
          80.96822834501396,
          81.06060167668342,
          80.61748711783788,
          80.60499366075166,
          80.76902756168991,
          80.96428038742054,
          80.87590792658924,
          81.36550026392503,
          81.36727629216534,
          81.2801814006429,
          81.20835194881603,
          81.62059818995853,
          81.58723002096465,
          81.49348819990942,
          81.53765301587825
         ]
        },
        {
         "fill": "tonexty",
         "hoverinfo": "text",
         "hovertemplate": "%{text}<extra></extra>",
         "mode": "none",
         "name": "华锡有色",
         "text": [
          "华锡有色: 6.69%",
          "华锡有色: 6.01%",
          "华锡有色: 6.04%",
          "华锡有色: 5.39%",
          "华锡有色: 5.63%",
          "华锡有色: 5.90%",
          "华锡有色: 6.21%",
          "华锡有色: 6.73%",
          "华锡有色: 6.20%",
          "华锡有色: 6.18%",
          "华锡有色: 5.91%",
          "华锡有色: 6.21%",
          "华锡有色: 6.15%",
          "华锡有色: 6.01%",
          "华锡有色: 5.70%",
          "华锡有色: 5.78%",
          "华锡有色: 5.89%",
          "华锡有色: 5.79%",
          "华锡有色: 5.72%",
          "华锡有色: 5.68%",
          "华锡有色: 5.89%",
          "华锡有色: 5.87%",
          "华锡有色: 5.70%",
          "华锡有色: 5.60%",
          "华锡有色: 5.55%",
          "华锡有色: 5.82%",
          "华锡有色: 5.90%",
          "华锡有色: 5.88%",
          "华锡有色: 6.33%",
          "华锡有色: 6.31%",
          "华锡有色: 6.22%",
          "华锡有色: 6.17%",
          "华锡有色: 6.03%",
          "华锡有色: 6.01%",
          "华锡有色: 6.01%",
          "华锡有色: 6.11%",
          "华锡有色: 5.95%",
          "华锡有色: 6.10%",
          "华锡有色: 6.01%",
          "华锡有色: 5.79%",
          "华锡有色: 5.92%",
          "华锡有色: 5.85%",
          "华锡有色: 5.90%",
          "华锡有色: 5.96%",
          "华锡有色: 6.03%",
          "华锡有色: 5.60%",
          "华锡有色: 5.59%",
          "华锡有色: 5.42%",
          "华锡有色: 5.55%",
          "华锡有色: 5.55%",
          "华锡有色: 5.72%",
          "华锡有色: 5.67%",
          "华锡有色: 5.55%",
          "华锡有色: 5.57%",
          "华锡有色: 5.48%",
          "华锡有色: 5.39%",
          "华锡有色: 5.27%",
          "华锡有色: 5.33%",
          "华锡有色: 5.40%"
         ],
         "type": "scatter",
         "x": [
          "2024-05-20T00:00:00",
          "2024-05-21T00:00:00",
          "2024-05-22T00:00:00",
          "2024-05-23T00:00:00",
          "2024-05-24T00:00:00",
          "2024-05-27T00:00:00",
          "2024-05-28T00:00:00",
          "2024-05-29T00:00:00",
          "2024-05-30T00:00:00",
          "2024-05-31T00:00:00",
          "2024-06-03T00:00:00",
          "2024-06-04T00:00:00",
          "2024-06-05T00:00:00",
          "2024-06-06T00:00:00",
          "2024-06-07T00:00:00",
          "2024-06-11T00:00:00",
          "2024-06-12T00:00:00",
          "2024-06-13T00:00:00",
          "2024-06-14T00:00:00",
          "2024-06-17T00:00:00",
          "2024-06-18T00:00:00",
          "2024-06-19T00:00:00",
          "2024-06-20T00:00:00",
          "2024-06-21T00:00:00",
          "2024-06-24T00:00:00",
          "2024-06-25T00:00:00",
          "2024-06-26T00:00:00",
          "2024-06-27T00:00:00",
          "2024-06-28T00:00:00",
          "2024-07-01T00:00:00",
          "2024-07-02T00:00:00",
          "2024-07-03T00:00:00",
          "2024-07-04T00:00:00",
          "2024-07-05T00:00:00",
          "2024-07-08T00:00:00",
          "2024-07-09T00:00:00",
          "2024-07-10T00:00:00",
          "2024-07-11T00:00:00",
          "2024-07-12T00:00:00",
          "2024-07-15T00:00:00",
          "2024-07-16T00:00:00",
          "2024-07-17T00:00:00",
          "2024-07-18T00:00:00",
          "2024-07-19T00:00:00",
          "2024-07-22T00:00:00",
          "2024-07-23T00:00:00",
          "2024-07-24T00:00:00",
          "2024-07-25T00:00:00",
          "2024-07-26T00:00:00",
          "2024-07-29T00:00:00",
          "2024-07-30T00:00:00",
          "2024-07-31T00:00:00",
          "2024-08-01T00:00:00",
          "2024-08-02T00:00:00",
          "2024-08-05T00:00:00",
          "2024-08-06T00:00:00",
          "2024-08-07T00:00:00",
          "2024-08-08T00:00:00",
          "2024-08-09T00:00:00"
         ],
         "y": [
          87.55353262594168,
          88.28535282540152,
          88.1863245451888,
          88.87484337706117,
          88.8428042651608,
          88.9339492481555,
          88.93616742415642,
          89.09082671454955,
          88.84501511212852,
          88.94398060956068,
          88.70032973690716,
          88.70769189897187,
          88.68014892054931,
          88.81415129234423,
          88.62884892600108,
          88.47187919023467,
          88.44061609010805,
          88.32837072519008,
          88.42092420167066,
          88.30577342485587,
          88.16353954331593,
          88.13151241173527,
          87.97037774728936,
          87.92514547378684,
          87.75268077251708,
          87.74336518797259,
          87.80565494361517,
          87.7187662587553,
          87.64588705510019,
          87.61753681298221,
          87.55476238081813,
          87.52425877648355,
          87.44058336367507,
          87.49785817840652,
          87.33152382490879,
          87.24210056107229,
          87.21393993253818,
          87.24242638343637,
          87.02384295505622,
          87.36048787661902,
          87.28801129814637,
          87.33906697906801,
          87.12475348992331,
          86.9313981006261,
          87.00317843626411,
          86.66221246767518,
          86.20598650886731,
          86.02861462500462,
          86.32348696088471,
          86.51566294710743,
          86.59347553089498,
          87.03631033562758,
          86.91506002005791,
          86.8496059646677,
          86.68616116093517,
          87.00899073348259,
          86.85940436595453,
          86.82473424130214,
          86.93566926277785
         ]
        },
        {
         "fill": "tonexty",
         "hoverinfo": "text",
         "hovertemplate": "%{text}<extra></extra>",
         "mode": "none",
         "name": "青岛港",
         "text": [
          "青岛港: 5.85%",
          "青岛港: 5.47%",
          "青岛港: 5.50%",
          "青岛港: 5.14%",
          "青岛港: 5.22%",
          "青岛港: 5.17%",
          "青岛港: 5.08%",
          "青岛港: 5.03%",
          "青岛港: 5.20%",
          "青岛港: 5.16%",
          "青岛港: 5.11%",
          "青岛港: 5.11%",
          "青岛港: 5.05%",
          "青岛港: 5.01%",
          "青岛港: 5.07%",
          "青岛港: 5.18%",
          "青岛港: 5.20%",
          "青岛港: 5.23%",
          "青岛港: 5.35%",
          "青岛港: 5.43%",
          "青岛港: 5.53%",
          "青岛港: 5.50%",
          "青岛港: 5.65%",
          "青岛港: 5.67%",
          "青岛港: 5.66%",
          "青岛港: 5.69%",
          "青岛港: 5.65%",
          "青岛港: 5.75%",
          "青岛港: 5.80%",
          "青岛港: 5.77%",
          "青岛港: 5.77%",
          "青岛港: 5.79%",
          "青岛港: 5.86%",
          "青岛港: 5.83%",
          "青岛港: 5.76%",
          "青岛港: 5.86%",
          "青岛港: 5.94%",
          "青岛港: 5.86%",
          "青岛港: 6.03%",
          "青岛港: 5.68%",
          "青岛港: 5.65%",
          "青岛港: 5.57%",
          "青岛港: 5.68%",
          "青岛港: 5.69%",
          "青岛港: 5.70%",
          "青岛港: 5.81%",
          "青岛港: 5.93%",
          "青岛港: 5.94%",
          "青岛港: 5.83%",
          "青岛港: 5.80%",
          "青岛港: 5.85%",
          "青岛港: 5.86%",
          "青岛港: 5.96%",
          "青岛港: 5.97%",
          "青岛港: 6.00%",
          "青岛港: 5.80%",
          "青岛港: 5.85%",
          "青岛港: 5.91%",
          "青岛港: 5.89%"
         ],
         "type": "scatter",
         "x": [
          "2024-05-20T00:00:00",
          "2024-05-21T00:00:00",
          "2024-05-22T00:00:00",
          "2024-05-23T00:00:00",
          "2024-05-24T00:00:00",
          "2024-05-27T00:00:00",
          "2024-05-28T00:00:00",
          "2024-05-29T00:00:00",
          "2024-05-30T00:00:00",
          "2024-05-31T00:00:00",
          "2024-06-03T00:00:00",
          "2024-06-04T00:00:00",
          "2024-06-05T00:00:00",
          "2024-06-06T00:00:00",
          "2024-06-07T00:00:00",
          "2024-06-11T00:00:00",
          "2024-06-12T00:00:00",
          "2024-06-13T00:00:00",
          "2024-06-14T00:00:00",
          "2024-06-17T00:00:00",
          "2024-06-18T00:00:00",
          "2024-06-19T00:00:00",
          "2024-06-20T00:00:00",
          "2024-06-21T00:00:00",
          "2024-06-24T00:00:00",
          "2024-06-25T00:00:00",
          "2024-06-26T00:00:00",
          "2024-06-27T00:00:00",
          "2024-06-28T00:00:00",
          "2024-07-01T00:00:00",
          "2024-07-02T00:00:00",
          "2024-07-03T00:00:00",
          "2024-07-04T00:00:00",
          "2024-07-05T00:00:00",
          "2024-07-08T00:00:00",
          "2024-07-09T00:00:00",
          "2024-07-10T00:00:00",
          "2024-07-11T00:00:00",
          "2024-07-12T00:00:00",
          "2024-07-15T00:00:00",
          "2024-07-16T00:00:00",
          "2024-07-17T00:00:00",
          "2024-07-18T00:00:00",
          "2024-07-19T00:00:00",
          "2024-07-22T00:00:00",
          "2024-07-23T00:00:00",
          "2024-07-24T00:00:00",
          "2024-07-25T00:00:00",
          "2024-07-26T00:00:00",
          "2024-07-29T00:00:00",
          "2024-07-30T00:00:00",
          "2024-07-31T00:00:00",
          "2024-08-01T00:00:00",
          "2024-08-02T00:00:00",
          "2024-08-05T00:00:00",
          "2024-08-06T00:00:00",
          "2024-08-07T00:00:00",
          "2024-08-08T00:00:00",
          "2024-08-09T00:00:00"
         ],
         "y": [
          93.40589321560437,
          93.75262250822047,
          93.68191269562774,
          94.01727529824906,
          94.05988148287761,
          94.10755933785174,
          94.01492950563564,
          94.11694175480105,
          94.04504035009498,
          94.10426923601463,
          93.81235324482066,
          93.82170012844063,
          93.72897797331146,
          93.82524325914284,
          93.6946232509433,
          93.64737097457014,
          93.64029152460438,
          93.55351458419314,
          93.76707982011365,
          93.73118540895187,
          93.69255268992177,
          93.63014202201548,
          93.61718574947845,
          93.59963328472111,
          93.41556729409564,
          93.43286573766571,
          93.45432494578586,
          93.47157344060125,
          93.44134517136047,
          93.38445791631406,
          93.32153859148121,
          93.31775810988938,
          93.29959878856714,
          93.33015468531964,
          93.09340111130021,
          93.10504220676698,
          93.15142469519131,
          93.10521829621331,
          93.05535153530752,
          93.04172759976208,
          92.94052774579352,
          92.90823846276429,
          92.80158509617753,
          92.62256574256975,
          92.70368535713493,
          92.47554417239394,
          92.13613715055682,
          91.97133268169279,
          92.15187545227714,
          92.31396762185018,
          92.43952620251902,
          92.9002235417225,
          92.87676133774912,
          92.81871841950955,
          92.689516457012,
          92.80878738072008,
          92.70926051921923,
          92.73042458010457,
          92.82260052484227
         ]
        },
        {
         "fill": "tonexty",
         "hoverinfo": "text",
         "hovertemplate": "%{text}<extra></extra>",
         "mode": "none",
         "name": "中国核电",
         "text": [
          "中国核电: 6.59%",
          "中国核电: 6.25%",
          "中国核电: 6.32%",
          "中国核电: 5.98%",
          "中国核电: 5.94%",
          "中国核电: 5.89%",
          "中国核电: 5.99%",
          "中国核电: 5.88%",
          "中国核电: 5.95%",
          "中国核电: 5.90%",
          "中国核电: 6.19%",
          "中国核电: 6.18%",
          "中国核电: 6.27%",
          "中国核电: 6.17%",
          "中国核电: 6.31%",
          "中国核电: 6.35%",
          "中国核电: 6.36%",
          "中国核电: 6.45%",
          "中国核电: 6.23%",
          "中国核电: 6.27%",
          "中国核电: 6.31%",
          "中国核电: 6.37%",
          "中国核电: 6.38%",
          "中国核电: 6.40%",
          "中国核电: 6.58%",
          "中国核电: 6.57%",
          "中国核电: 6.55%",
          "中国核电: 6.53%",
          "中国核电: 6.56%",
          "中国核电: 6.62%",
          "中国核电: 6.68%",
          "中国核电: 6.68%",
          "中国核电: 6.70%",
          "中国核电: 6.67%",
          "中国核电: 6.91%",
          "中国核电: 6.89%",
          "中国核电: 6.85%",
          "中国核电: 6.89%",
          "中国核电: 6.94%",
          "中国核电: 6.96%",
          "中国核电: 7.06%",
          "中国核电: 7.09%",
          "中国核电: 7.20%",
          "中国核电: 7.38%",
          "中国核电: 7.30%",
          "中国核电: 7.52%",
          "中国核电: 7.86%",
          "中国核电: 8.03%",
          "中国核电: 7.85%",
          "中国核电: 7.69%",
          "中国核电: 7.56%",
          "中国核电: 7.10%",
          "中国核电: 7.12%",
          "中国核电: 7.18%",
          "中国核电: 7.31%",
          "中国核电: 7.19%",
          "中国核电: 7.29%",
          "中国核电: 7.27%",
          "中国核电: 7.18%"
         ],
         "type": "scatter",
         "x": [
          "2024-05-20T00:00:00",
          "2024-05-21T00:00:00",
          "2024-05-22T00:00:00",
          "2024-05-23T00:00:00",
          "2024-05-24T00:00:00",
          "2024-05-27T00:00:00",
          "2024-05-28T00:00:00",
          "2024-05-29T00:00:00",
          "2024-05-30T00:00:00",
          "2024-05-31T00:00:00",
          "2024-06-03T00:00:00",
          "2024-06-04T00:00:00",
          "2024-06-05T00:00:00",
          "2024-06-06T00:00:00",
          "2024-06-07T00:00:00",
          "2024-06-11T00:00:00",
          "2024-06-12T00:00:00",
          "2024-06-13T00:00:00",
          "2024-06-14T00:00:00",
          "2024-06-17T00:00:00",
          "2024-06-18T00:00:00",
          "2024-06-19T00:00:00",
          "2024-06-20T00:00:00",
          "2024-06-21T00:00:00",
          "2024-06-24T00:00:00",
          "2024-06-25T00:00:00",
          "2024-06-26T00:00:00",
          "2024-06-27T00:00:00",
          "2024-06-28T00:00:00",
          "2024-07-01T00:00:00",
          "2024-07-02T00:00:00",
          "2024-07-03T00:00:00",
          "2024-07-04T00:00:00",
          "2024-07-05T00:00:00",
          "2024-07-08T00:00:00",
          "2024-07-09T00:00:00",
          "2024-07-10T00:00:00",
          "2024-07-11T00:00:00",
          "2024-07-12T00:00:00",
          "2024-07-15T00:00:00",
          "2024-07-16T00:00:00",
          "2024-07-17T00:00:00",
          "2024-07-18T00:00:00",
          "2024-07-19T00:00:00",
          "2024-07-22T00:00:00",
          "2024-07-23T00:00:00",
          "2024-07-24T00:00:00",
          "2024-07-25T00:00:00",
          "2024-07-26T00:00:00",
          "2024-07-29T00:00:00",
          "2024-07-30T00:00:00",
          "2024-07-31T00:00:00",
          "2024-08-01T00:00:00",
          "2024-08-02T00:00:00",
          "2024-08-05T00:00:00",
          "2024-08-06T00:00:00",
          "2024-08-07T00:00:00",
          "2024-08-08T00:00:00",
          "2024-08-09T00:00:00"
         ],
         "y": [
          100,
          100,
          100,
          99.99999999999999,
          99.99999999999999,
          100,
          100,
          100,
          99.99999999999999,
          100,
          100,
          100,
          100,
          99.99999999999999,
          100,
          100,
          100,
          100,
          100,
          100,
          100,
          100.00000000000001,
          99.99999999999997,
          100,
          99.99999999999999,
          100,
          100,
          100,
          100,
          100,
          100,
          100.00000000000003,
          100,
          100,
          100.00000000000001,
          99.99999999999999,
          100.00000000000001,
          100.00000000000001,
          99.99999999999999,
          99.99999999999997,
          100.00000000000001,
          100.00000000000001,
          100.00000000000001,
          99.99999999999999,
          100,
          99.99999999999999,
          100,
          100.00000000000001,
          100.00000000000001,
          99.99999999999997,
          99.99999999999999,
          100,
          100.00000000000001,
          99.99999999999996,
          100.00000000000001,
          100,
          100.00000000000001,
          100.00000000000001,
          100.00000000000001
         ]
        },
        {
         "fill": "tonexty",
         "hoverinfo": "text",
         "hovertemplate": "%{text}<extra></extra>",
         "mode": "none",
         "name": "长江电力",
         "text": [
          "长江电力: 0.00%",
          "长江电力: 0.00%",
          "长江电力: 0.00%",
          "长江电力: 0.00%",
          "长江电力: 0.00%",
          "长江电力: 0.00%",
          "长江电力: 0.00%",
          "长江电力: 0.00%",
          "长江电力: 0.00%",
          "长江电力: 0.00%",
          "长江电力: 0.00%",
          "长江电力: 0.00%",
          "长江电力: 0.00%",
          "长江电力: 0.00%",
          "长江电力: 0.00%",
          "长江电力: 0.00%",
          "长江电力: 0.00%",
          "长江电力: 0.00%",
          "长江电力: 0.00%",
          "长江电力: 0.00%",
          "长江电力: 0.00%",
          "长江电力: 0.00%",
          "长江电力: 0.00%",
          "长江电力: 0.00%",
          "长江电力: 0.00%",
          "长江电力: 0.00%",
          "长江电力: 0.00%",
          "长江电力: 0.00%",
          "长江电力: 0.00%",
          "长江电力: 0.00%",
          "长江电力: 0.00%",
          "长江电力: 0.00%",
          "长江电力: 0.00%",
          "长江电力: 0.00%",
          "长江电力: 0.00%",
          "长江电力: 0.00%",
          "长江电力: 0.00%",
          "长江电力: 0.00%",
          "长江电力: 0.00%",
          "长江电力: 0.00%",
          "长江电力: 0.00%",
          "长江电力: 0.00%",
          "长江电力: 0.00%",
          "长江电力: 0.00%",
          "长江电力: 0.00%",
          "长江电力: 0.00%",
          "长江电力: 0.00%",
          "长江电力: 0.00%",
          "长江电力: 0.00%",
          "长江电力: 0.00%",
          "长江电力: 0.00%",
          "长江电力: 0.00%",
          "长江电力: 0.00%",
          "长江电力: 0.00%",
          "长江电力: 0.00%",
          "长江电力: 0.00%",
          "长江电力: 0.00%",
          "长江电力: 0.00%",
          "长江电力: 0.00%"
         ],
         "type": "scatter",
         "x": [
          "2024-05-20T00:00:00",
          "2024-05-21T00:00:00",
          "2024-05-22T00:00:00",
          "2024-05-23T00:00:00",
          "2024-05-24T00:00:00",
          "2024-05-27T00:00:00",
          "2024-05-28T00:00:00",
          "2024-05-29T00:00:00",
          "2024-05-30T00:00:00",
          "2024-05-31T00:00:00",
          "2024-06-03T00:00:00",
          "2024-06-04T00:00:00",
          "2024-06-05T00:00:00",
          "2024-06-06T00:00:00",
          "2024-06-07T00:00:00",
          "2024-06-11T00:00:00",
          "2024-06-12T00:00:00",
          "2024-06-13T00:00:00",
          "2024-06-14T00:00:00",
          "2024-06-17T00:00:00",
          "2024-06-18T00:00:00",
          "2024-06-19T00:00:00",
          "2024-06-20T00:00:00",
          "2024-06-21T00:00:00",
          "2024-06-24T00:00:00",
          "2024-06-25T00:00:00",
          "2024-06-26T00:00:00",
          "2024-06-27T00:00:00",
          "2024-06-28T00:00:00",
          "2024-07-01T00:00:00",
          "2024-07-02T00:00:00",
          "2024-07-03T00:00:00",
          "2024-07-04T00:00:00",
          "2024-07-05T00:00:00",
          "2024-07-08T00:00:00",
          "2024-07-09T00:00:00",
          "2024-07-10T00:00:00",
          "2024-07-11T00:00:00",
          "2024-07-12T00:00:00",
          "2024-07-15T00:00:00",
          "2024-07-16T00:00:00",
          "2024-07-17T00:00:00",
          "2024-07-18T00:00:00",
          "2024-07-19T00:00:00",
          "2024-07-22T00:00:00",
          "2024-07-23T00:00:00",
          "2024-07-24T00:00:00",
          "2024-07-25T00:00:00",
          "2024-07-26T00:00:00",
          "2024-07-29T00:00:00",
          "2024-07-30T00:00:00",
          "2024-07-31T00:00:00",
          "2024-08-01T00:00:00",
          "2024-08-02T00:00:00",
          "2024-08-05T00:00:00",
          "2024-08-06T00:00:00",
          "2024-08-07T00:00:00",
          "2024-08-08T00:00:00",
          "2024-08-09T00:00:00"
         ],
         "y": [
          100,
          100,
          100,
          99.99999999999999,
          99.99999999999999,
          100,
          100,
          100,
          99.99999999999999,
          100,
          100,
          100,
          100,
          99.99999999999999,
          100,
          100,
          100,
          100,
          100,
          100,
          100,
          100.00000000000001,
          99.99999999999997,
          100,
          99.99999999999999,
          100,
          100,
          100,
          100,
          100,
          100,
          100.00000000000003,
          100,
          100,
          100.00000000000001,
          99.99999999999999,
          100.00000000000001,
          100.00000000000001,
          99.99999999999999,
          99.99999999999997,
          100.00000000000001,
          100.00000000000001,
          100.00000000000001,
          99.99999999999999,
          100,
          99.99999999999999,
          100,
          100.00000000000001,
          100.00000000000001,
          99.99999999999997,
          99.99999999999999,
          100,
          100.00000000000001,
          99.99999999999996,
          100.00000000000001,
          100,
          100.00000000000001,
          100.00000000000001,
          100.00000000000001
         ]
        }
       ],
       "layout": {
        "hovermode": "x unified",
        "showlegend": true,
        "template": {
         "data": {
          "bar": [
           {
            "error_x": {
             "color": "#2a3f5f"
            },
            "error_y": {
             "color": "#2a3f5f"
            },
            "marker": {
             "line": {
              "color": "#E5ECF6",
              "width": 0.5
             },
             "pattern": {
              "fillmode": "overlay",
              "size": 10,
              "solidity": 0.2
             }
            },
            "type": "bar"
           }
          ],
          "barpolar": [
           {
            "marker": {
             "line": {
              "color": "#E5ECF6",
              "width": 0.5
             },
             "pattern": {
              "fillmode": "overlay",
              "size": 10,
              "solidity": 0.2
             }
            },
            "type": "barpolar"
           }
          ],
          "carpet": [
           {
            "aaxis": {
             "endlinecolor": "#2a3f5f",
             "gridcolor": "white",
             "linecolor": "white",
             "minorgridcolor": "white",
             "startlinecolor": "#2a3f5f"
            },
            "baxis": {
             "endlinecolor": "#2a3f5f",
             "gridcolor": "white",
             "linecolor": "white",
             "minorgridcolor": "white",
             "startlinecolor": "#2a3f5f"
            },
            "type": "carpet"
           }
          ],
          "choropleth": [
           {
            "colorbar": {
             "outlinewidth": 0,
             "ticks": ""
            },
            "type": "choropleth"
           }
          ],
          "contour": [
           {
            "colorbar": {
             "outlinewidth": 0,
             "ticks": ""
            },
            "colorscale": [
             [
              0,
              "#0d0887"
             ],
             [
              0.1111111111111111,
              "#46039f"
             ],
             [
              0.2222222222222222,
              "#7201a8"
             ],
             [
              0.3333333333333333,
              "#9c179e"
             ],
             [
              0.4444444444444444,
              "#bd3786"
             ],
             [
              0.5555555555555556,
              "#d8576b"
             ],
             [
              0.6666666666666666,
              "#ed7953"
             ],
             [
              0.7777777777777778,
              "#fb9f3a"
             ],
             [
              0.8888888888888888,
              "#fdca26"
             ],
             [
              1,
              "#f0f921"
             ]
            ],
            "type": "contour"
           }
          ],
          "contourcarpet": [
           {
            "colorbar": {
             "outlinewidth": 0,
             "ticks": ""
            },
            "type": "contourcarpet"
           }
          ],
          "heatmap": [
           {
            "colorbar": {
             "outlinewidth": 0,
             "ticks": ""
            },
            "colorscale": [
             [
              0,
              "#0d0887"
             ],
             [
              0.1111111111111111,
              "#46039f"
             ],
             [
              0.2222222222222222,
              "#7201a8"
             ],
             [
              0.3333333333333333,
              "#9c179e"
             ],
             [
              0.4444444444444444,
              "#bd3786"
             ],
             [
              0.5555555555555556,
              "#d8576b"
             ],
             [
              0.6666666666666666,
              "#ed7953"
             ],
             [
              0.7777777777777778,
              "#fb9f3a"
             ],
             [
              0.8888888888888888,
              "#fdca26"
             ],
             [
              1,
              "#f0f921"
             ]
            ],
            "type": "heatmap"
           }
          ],
          "heatmapgl": [
           {
            "colorbar": {
             "outlinewidth": 0,
             "ticks": ""
            },
            "colorscale": [
             [
              0,
              "#0d0887"
             ],
             [
              0.1111111111111111,
              "#46039f"
             ],
             [
              0.2222222222222222,
              "#7201a8"
             ],
             [
              0.3333333333333333,
              "#9c179e"
             ],
             [
              0.4444444444444444,
              "#bd3786"
             ],
             [
              0.5555555555555556,
              "#d8576b"
             ],
             [
              0.6666666666666666,
              "#ed7953"
             ],
             [
              0.7777777777777778,
              "#fb9f3a"
             ],
             [
              0.8888888888888888,
              "#fdca26"
             ],
             [
              1,
              "#f0f921"
             ]
            ],
            "type": "heatmapgl"
           }
          ],
          "histogram": [
           {
            "marker": {
             "pattern": {
              "fillmode": "overlay",
              "size": 10,
              "solidity": 0.2
             }
            },
            "type": "histogram"
           }
          ],
          "histogram2d": [
           {
            "colorbar": {
             "outlinewidth": 0,
             "ticks": ""
            },
            "colorscale": [
             [
              0,
              "#0d0887"
             ],
             [
              0.1111111111111111,
              "#46039f"
             ],
             [
              0.2222222222222222,
              "#7201a8"
             ],
             [
              0.3333333333333333,
              "#9c179e"
             ],
             [
              0.4444444444444444,
              "#bd3786"
             ],
             [
              0.5555555555555556,
              "#d8576b"
             ],
             [
              0.6666666666666666,
              "#ed7953"
             ],
             [
              0.7777777777777778,
              "#fb9f3a"
             ],
             [
              0.8888888888888888,
              "#fdca26"
             ],
             [
              1,
              "#f0f921"
             ]
            ],
            "type": "histogram2d"
           }
          ],
          "histogram2dcontour": [
           {
            "colorbar": {
             "outlinewidth": 0,
             "ticks": ""
            },
            "colorscale": [
             [
              0,
              "#0d0887"
             ],
             [
              0.1111111111111111,
              "#46039f"
             ],
             [
              0.2222222222222222,
              "#7201a8"
             ],
             [
              0.3333333333333333,
              "#9c179e"
             ],
             [
              0.4444444444444444,
              "#bd3786"
             ],
             [
              0.5555555555555556,
              "#d8576b"
             ],
             [
              0.6666666666666666,
              "#ed7953"
             ],
             [
              0.7777777777777778,
              "#fb9f3a"
             ],
             [
              0.8888888888888888,
              "#fdca26"
             ],
             [
              1,
              "#f0f921"
             ]
            ],
            "type": "histogram2dcontour"
           }
          ],
          "mesh3d": [
           {
            "colorbar": {
             "outlinewidth": 0,
             "ticks": ""
            },
            "type": "mesh3d"
           }
          ],
          "parcoords": [
           {
            "line": {
             "colorbar": {
              "outlinewidth": 0,
              "ticks": ""
             }
            },
            "type": "parcoords"
           }
          ],
          "pie": [
           {
            "automargin": true,
            "type": "pie"
           }
          ],
          "scatter": [
           {
            "fillpattern": {
             "fillmode": "overlay",
             "size": 10,
             "solidity": 0.2
            },
            "type": "scatter"
           }
          ],
          "scatter3d": [
           {
            "line": {
             "colorbar": {
              "outlinewidth": 0,
              "ticks": ""
             }
            },
            "marker": {
             "colorbar": {
              "outlinewidth": 0,
              "ticks": ""
             }
            },
            "type": "scatter3d"
           }
          ],
          "scattercarpet": [
           {
            "marker": {
             "colorbar": {
              "outlinewidth": 0,
              "ticks": ""
             }
            },
            "type": "scattercarpet"
           }
          ],
          "scattergeo": [
           {
            "marker": {
             "colorbar": {
              "outlinewidth": 0,
              "ticks": ""
             }
            },
            "type": "scattergeo"
           }
          ],
          "scattergl": [
           {
            "marker": {
             "colorbar": {
              "outlinewidth": 0,
              "ticks": ""
             }
            },
            "type": "scattergl"
           }
          ],
          "scattermapbox": [
           {
            "marker": {
             "colorbar": {
              "outlinewidth": 0,
              "ticks": ""
             }
            },
            "type": "scattermapbox"
           }
          ],
          "scatterpolar": [
           {
            "marker": {
             "colorbar": {
              "outlinewidth": 0,
              "ticks": ""
             }
            },
            "type": "scatterpolar"
           }
          ],
          "scatterpolargl": [
           {
            "marker": {
             "colorbar": {
              "outlinewidth": 0,
              "ticks": ""
             }
            },
            "type": "scatterpolargl"
           }
          ],
          "scatterternary": [
           {
            "marker": {
             "colorbar": {
              "outlinewidth": 0,
              "ticks": ""
             }
            },
            "type": "scatterternary"
           }
          ],
          "surface": [
           {
            "colorbar": {
             "outlinewidth": 0,
             "ticks": ""
            },
            "colorscale": [
             [
              0,
              "#0d0887"
             ],
             [
              0.1111111111111111,
              "#46039f"
             ],
             [
              0.2222222222222222,
              "#7201a8"
             ],
             [
              0.3333333333333333,
              "#9c179e"
             ],
             [
              0.4444444444444444,
              "#bd3786"
             ],
             [
              0.5555555555555556,
              "#d8576b"
             ],
             [
              0.6666666666666666,
              "#ed7953"
             ],
             [
              0.7777777777777778,
              "#fb9f3a"
             ],
             [
              0.8888888888888888,
              "#fdca26"
             ],
             [
              1,
              "#f0f921"
             ]
            ],
            "type": "surface"
           }
          ],
          "table": [
           {
            "cells": {
             "fill": {
              "color": "#EBF0F8"
             },
             "line": {
              "color": "white"
             }
            },
            "header": {
             "fill": {
              "color": "#C8D4E3"
             },
             "line": {
              "color": "white"
             }
            },
            "type": "table"
           }
          ]
         },
         "layout": {
          "annotationdefaults": {
           "arrowcolor": "#2a3f5f",
           "arrowhead": 0,
           "arrowwidth": 1
          },
          "autotypenumbers": "strict",
          "coloraxis": {
           "colorbar": {
            "outlinewidth": 0,
            "ticks": ""
           }
          },
          "colorscale": {
           "diverging": [
            [
             0,
             "#8e0152"
            ],
            [
             0.1,
             "#c51b7d"
            ],
            [
             0.2,
             "#de77ae"
            ],
            [
             0.3,
             "#f1b6da"
            ],
            [
             0.4,
             "#fde0ef"
            ],
            [
             0.5,
             "#f7f7f7"
            ],
            [
             0.6,
             "#e6f5d0"
            ],
            [
             0.7,
             "#b8e186"
            ],
            [
             0.8,
             "#7fbc41"
            ],
            [
             0.9,
             "#4d9221"
            ],
            [
             1,
             "#276419"
            ]
           ],
           "sequential": [
            [
             0,
             "#0d0887"
            ],
            [
             0.1111111111111111,
             "#46039f"
            ],
            [
             0.2222222222222222,
             "#7201a8"
            ],
            [
             0.3333333333333333,
             "#9c179e"
            ],
            [
             0.4444444444444444,
             "#bd3786"
            ],
            [
             0.5555555555555556,
             "#d8576b"
            ],
            [
             0.6666666666666666,
             "#ed7953"
            ],
            [
             0.7777777777777778,
             "#fb9f3a"
            ],
            [
             0.8888888888888888,
             "#fdca26"
            ],
            [
             1,
             "#f0f921"
            ]
           ],
           "sequentialminus": [
            [
             0,
             "#0d0887"
            ],
            [
             0.1111111111111111,
             "#46039f"
            ],
            [
             0.2222222222222222,
             "#7201a8"
            ],
            [
             0.3333333333333333,
             "#9c179e"
            ],
            [
             0.4444444444444444,
             "#bd3786"
            ],
            [
             0.5555555555555556,
             "#d8576b"
            ],
            [
             0.6666666666666666,
             "#ed7953"
            ],
            [
             0.7777777777777778,
             "#fb9f3a"
            ],
            [
             0.8888888888888888,
             "#fdca26"
            ],
            [
             1,
             "#f0f921"
            ]
           ]
          },
          "colorway": [
           "#636efa",
           "#EF553B",
           "#00cc96",
           "#ab63fa",
           "#FFA15A",
           "#19d3f3",
           "#FF6692",
           "#B6E880",
           "#FF97FF",
           "#FECB52"
          ],
          "font": {
           "color": "#2a3f5f"
          },
          "geo": {
           "bgcolor": "white",
           "lakecolor": "white",
           "landcolor": "#E5ECF6",
           "showlakes": true,
           "showland": true,
           "subunitcolor": "white"
          },
          "hoverlabel": {
           "align": "left"
          },
          "hovermode": "closest",
          "mapbox": {
           "style": "light"
          },
          "paper_bgcolor": "white",
          "plot_bgcolor": "#E5ECF6",
          "polar": {
           "angularaxis": {
            "gridcolor": "white",
            "linecolor": "white",
            "ticks": ""
           },
           "bgcolor": "#E5ECF6",
           "radialaxis": {
            "gridcolor": "white",
            "linecolor": "white",
            "ticks": ""
           }
          },
          "scene": {
           "xaxis": {
            "backgroundcolor": "#E5ECF6",
            "gridcolor": "white",
            "gridwidth": 2,
            "linecolor": "white",
            "showbackground": true,
            "ticks": "",
            "zerolinecolor": "white"
           },
           "yaxis": {
            "backgroundcolor": "#E5ECF6",
            "gridcolor": "white",
            "gridwidth": 2,
            "linecolor": "white",
            "showbackground": true,
            "ticks": "",
            "zerolinecolor": "white"
           },
           "zaxis": {
            "backgroundcolor": "#E5ECF6",
            "gridcolor": "white",
            "gridwidth": 2,
            "linecolor": "white",
            "showbackground": true,
            "ticks": "",
            "zerolinecolor": "white"
           }
          },
          "shapedefaults": {
           "line": {
            "color": "#2a3f5f"
           }
          },
          "ternary": {
           "aaxis": {
            "gridcolor": "white",
            "linecolor": "white",
            "ticks": ""
           },
           "baxis": {
            "gridcolor": "white",
            "linecolor": "white",
            "ticks": ""
           },
           "bgcolor": "#E5ECF6",
           "caxis": {
            "gridcolor": "white",
            "linecolor": "white",
            "ticks": ""
           }
          },
          "title": {
           "x": 0.05
          },
          "xaxis": {
           "automargin": true,
           "gridcolor": "white",
           "linecolor": "white",
           "ticks": "",
           "title": {
            "standoff": 15
           },
           "zerolinecolor": "white",
           "zerolinewidth": 2
          },
          "yaxis": {
           "automargin": true,
           "gridcolor": "white",
           "linecolor": "white",
           "ticks": "",
           "title": {
            "standoff": 15
           },
           "zerolinecolor": "white",
           "zerolinewidth": 2
          }
         }
        },
        "title": {
         "text": "Historical Stock Positions Over Time"
        },
        "xaxis": {
         "title": {
          "text": "Date"
         }
        },
        "yaxis": {
         "range": [
          0,
          100
         ],
         "title": {
          "text": "Position Percentage (%)"
         }
        }
       }
      }
     },
     "metadata": {},
     "output_type": "display_data"
    }
   ],
   "source": [
    "plot_historical_positions(dates, positions, stock_names, stock_prices)"
   ]
  },
  {
   "cell_type": "code",
   "execution_count": 50,
   "metadata": {},
   "outputs": [
    {
     "data": {
      "application/vnd.plotly.v1+json": {
       "config": {
        "plotlyServerURL": "https://plot.ly"
       },
       "data": [
        {
         "fill": "tozeroy",
         "hoverinfo": "text",
         "hovertemplate": "%{text}<extra></extra>",
         "mode": "none",
         "name": "标普500ETF",
         "text": [
          "标普500ETF: 4.52%",
          "标普500ETF: 4.59%",
          "标普500ETF: 4.64%",
          "标普500ETF: 4.69%",
          "标普500ETF: 4.61%",
          "标普500ETF: 4.53%",
          "标普500ETF: 4.49%",
          "标普500ETF: 4.39%",
          "标普500ETF: 4.47%",
          "标普500ETF: 4.47%",
          "标普500ETF: 4.55%",
          "标普500ETF: 4.50%",
          "标普500ETF: 4.58%",
          "标普500ETF: 4.58%",
          "标普500ETF: 4.59%",
          "标普500ETF: 4.70%",
          "标普500ETF: 4.69%",
          "标普500ETF: 4.76%",
          "标普500ETF: 4.77%",
          "标普500ETF: 4.78%",
          "标普500ETF: 4.78%",
          "标普500ETF: 4.78%",
          "标普500ETF: 4.77%",
          "标普500ETF: 4.79%",
          "标普500ETF: 4.84%",
          "标普500ETF: 4.83%",
          "标普500ETF: 4.87%",
          "标普500ETF: 4.97%",
          "标普500ETF: 4.89%",
          "标普500ETF: 4.80%",
          "标普500ETF: 4.83%",
          "标普500ETF: 4.93%",
          "标普500ETF: 4.88%",
          "标普500ETF: 4.89%",
          "标普500ETF: 4.90%",
          "标普500ETF: 4.83%",
          "标普500ETF: 4.87%",
          "标普500ETF: 4.85%",
          "标普500ETF: 4.92%",
          "标普500ETF: 4.98%",
          "标普500ETF: 4.93%",
          "标普500ETF: 5.07%",
          "标普500ETF: 4.98%",
          "标普500ETF: 4.93%",
          "标普500ETF: 4.91%",
          "标普500ETF: 5.07%",
          "标普500ETF: 5.03%",
          "标普500ETF: 4.96%",
          "标普500ETF: 4.98%",
          "标普500ETF: 5.04%",
          "标普500ETF: 5.06%",
          "标普500ETF: 4.96%",
          "标普500ETF: 5.01%",
          "标普500ETF: 4.95%",
          "标普500ETF: 4.79%",
          "标普500ETF: 4.81%",
          "标普500ETF: 4.79%",
          "标普500ETF: 4.82%",
          "标普500ETF: 4.87%"
         ],
         "type": "scatter",
         "x": [
          "2024-05-20T00:00:00",
          "2024-05-21T00:00:00",
          "2024-05-22T00:00:00",
          "2024-05-23T00:00:00",
          "2024-05-24T00:00:00",
          "2024-05-27T00:00:00",
          "2024-05-28T00:00:00",
          "2024-05-29T00:00:00",
          "2024-05-30T00:00:00",
          "2024-05-31T00:00:00",
          "2024-06-03T00:00:00",
          "2024-06-04T00:00:00",
          "2024-06-05T00:00:00",
          "2024-06-06T00:00:00",
          "2024-06-07T00:00:00",
          "2024-06-11T00:00:00",
          "2024-06-12T00:00:00",
          "2024-06-13T00:00:00",
          "2024-06-14T00:00:00",
          "2024-06-17T00:00:00",
          "2024-06-18T00:00:00",
          "2024-06-19T00:00:00",
          "2024-06-20T00:00:00",
          "2024-06-21T00:00:00",
          "2024-06-24T00:00:00",
          "2024-06-25T00:00:00",
          "2024-06-26T00:00:00",
          "2024-06-27T00:00:00",
          "2024-06-28T00:00:00",
          "2024-07-01T00:00:00",
          "2024-07-02T00:00:00",
          "2024-07-03T00:00:00",
          "2024-07-04T00:00:00",
          "2024-07-05T00:00:00",
          "2024-07-08T00:00:00",
          "2024-07-09T00:00:00",
          "2024-07-10T00:00:00",
          "2024-07-11T00:00:00",
          "2024-07-12T00:00:00",
          "2024-07-15T00:00:00",
          "2024-07-16T00:00:00",
          "2024-07-17T00:00:00",
          "2024-07-18T00:00:00",
          "2024-07-19T00:00:00",
          "2024-07-22T00:00:00",
          "2024-07-23T00:00:00",
          "2024-07-24T00:00:00",
          "2024-07-25T00:00:00",
          "2024-07-26T00:00:00",
          "2024-07-29T00:00:00",
          "2024-07-30T00:00:00",
          "2024-07-31T00:00:00",
          "2024-08-01T00:00:00",
          "2024-08-02T00:00:00",
          "2024-08-05T00:00:00",
          "2024-08-06T00:00:00",
          "2024-08-07T00:00:00",
          "2024-08-08T00:00:00",
          "2024-08-09T00:00:00"
         ],
         "y": [
          4.523518964145968,
          4.593699119403334,
          4.637534506717382,
          4.6888804825257795,
          4.6148341404368285,
          4.533322889871647,
          4.492647399789673,
          4.394205553770856,
          4.468650043620088,
          4.46839124152707,
          4.552798901812481,
          4.502019413555316,
          4.580784477537088,
          4.583103883923088,
          4.590041832499341,
          4.704894637858457,
          4.69204112107543,
          4.76461444773864,
          4.771899969163167,
          4.781088771618421,
          4.777850017013707,
          4.782605179388346,
          4.772820960982995,
          4.787026800363452,
          4.844076047028487,
          4.831072929880427,
          4.872705227692385,
          4.968893424874455,
          4.894679014188415,
          4.797913627933012,
          4.826344718000511,
          4.926075191472927,
          4.8778039335119985,
          4.891590868617014,
          4.896281311165642,
          4.833268431954106,
          4.871475089194179,
          4.85114067247443,
          4.9158867932886885,
          4.983891213763899,
          4.925522794789992,
          5.068460718361359,
          4.979601102937413,
          4.930271482096046,
          4.90916184286057,
          5.066621539282394,
          5.026305135849229,
          4.963725136876828,
          4.978200183600723,
          5.041072812429551,
          5.055535834070198,
          4.958653516836835,
          5.006728089701486,
          4.949795562404033,
          4.7872278266750765,
          4.813068627565478,
          4.793668383034812,
          4.820877659820429,
          4.87230364417159
         ]
        },
        {
         "fill": "tonexty",
         "hoverinfo": "text",
         "hovertemplate": "%{text}<extra></extra>",
         "mode": "none",
         "name": "纳斯达克ETF",
         "text": [
          "纳斯达克ETF: 4.22%",
          "纳斯达克ETF: 4.31%",
          "纳斯达克ETF: 4.35%",
          "纳斯达克ETF: 4.44%",
          "纳斯达克ETF: 4.36%",
          "纳斯达克ETF: 4.31%",
          "纳斯达克ETF: 4.27%",
          "纳斯达克ETF: 4.18%",
          "纳斯达克ETF: 4.25%",
          "纳斯达克ETF: 4.24%",
          "纳斯达克ETF: 4.27%",
          "纳斯达克ETF: 4.20%",
          "纳斯达克ETF: 4.29%",
          "纳斯达克ETF: 4.31%",
          "纳斯达克ETF: 4.31%",
          "纳斯达克ETF: 4.40%",
          "纳斯达克ETF: 4.43%",
          "纳斯达克ETF: 4.54%",
          "纳斯达克ETF: 4.56%",
          "纳斯达克ETF: 4.62%",
          "纳斯达克ETF: 4.68%",
          "纳斯达克ETF: 4.67%",
          "纳斯达克ETF: 4.67%",
          "纳斯达克ETF: 4.63%",
          "纳斯达克ETF: 4.69%",
          "纳斯达克ETF: 4.62%",
          "纳斯达克ETF: 4.69%",
          "纳斯达克ETF: 4.77%",
          "纳斯达克ETF: 4.72%",
          "纳斯达克ETF: 4.62%",
          "纳斯达克ETF: 4.65%",
          "纳斯达克ETF: 4.77%",
          "纳斯达克ETF: 4.77%",
          "纳斯达克ETF: 4.80%",
          "纳斯达克ETF: 4.91%",
          "纳斯达克ETF: 4.94%",
          "纳斯达克ETF: 4.96%",
          "纳斯达克ETF: 4.89%",
          "纳斯达克ETF: 4.78%",
          "纳斯达克ETF: 4.92%",
          "纳斯达克ETF: 4.86%",
          "纳斯达克ETF: 4.86%",
          "纳斯达克ETF: 4.77%",
          "纳斯达克ETF: 4.72%",
          "纳斯达克ETF: 4.69%",
          "纳斯达克ETF: 4.84%",
          "纳斯达克ETF: 4.73%",
          "纳斯达克ETF: 4.69%",
          "纳斯达克ETF: 4.70%",
          "纳斯达克ETF: 4.81%",
          "纳斯达克ETF: 4.77%",
          "纳斯达克ETF: 4.75%",
          "纳斯达克ETF: 4.78%",
          "纳斯达克ETF: 4.62%",
          "纳斯达克ETF: 4.41%",
          "纳斯达克ETF: 4.54%",
          "纳斯达克ETF: 4.48%",
          "纳斯达克ETF: 4.48%",
          "纳斯达克ETF: 4.55%"
         ],
         "type": "scatter",
         "x": [
          "2024-05-20T00:00:00",
          "2024-05-21T00:00:00",
          "2024-05-22T00:00:00",
          "2024-05-23T00:00:00",
          "2024-05-24T00:00:00",
          "2024-05-27T00:00:00",
          "2024-05-28T00:00:00",
          "2024-05-29T00:00:00",
          "2024-05-30T00:00:00",
          "2024-05-31T00:00:00",
          "2024-06-03T00:00:00",
          "2024-06-04T00:00:00",
          "2024-06-05T00:00:00",
          "2024-06-06T00:00:00",
          "2024-06-07T00:00:00",
          "2024-06-11T00:00:00",
          "2024-06-12T00:00:00",
          "2024-06-13T00:00:00",
          "2024-06-14T00:00:00",
          "2024-06-17T00:00:00",
          "2024-06-18T00:00:00",
          "2024-06-19T00:00:00",
          "2024-06-20T00:00:00",
          "2024-06-21T00:00:00",
          "2024-06-24T00:00:00",
          "2024-06-25T00:00:00",
          "2024-06-26T00:00:00",
          "2024-06-27T00:00:00",
          "2024-06-28T00:00:00",
          "2024-07-01T00:00:00",
          "2024-07-02T00:00:00",
          "2024-07-03T00:00:00",
          "2024-07-04T00:00:00",
          "2024-07-05T00:00:00",
          "2024-07-08T00:00:00",
          "2024-07-09T00:00:00",
          "2024-07-10T00:00:00",
          "2024-07-11T00:00:00",
          "2024-07-12T00:00:00",
          "2024-07-15T00:00:00",
          "2024-07-16T00:00:00",
          "2024-07-17T00:00:00",
          "2024-07-18T00:00:00",
          "2024-07-19T00:00:00",
          "2024-07-22T00:00:00",
          "2024-07-23T00:00:00",
          "2024-07-24T00:00:00",
          "2024-07-25T00:00:00",
          "2024-07-26T00:00:00",
          "2024-07-29T00:00:00",
          "2024-07-30T00:00:00",
          "2024-07-31T00:00:00",
          "2024-08-01T00:00:00",
          "2024-08-02T00:00:00",
          "2024-08-05T00:00:00",
          "2024-08-06T00:00:00",
          "2024-08-07T00:00:00",
          "2024-08-08T00:00:00",
          "2024-08-09T00:00:00"
         ],
         "y": [
          8.741194884237986,
          8.902012917018013,
          8.990881612107056,
          9.131778582222957,
          8.973288724083645,
          8.83923806850744,
          8.765306549888415,
          8.569782056469613,
          8.717084253641417,
          8.704337166947322,
          8.820272514119232,
          8.705210321663905,
          8.868914538557373,
          8.892151400791615,
          8.899608179838795,
          9.103435573344212,
          9.123688786740509,
          9.30709656779328,
          9.330656648771834,
          9.403060576366858,
          9.4602435428888,
          9.449664218321251,
          9.43880630562876,
          9.4164866831766,
          9.530910042615657,
          9.45187905462798,
          9.561392212054152,
          9.738827175674764,
          9.610557194243798,
          9.417765499968946,
          9.481282122157168,
          9.696901475592945,
          9.644580569154915,
          9.689915109277994,
          9.809708397338262,
          9.770660337977992,
          9.833753639187691,
          9.743433639979896,
          9.694806251766188,
          9.906222562970846,
          9.780611193081013,
          9.929541669369067,
          9.745475134007176,
          9.651274258802067,
          9.602481274512318,
          9.90840042297772,
          9.756344183046181,
          9.649523244554988,
          9.674810206769566,
          9.846963709782536,
          9.830208651572507,
          9.708575466969892,
          9.790032058058468,
          9.570812919571695,
          9.193623063798132,
          9.351333331145149,
          9.269699973052333,
          9.296066861624649,
          9.425982520834202
         ]
        },
        {
         "fill": "tonexty",
         "hoverinfo": "text",
         "hovertemplate": "%{text}<extra></extra>",
         "mode": "none",
         "name": "日经ETF",
         "text": [
          "日经ETF: 4.55%",
          "日经ETF: 4.58%",
          "日经ETF: 4.57%",
          "日经ETF: 4.67%",
          "日经ETF: 4.59%",
          "日经ETF: 4.50%",
          "日经ETF: 4.44%",
          "日经ETF: 4.33%",
          "日经ETF: 4.37%",
          "日经ETF: 4.39%",
          "日经ETF: 4.43%",
          "日经ETF: 4.38%",
          "日经ETF: 4.41%",
          "日经ETF: 4.37%",
          "日经ETF: 4.37%",
          "日经ETF: 4.48%",
          "日经ETF: 4.44%",
          "日经ETF: 4.45%",
          "日经ETF: 4.46%",
          "日经ETF: 4.40%",
          "日经ETF: 4.41%",
          "日经ETF: 4.42%",
          "日经ETF: 4.39%",
          "日经ETF: 4.39%",
          "日经ETF: 4.42%",
          "日经ETF: 4.51%",
          "日经ETF: 4.62%",
          "日经ETF: 4.63%",
          "日经ETF: 4.55%",
          "日经ETF: 4.49%",
          "日经ETF: 4.57%",
          "日经ETF: 4.76%",
          "日经ETF: 4.87%",
          "日经ETF: 4.73%",
          "日经ETF: 4.79%",
          "日经ETF: 4.88%",
          "日经ETF: 5.00%",
          "日经ETF: 4.90%",
          "日经ETF: 4.78%",
          "日经ETF: 4.82%",
          "日经ETF: 4.78%",
          "日经ETF: 4.82%",
          "日经ETF: 4.72%",
          "日经ETF: 4.72%",
          "日经ETF: 4.70%",
          "日经ETF: 4.82%",
          "日经ETF: 4.78%",
          "日经ETF: 4.72%",
          "日经ETF: 4.72%",
          "日经ETF: 4.89%",
          "日经ETF: 4.87%",
          "日经ETF: 4.88%",
          "日经ETF: 4.81%",
          "日经ETF: 4.69%",
          "日经ETF: 4.93%",
          "日经ETF: 5.07%",
          "日经ETF: 5.08%",
          "日经ETF: 5.14%",
          "日经ETF: 5.10%"
         ],
         "type": "scatter",
         "x": [
          "2024-05-20T00:00:00",
          "2024-05-21T00:00:00",
          "2024-05-22T00:00:00",
          "2024-05-23T00:00:00",
          "2024-05-24T00:00:00",
          "2024-05-27T00:00:00",
          "2024-05-28T00:00:00",
          "2024-05-29T00:00:00",
          "2024-05-30T00:00:00",
          "2024-05-31T00:00:00",
          "2024-06-03T00:00:00",
          "2024-06-04T00:00:00",
          "2024-06-05T00:00:00",
          "2024-06-06T00:00:00",
          "2024-06-07T00:00:00",
          "2024-06-11T00:00:00",
          "2024-06-12T00:00:00",
          "2024-06-13T00:00:00",
          "2024-06-14T00:00:00",
          "2024-06-17T00:00:00",
          "2024-06-18T00:00:00",
          "2024-06-19T00:00:00",
          "2024-06-20T00:00:00",
          "2024-06-21T00:00:00",
          "2024-06-24T00:00:00",
          "2024-06-25T00:00:00",
          "2024-06-26T00:00:00",
          "2024-06-27T00:00:00",
          "2024-06-28T00:00:00",
          "2024-07-01T00:00:00",
          "2024-07-02T00:00:00",
          "2024-07-03T00:00:00",
          "2024-07-04T00:00:00",
          "2024-07-05T00:00:00",
          "2024-07-08T00:00:00",
          "2024-07-09T00:00:00",
          "2024-07-10T00:00:00",
          "2024-07-11T00:00:00",
          "2024-07-12T00:00:00",
          "2024-07-15T00:00:00",
          "2024-07-16T00:00:00",
          "2024-07-17T00:00:00",
          "2024-07-18T00:00:00",
          "2024-07-19T00:00:00",
          "2024-07-22T00:00:00",
          "2024-07-23T00:00:00",
          "2024-07-24T00:00:00",
          "2024-07-25T00:00:00",
          "2024-07-26T00:00:00",
          "2024-07-29T00:00:00",
          "2024-07-30T00:00:00",
          "2024-07-31T00:00:00",
          "2024-08-01T00:00:00",
          "2024-08-02T00:00:00",
          "2024-08-05T00:00:00",
          "2024-08-06T00:00:00",
          "2024-08-07T00:00:00",
          "2024-08-08T00:00:00",
          "2024-08-09T00:00:00"
         ],
         "y": [
          13.291844936100777,
          13.485340882414778,
          13.56302804419293,
          13.800734321802187,
          13.5652770771224,
          13.339367958606143,
          13.205924818494662,
          12.897403617684574,
          13.091356082862037,
          13.091831654143714,
          13.254333432102676,
          13.082659448988409,
          13.282113474600687,
          13.265168577941285,
          13.267708655240927,
          13.580254948013678,
          13.558879469882687,
          13.75473564574422,
          13.786244862497739,
          13.803134396078525,
          13.86882769487049,
          13.874148064991502,
          13.827941568438758,
          13.805845064909859,
          13.95579422400644,
          13.963027857749543,
          14.18633909444393,
          14.372841447792556,
          14.163598567313663,
          13.905551768208518,
          14.0494662200143,
          14.452590276350739,
          14.510753189110451,
          14.417062139201175,
          14.602766425854302,
          14.655471532911388,
          14.834947832713752,
          14.642297382059766,
          14.478350377721956,
          14.724781443264398,
          14.564571603660621,
          14.754295872901757,
          14.467480539103313,
          14.369430048308999,
          14.300820191759446,
          14.727549128391498,
          14.534179975529703,
          14.371685701331891,
          14.397992555412728,
          14.74086511328227,
          14.696907211019173,
          14.591591033502901,
          14.601626792212564,
          14.260618748157542,
          14.120694023495332,
          14.424341036148313,
          14.348107274692383,
          14.437366686894354,
          14.527771858768059
         ]
        },
        {
         "fill": "tonexty",
         "hoverinfo": "text",
         "hovertemplate": "%{text}<extra></extra>",
         "mode": "none",
         "name": "黄金ETF",
         "text": [
          "黄金ETF: 3.91%",
          "黄金ETF: 3.92%",
          "黄金ETF: 3.95%",
          "黄金ETF: 3.89%",
          "黄金ETF: 3.86%",
          "黄金ETF: 3.77%",
          "黄金ETF: 3.73%",
          "黄金ETF: 3.69%",
          "黄金ETF: 3.76%",
          "黄金ETF: 3.77%",
          "黄金ETF: 3.75%",
          "黄金ETF: 3.74%",
          "黄金ETF: 3.77%",
          "黄金ETF: 3.77%",
          "黄金ETF: 3.76%",
          "黄金ETF: 3.73%",
          "黄金ETF: 3.73%",
          "黄金ETF: 3.76%",
          "黄金ETF: 3.78%",
          "黄金ETF: 3.81%",
          "黄金ETF: 3.79%",
          "黄金ETF: 3.81%",
          "黄金ETF: 3.80%",
          "黄金ETF: 3.84%",
          "黄金ETF: 3.83%",
          "黄金ETF: 3.84%",
          "黄金ETF: 3.80%",
          "黄金ETF: 3.82%",
          "黄金ETF: 3.76%",
          "黄金ETF: 3.69%",
          "黄金ETF: 3.71%",
          "黄金ETF: 3.76%",
          "黄金ETF: 3.78%",
          "黄金ETF: 3.77%",
          "黄金ETF: 3.77%",
          "黄金ETF: 3.71%",
          "黄金ETF: 3.78%",
          "黄金ETF: 3.75%",
          "黄金ETF: 3.87%",
          "黄金ETF: 3.83%",
          "黄金ETF: 3.82%",
          "黄金ETF: 3.93%",
          "黄金ETF: 3.91%",
          "黄金ETF: 3.86%",
          "黄金ETF: 3.89%",
          "黄金ETF: 3.94%",
          "黄金ETF: 3.99%",
          "黄金ETF: 3.95%",
          "黄金ETF: 3.95%",
          "黄金ETF: 3.93%",
          "黄金ETF: 3.97%",
          "黄金ETF: 3.95%",
          "黄金ETF: 3.98%",
          "黄金ETF: 4.07%",
          "黄金ETF: 4.11%",
          "黄金ETF: 4.06%",
          "黄金ETF: 4.05%",
          "黄金ETF: 4.10%",
          "黄金ETF: 4.09%"
         ],
         "type": "scatter",
         "x": [
          "2024-05-20T00:00:00",
          "2024-05-21T00:00:00",
          "2024-05-22T00:00:00",
          "2024-05-23T00:00:00",
          "2024-05-24T00:00:00",
          "2024-05-27T00:00:00",
          "2024-05-28T00:00:00",
          "2024-05-29T00:00:00",
          "2024-05-30T00:00:00",
          "2024-05-31T00:00:00",
          "2024-06-03T00:00:00",
          "2024-06-04T00:00:00",
          "2024-06-05T00:00:00",
          "2024-06-06T00:00:00",
          "2024-06-07T00:00:00",
          "2024-06-11T00:00:00",
          "2024-06-12T00:00:00",
          "2024-06-13T00:00:00",
          "2024-06-14T00:00:00",
          "2024-06-17T00:00:00",
          "2024-06-18T00:00:00",
          "2024-06-19T00:00:00",
          "2024-06-20T00:00:00",
          "2024-06-21T00:00:00",
          "2024-06-24T00:00:00",
          "2024-06-25T00:00:00",
          "2024-06-26T00:00:00",
          "2024-06-27T00:00:00",
          "2024-06-28T00:00:00",
          "2024-07-01T00:00:00",
          "2024-07-02T00:00:00",
          "2024-07-03T00:00:00",
          "2024-07-04T00:00:00",
          "2024-07-05T00:00:00",
          "2024-07-08T00:00:00",
          "2024-07-09T00:00:00",
          "2024-07-10T00:00:00",
          "2024-07-11T00:00:00",
          "2024-07-12T00:00:00",
          "2024-07-15T00:00:00",
          "2024-07-16T00:00:00",
          "2024-07-17T00:00:00",
          "2024-07-18T00:00:00",
          "2024-07-19T00:00:00",
          "2024-07-22T00:00:00",
          "2024-07-23T00:00:00",
          "2024-07-24T00:00:00",
          "2024-07-25T00:00:00",
          "2024-07-26T00:00:00",
          "2024-07-29T00:00:00",
          "2024-07-30T00:00:00",
          "2024-07-31T00:00:00",
          "2024-08-01T00:00:00",
          "2024-08-02T00:00:00",
          "2024-08-05T00:00:00",
          "2024-08-06T00:00:00",
          "2024-08-07T00:00:00",
          "2024-08-08T00:00:00",
          "2024-08-09T00:00:00"
         ],
         "y": [
          17.202973029463617,
          17.405631128378882,
          17.509315654793202,
          17.68863261485232,
          17.422938914747736,
          17.109250632948246,
          16.931057875633847,
          16.583552703068936,
          16.850225243617757,
          16.86677253040191,
          17.008575938933504,
          16.823961467716867,
          17.054732544741697,
          17.039036832285255,
          17.029912545621062,
          17.307023821312637,
          17.290830849921992,
          17.512088525395573,
          17.56264067938743,
          17.612562606207202,
          17.661250672998683,
          17.6814288379643,
          17.626463783118925,
          17.64747146738375,
          17.789027216050076,
          17.80067107080182,
          17.982662976968474,
          18.193161256688626,
          17.92196849978175,
          17.5985059683479,
          17.76166260571566,
          18.21236200350787,
          18.29273411433606,
          18.190504941328662,
          18.370590100031755,
          18.36517445420715,
          18.619237155179654,
          18.388894018761626,
          18.35328456128456,
          18.553456837634165,
          18.384662050742488,
          18.6874582716098,
          18.379146956421675,
          18.23093645190845,
          18.188136401386814,
          18.665213028896424,
          18.52209483842699,
          18.325003234411533,
          18.346894605204906,
          18.675414464806863,
          18.66800964099654,
          18.545131735734447,
          18.576832527833233,
          18.332439725465644,
          18.23246126452615,
          18.48503425340228,
          18.395707569458068,
          18.532796550567674,
          18.621341258741076
         ]
        },
        {
         "fill": "tonexty",
         "hoverinfo": "text",
         "hovertemplate": "%{text}<extra></extra>",
         "mode": "none",
         "name": "纳斯达克100ETF",
         "text": [
          "纳斯达克100ETF: 4.93%",
          "纳斯达克100ETF: 5.02%",
          "纳斯达克100ETF: 5.07%",
          "纳斯达克100ETF: 5.16%",
          "纳斯达克100ETF: 5.09%",
          "纳斯达克100ETF: 5.01%",
          "纳斯达克100ETF: 4.97%",
          "纳斯达克100ETF: 4.87%",
          "纳斯达克100ETF: 4.95%",
          "纳斯达克100ETF: 4.93%",
          "纳斯达克100ETF: 4.98%",
          "纳斯达克100ETF: 4.90%",
          "纳斯达克100ETF: 5.00%",
          "纳斯达克100ETF: 5.02%",
          "纳斯达克100ETF: 5.01%",
          "纳斯达克100ETF: 5.13%",
          "纳斯达克100ETF: 5.15%",
          "纳斯达克100ETF: 5.29%",
          "纳斯达克100ETF: 5.30%",
          "纳斯达克100ETF: 5.37%",
          "纳斯达克100ETF: 5.41%",
          "纳斯达克100ETF: 5.42%",
          "纳斯达克100ETF: 5.39%",
          "纳斯达克100ETF: 5.35%",
          "纳斯达克100ETF: 5.41%",
          "纳斯达克100ETF: 5.36%",
          "纳斯达克100ETF: 5.40%",
          "纳斯达克100ETF: 5.44%",
          "纳斯达克100ETF: 5.35%",
          "纳斯达克100ETF: 5.24%",
          "纳斯达克100ETF: 5.26%",
          "纳斯达克100ETF: 5.40%",
          "纳斯达克100ETF: 5.46%",
          "纳斯达克100ETF: 5.45%",
          "纳斯达克100ETF: 5.45%",
          "纳斯达克100ETF: 5.43%",
          "纳斯达克100ETF: 5.48%",
          "纳斯达克100ETF: 5.46%",
          "纳斯达克100ETF: 5.45%",
          "纳斯达克100ETF: 5.49%",
          "纳斯达克100ETF: 5.40%",
          "纳斯达克100ETF: 5.43%",
          "纳斯达克100ETF: 5.31%",
          "纳斯达克100ETF: 5.33%",
          "纳斯达克100ETF: 5.36%",
          "纳斯达克100ETF: 5.48%",
          "纳斯达克100ETF: 5.41%",
          "纳斯达克100ETF: 5.34%",
          "纳斯达克100ETF: 5.29%",
          "纳斯达克100ETF: 5.31%",
          "纳斯达克100ETF: 5.31%",
          "纳斯达克100ETF: 5.23%",
          "纳斯达克100ETF: 5.34%",
          "纳斯达克100ETF: 5.18%",
          "纳斯达克100ETF: 4.99%",
          "纳斯达克100ETF: 5.15%",
          "纳斯达克100ETF: 5.14%",
          "纳斯达克100ETF: 5.12%",
          "纳斯达克100ETF: 5.22%"
         ],
         "type": "scatter",
         "x": [
          "2024-05-20T00:00:00",
          "2024-05-21T00:00:00",
          "2024-05-22T00:00:00",
          "2024-05-23T00:00:00",
          "2024-05-24T00:00:00",
          "2024-05-27T00:00:00",
          "2024-05-28T00:00:00",
          "2024-05-29T00:00:00",
          "2024-05-30T00:00:00",
          "2024-05-31T00:00:00",
          "2024-06-03T00:00:00",
          "2024-06-04T00:00:00",
          "2024-06-05T00:00:00",
          "2024-06-06T00:00:00",
          "2024-06-07T00:00:00",
          "2024-06-11T00:00:00",
          "2024-06-12T00:00:00",
          "2024-06-13T00:00:00",
          "2024-06-14T00:00:00",
          "2024-06-17T00:00:00",
          "2024-06-18T00:00:00",
          "2024-06-19T00:00:00",
          "2024-06-20T00:00:00",
          "2024-06-21T00:00:00",
          "2024-06-24T00:00:00",
          "2024-06-25T00:00:00",
          "2024-06-26T00:00:00",
          "2024-06-27T00:00:00",
          "2024-06-28T00:00:00",
          "2024-07-01T00:00:00",
          "2024-07-02T00:00:00",
          "2024-07-03T00:00:00",
          "2024-07-04T00:00:00",
          "2024-07-05T00:00:00",
          "2024-07-08T00:00:00",
          "2024-07-09T00:00:00",
          "2024-07-10T00:00:00",
          "2024-07-11T00:00:00",
          "2024-07-12T00:00:00",
          "2024-07-15T00:00:00",
          "2024-07-16T00:00:00",
          "2024-07-17T00:00:00",
          "2024-07-18T00:00:00",
          "2024-07-19T00:00:00",
          "2024-07-22T00:00:00",
          "2024-07-23T00:00:00",
          "2024-07-24T00:00:00",
          "2024-07-25T00:00:00",
          "2024-07-26T00:00:00",
          "2024-07-29T00:00:00",
          "2024-07-30T00:00:00",
          "2024-07-31T00:00:00",
          "2024-08-01T00:00:00",
          "2024-08-02T00:00:00",
          "2024-08-05T00:00:00",
          "2024-08-06T00:00:00",
          "2024-08-07T00:00:00",
          "2024-08-08T00:00:00",
          "2024-08-09T00:00:00"
         ],
         "y": [
          22.130994321251084,
          22.42991117144323,
          22.582652008347367,
          22.846654855524196,
          22.511005857917638,
          22.12104787332762,
          21.896505233403833,
          21.448651956400383,
          21.800310291790485,
          21.79793482675769,
          21.988122066768025,
          21.721035736376198,
          22.051468926836392,
          22.060141360859628,
          22.04084200926772,
          22.433910510387204,
          22.440243379470925,
          22.797269741453807,
          22.866144795484114,
          22.98032785271102,
          23.067822048947,
          23.103843758630806,
          23.015453302222845,
          23.001523838874533,
          23.201928932739296,
          23.165192318238237,
          23.385456572934622,
          23.633946767014145,
          23.27642193327843,
          22.835824560474645,
          23.019324478729267,
          23.614393553772295,
          23.748938046672915,
          23.640293173193342,
          23.821827574225903,
          23.791704747891448,
          24.10004097085446,
          23.85109594937243,
          23.799608971041657,
          24.04002909681667,
          23.78379241045395,
          24.115306939779973,
          23.688639286608595,
          23.56408576967432,
          23.544759069085256,
          24.141369209337537,
          23.93040762465743,
          23.664987305819412,
          23.634732908863505,
          23.986727521197004,
          23.978641434842146,
          23.77506417693001,
          23.9139814197007,
          23.51152960476907,
          23.218534352839495,
          23.637319640616116,
          23.53461687697281,
          23.64921278626362,
          23.84451124947104
         ]
        },
        {
         "fill": "tonexty",
         "hoverinfo": "text",
         "hovertemplate": "%{text}<extra></extra>",
         "mode": "none",
         "name": "煤炭ETF",
         "text": [
          "煤炭ETF: 5.57%",
          "煤炭ETF: 5.68%",
          "煤炭ETF: 5.71%",
          "煤炭ETF: 5.66%",
          "煤炭ETF: 5.65%",
          "煤炭ETF: 5.63%",
          "煤炭ETF: 5.58%",
          "煤炭ETF: 5.55%",
          "煤炭ETF: 5.59%",
          "煤炭ETF: 5.62%",
          "煤炭ETF: 5.61%",
          "煤炭ETF: 5.45%",
          "煤炭ETF: 5.45%",
          "煤炭ETF: 5.44%",
          "煤炭ETF: 5.47%",
          "煤炭ETF: 5.50%",
          "煤炭ETF: 5.68%",
          "煤炭ETF: 5.64%",
          "煤炭ETF: 5.62%",
          "煤炭ETF: 5.53%",
          "煤炭ETF: 5.50%",
          "煤炭ETF: 5.49%",
          "煤炭ETF: 5.46%",
          "煤炭ETF: 5.45%",
          "煤炭ETF: 5.39%",
          "煤炭ETF: 5.37%",
          "煤炭ETF: 5.35%",
          "煤炭ETF: 5.36%",
          "煤炭ETF: 5.26%",
          "煤炭ETF: 5.34%",
          "煤炭ETF: 5.34%",
          "煤炭ETF: 5.29%",
          "煤炭ETF: 5.24%",
          "煤炭ETF: 5.20%",
          "煤炭ETF: 5.13%",
          "煤炭ETF: 5.11%",
          "煤炭ETF: 5.35%",
          "煤炭ETF: 5.32%",
          "煤炭ETF: 5.36%",
          "煤炭ETF: 5.39%",
          "煤炭ETF: 5.31%",
          "煤炭ETF: 5.31%",
          "煤炭ETF: 5.29%",
          "煤炭ETF: 5.35%",
          "煤炭ETF: 5.34%",
          "煤炭ETF: 5.33%",
          "煤炭ETF: 5.29%",
          "煤炭ETF: 5.32%",
          "煤炭ETF: 5.34%",
          "煤炭ETF: 5.23%",
          "煤炭ETF: 5.20%",
          "煤炭ETF: 5.30%",
          "煤炭ETF: 5.24%",
          "煤炭ETF: 5.31%",
          "煤炭ETF: 5.45%",
          "煤炭ETF: 5.45%",
          "煤炭ETF: 5.48%",
          "煤炭ETF: 5.54%",
          "煤炭ETF: 5.50%"
         ],
         "type": "scatter",
         "x": [
          "2024-05-20T00:00:00",
          "2024-05-21T00:00:00",
          "2024-05-22T00:00:00",
          "2024-05-23T00:00:00",
          "2024-05-24T00:00:00",
          "2024-05-27T00:00:00",
          "2024-05-28T00:00:00",
          "2024-05-29T00:00:00",
          "2024-05-30T00:00:00",
          "2024-05-31T00:00:00",
          "2024-06-03T00:00:00",
          "2024-06-04T00:00:00",
          "2024-06-05T00:00:00",
          "2024-06-06T00:00:00",
          "2024-06-07T00:00:00",
          "2024-06-11T00:00:00",
          "2024-06-12T00:00:00",
          "2024-06-13T00:00:00",
          "2024-06-14T00:00:00",
          "2024-06-17T00:00:00",
          "2024-06-18T00:00:00",
          "2024-06-19T00:00:00",
          "2024-06-20T00:00:00",
          "2024-06-21T00:00:00",
          "2024-06-24T00:00:00",
          "2024-06-25T00:00:00",
          "2024-06-26T00:00:00",
          "2024-06-27T00:00:00",
          "2024-06-28T00:00:00",
          "2024-07-01T00:00:00",
          "2024-07-02T00:00:00",
          "2024-07-03T00:00:00",
          "2024-07-04T00:00:00",
          "2024-07-05T00:00:00",
          "2024-07-08T00:00:00",
          "2024-07-09T00:00:00",
          "2024-07-10T00:00:00",
          "2024-07-11T00:00:00",
          "2024-07-12T00:00:00",
          "2024-07-15T00:00:00",
          "2024-07-16T00:00:00",
          "2024-07-17T00:00:00",
          "2024-07-18T00:00:00",
          "2024-07-19T00:00:00",
          "2024-07-22T00:00:00",
          "2024-07-23T00:00:00",
          "2024-07-24T00:00:00",
          "2024-07-25T00:00:00",
          "2024-07-26T00:00:00",
          "2024-07-29T00:00:00",
          "2024-07-30T00:00:00",
          "2024-07-31T00:00:00",
          "2024-08-01T00:00:00",
          "2024-08-02T00:00:00",
          "2024-08-05T00:00:00",
          "2024-08-06T00:00:00",
          "2024-08-07T00:00:00",
          "2024-08-08T00:00:00",
          "2024-08-09T00:00:00"
         ],
         "y": [
          27.699595018576396,
          28.111864471902994,
          28.290829031884385,
          28.506785593491635,
          28.163688364352712,
          27.748328692883817,
          27.477919398923614,
          26.996409424974647,
          27.386653212272783,
          27.419014634810544,
          27.593965873208703,
          27.16712858800895,
          27.506319053492167,
          27.504914750247032,
          27.513771955715676,
          27.93760180249521,
          28.115757008191576,
          28.436507803064366,
          28.484527918155685,
          28.50937481012682,
          28.57128529119921,
          28.589773312143247,
          28.48004398656947,
          28.450973983538756,
          28.593092238183637,
          28.537313672038263,
          28.735313353987117,
          28.9905569520911,
          28.538281564890113,
          28.17977132115878,
          28.354644684505267,
          28.903420487573058,
          28.99366115953537,
          28.840785699722893,
          28.9486990721685,
          28.897562271602084,
          29.45077532463367,
          29.17393314012257,
          29.155214714033434,
          29.42704991688239,
          29.0927120279828,
          29.42465271557393,
          28.976373037028043,
          28.917165313055012,
          28.88166192609552,
          29.47480839662078,
          29.223790070452,
          28.980852274870625,
          28.969810335208383,
          29.21842912081259,
          29.17552888190854,
          29.079179793219765,
          29.15719066447404,
          28.819319976023024,
          28.667430254915597,
          29.087658736425833,
          29.015742080798038,
          29.18826464919984,
          29.34268489354681
         ]
        },
        {
         "fill": "tonexty",
         "hoverinfo": "text",
         "hovertemplate": "%{text}<extra></extra>",
         "mode": "none",
         "name": "电力ETF",
         "text": [
          "电力ETF: 5.65%",
          "电力ETF: 5.71%",
          "电力ETF: 5.74%",
          "电力ETF: 5.73%",
          "电力ETF: 5.84%",
          "电力ETF: 5.79%",
          "电力ETF: 5.80%",
          "电力ETF: 5.70%",
          "电力ETF: 5.79%",
          "电力ETF: 5.78%",
          "电力ETF: 5.82%",
          "电力ETF: 5.83%",
          "电力ETF: 5.86%",
          "电力ETF: 5.82%",
          "电力ETF: 5.90%",
          "电力ETF: 5.97%",
          "电力ETF: 5.98%",
          "电力ETF: 6.04%",
          "电力ETF: 5.96%",
          "电力ETF: 5.93%",
          "电力ETF: 5.91%",
          "电力ETF: 5.89%",
          "电力ETF: 5.82%",
          "电力ETF: 5.87%",
          "电力ETF: 5.96%",
          "电力ETF: 5.91%",
          "电力ETF: 5.91%",
          "电力ETF: 5.94%",
          "电力ETF: 5.93%",
          "电力ETF: 5.94%",
          "电力ETF: 5.98%",
          "电力ETF: 5.99%",
          "电力ETF: 5.97%",
          "电力ETF: 5.91%",
          "电力ETF: 5.98%",
          "电力ETF: 5.98%",
          "电力ETF: 5.92%",
          "电力ETF: 5.88%",
          "电力ETF: 5.97%",
          "电力ETF: 5.94%",
          "电力ETF: 5.88%",
          "电力ETF: 5.87%",
          "电力ETF: 5.94%",
          "电力ETF: 6.04%",
          "电力ETF: 6.01%",
          "电力ETF: 6.09%",
          "电力ETF: 6.20%",
          "电力ETF: 6.28%",
          "电力ETF: 6.21%",
          "电力ETF: 6.16%",
          "电力ETF: 6.12%",
          "电力ETF: 5.99%",
          "电力ETF: 5.98%",
          "电力ETF: 6.05%",
          "电力ETF: 6.16%",
          "电力ETF: 6.14%",
          "电力ETF: 6.16%",
          "电力ETF: 6.20%",
          "电力ETF: 6.11%"
         ],
         "type": "scatter",
         "x": [
          "2024-05-20T00:00:00",
          "2024-05-21T00:00:00",
          "2024-05-22T00:00:00",
          "2024-05-23T00:00:00",
          "2024-05-24T00:00:00",
          "2024-05-27T00:00:00",
          "2024-05-28T00:00:00",
          "2024-05-29T00:00:00",
          "2024-05-30T00:00:00",
          "2024-05-31T00:00:00",
          "2024-06-03T00:00:00",
          "2024-06-04T00:00:00",
          "2024-06-05T00:00:00",
          "2024-06-06T00:00:00",
          "2024-06-07T00:00:00",
          "2024-06-11T00:00:00",
          "2024-06-12T00:00:00",
          "2024-06-13T00:00:00",
          "2024-06-14T00:00:00",
          "2024-06-17T00:00:00",
          "2024-06-18T00:00:00",
          "2024-06-19T00:00:00",
          "2024-06-20T00:00:00",
          "2024-06-21T00:00:00",
          "2024-06-24T00:00:00",
          "2024-06-25T00:00:00",
          "2024-06-26T00:00:00",
          "2024-06-27T00:00:00",
          "2024-06-28T00:00:00",
          "2024-07-01T00:00:00",
          "2024-07-02T00:00:00",
          "2024-07-03T00:00:00",
          "2024-07-04T00:00:00",
          "2024-07-05T00:00:00",
          "2024-07-08T00:00:00",
          "2024-07-09T00:00:00",
          "2024-07-10T00:00:00",
          "2024-07-11T00:00:00",
          "2024-07-12T00:00:00",
          "2024-07-15T00:00:00",
          "2024-07-16T00:00:00",
          "2024-07-17T00:00:00",
          "2024-07-18T00:00:00",
          "2024-07-19T00:00:00",
          "2024-07-22T00:00:00",
          "2024-07-23T00:00:00",
          "2024-07-24T00:00:00",
          "2024-07-25T00:00:00",
          "2024-07-26T00:00:00",
          "2024-07-29T00:00:00",
          "2024-07-30T00:00:00",
          "2024-07-31T00:00:00",
          "2024-08-01T00:00:00",
          "2024-08-02T00:00:00",
          "2024-08-05T00:00:00",
          "2024-08-06T00:00:00",
          "2024-08-07T00:00:00",
          "2024-08-08T00:00:00",
          "2024-08-09T00:00:00"
         ],
         "y": [
          33.34853212006824,
          33.82242795234622,
          34.027748278981676,
          34.23937057033573,
          34.006388906122574,
          33.539456128037976,
          33.277226465939314,
          32.69655510314253,
          33.17235676250917,
          33.19552888247459,
          33.41814542843709,
          32.99532954853859,
          33.367909365563385,
          33.32162169729504,
          33.41177006481142,
          33.90954092648337,
          34.095948178741494,
          34.472232514591745,
          34.43964148529895,
          34.44397201934838,
          34.48528319913296,
          34.48047308460325,
          34.295311494836135,
          34.31631450438027,
          34.55235656070897,
          34.449397855867986,
          34.64118617760858,
          34.931657315010405,
          34.464259849159475,
          34.11749027645627,
          34.337815108211615,
          34.89089179171293,
          34.965878163656704,
          34.74814141634529,
          34.93354849346135,
          34.880686116147174,
          35.37437676888437,
          35.05007993494916,
          35.12628482877496,
          35.364943934317864,
          34.971695871979335,
          35.293359441408576,
          34.91160590618546,
          34.958909990900224,
          34.88796373771583,
          35.565996145926064,
          35.423483553588596,
          35.262225978283865,
          35.175860614905574,
          35.38282384116313,
          35.29488449219013,
          35.06621975363018,
          35.134507131199165,
          34.87268641519972,
          34.82818451879397,
          35.22862789356082,
          35.174870548666846,
          35.3930438849771,
          35.454210958465815
         ]
        },
        {
         "fill": "tonexty",
         "hoverinfo": "text",
         "hovertemplate": "%{text}<extra></extra>",
         "mode": "none",
         "name": "纳指科技ETF",
         "text": [
          "纳指科技ETF: 6.04%",
          "纳指科技ETF: 6.27%",
          "纳指科技ETF: 6.28%",
          "纳指科技ETF: 6.43%",
          "纳指科技ETF: 6.14%",
          "纳指科技ETF: 6.20%",
          "纳指科技ETF: 6.21%",
          "纳指科技ETF: 6.08%",
          "纳指科技ETF: 6.16%",
          "纳指科技ETF: 6.14%",
          "纳指科技ETF: 6.27%",
          "纳指科技ETF: 6.15%",
          "纳指科技ETF: 6.28%",
          "纳指科技ETF: 6.45%",
          "纳指科技ETF: 6.47%",
          "纳指科技ETF: 6.69%",
          "纳指科技ETF: 6.27%",
          "纳指科技ETF: 6.36%",
          "纳指科技ETF: 6.53%",
          "纳指科技ETF: 6.78%",
          "纳指科技ETF: 6.20%",
          "纳指科技ETF: 6.01%",
          "纳指科技ETF: 6.17%",
          "纳指科技ETF: 6.02%",
          "纳指科技ETF: 6.07%",
          "纳指科技ETF: 5.86%",
          "纳指科技ETF: 6.13%",
          "纳指科技ETF: 6.13%",
          "纳指科技ETF: 6.07%",
          "纳指科技ETF: 5.98%",
          "纳指科技ETF: 5.94%",
          "纳指科技ETF: 5.89%",
          "纳指科技ETF: 5.85%",
          "纳指科技ETF: 5.82%",
          "纳指科技ETF: 5.95%",
          "纳指科技ETF: 6.01%",
          "纳指科技ETF: 6.06%",
          "纳指科技ETF: 6.12%",
          "纳指科技ETF: 5.96%",
          "纳指科技ETF: 6.03%",
          "纳指科技ETF: 5.89%",
          "纳指科技ETF: 5.89%",
          "纳指科技ETF: 5.79%",
          "纳指科技ETF: 5.75%",
          "纳指科技ETF: 5.63%",
          "纳指科技ETF: 5.75%",
          "纳指科技ETF: 5.55%",
          "纳指科技ETF: 5.98%",
          "纳指科技ETF: 6.09%",
          "纳指科技ETF: 6.25%",
          "纳指科技ETF: 6.13%",
          "纳指科技ETF: 6.14%",
          "纳指科技ETF: 6.34%",
          "纳指科技ETF: 6.02%",
          "纳指科技ETF: 5.62%",
          "纳指科技ETF: 5.91%",
          "纳指科技ETF: 5.83%",
          "纳指科技ETF: 5.75%",
          "纳指科技ETF: 5.90%"
         ],
         "type": "scatter",
         "x": [
          "2024-05-20T00:00:00",
          "2024-05-21T00:00:00",
          "2024-05-22T00:00:00",
          "2024-05-23T00:00:00",
          "2024-05-24T00:00:00",
          "2024-05-27T00:00:00",
          "2024-05-28T00:00:00",
          "2024-05-29T00:00:00",
          "2024-05-30T00:00:00",
          "2024-05-31T00:00:00",
          "2024-06-03T00:00:00",
          "2024-06-04T00:00:00",
          "2024-06-05T00:00:00",
          "2024-06-06T00:00:00",
          "2024-06-07T00:00:00",
          "2024-06-11T00:00:00",
          "2024-06-12T00:00:00",
          "2024-06-13T00:00:00",
          "2024-06-14T00:00:00",
          "2024-06-17T00:00:00",
          "2024-06-18T00:00:00",
          "2024-06-19T00:00:00",
          "2024-06-20T00:00:00",
          "2024-06-21T00:00:00",
          "2024-06-24T00:00:00",
          "2024-06-25T00:00:00",
          "2024-06-26T00:00:00",
          "2024-06-27T00:00:00",
          "2024-06-28T00:00:00",
          "2024-07-01T00:00:00",
          "2024-07-02T00:00:00",
          "2024-07-03T00:00:00",
          "2024-07-04T00:00:00",
          "2024-07-05T00:00:00",
          "2024-07-08T00:00:00",
          "2024-07-09T00:00:00",
          "2024-07-10T00:00:00",
          "2024-07-11T00:00:00",
          "2024-07-12T00:00:00",
          "2024-07-15T00:00:00",
          "2024-07-16T00:00:00",
          "2024-07-17T00:00:00",
          "2024-07-18T00:00:00",
          "2024-07-19T00:00:00",
          "2024-07-22T00:00:00",
          "2024-07-23T00:00:00",
          "2024-07-24T00:00:00",
          "2024-07-25T00:00:00",
          "2024-07-26T00:00:00",
          "2024-07-29T00:00:00",
          "2024-07-30T00:00:00",
          "2024-07-31T00:00:00",
          "2024-08-01T00:00:00",
          "2024-08-02T00:00:00",
          "2024-08-05T00:00:00",
          "2024-08-06T00:00:00",
          "2024-08-07T00:00:00",
          "2024-08-08T00:00:00",
          "2024-08-09T00:00:00"
         ],
         "y": [
          39.39069637052128,
          40.09660906241584,
          40.30932986152715,
          40.6733132013862,
          40.14209482856809,
          39.743024921905246,
          39.48298770807608,
          38.77561207151287,
          39.33557300179269,
          39.33378186659915,
          39.68750347053101,
          39.14265379785414,
          39.647577077626,
          39.768937967687684,
          39.88395901691046,
          40.595949188626015,
          40.366292175001284,
          40.833846533579155,
          40.96898748149485,
          41.226832712827424,
          40.68277995849,
          40.49102475240726,
          40.467643953489045,
          40.333147658773605,
          40.62103815351678,
          40.308643562445425,
          40.77033002465397,
          41.05714133896421,
          40.5342720341495,
          40.10050843595471,
          40.274110895424634,
          40.7804965083128,
          40.8168459898201,
          40.56503577376607,
          40.88550631778889,
          40.88594914235535,
          41.43260570865811,
          41.16760797117401,
          41.08881656737226,
          41.39781653171079,
          40.86317023113465,
          41.183227434062005,
          40.70224788387145,
          40.713799919457045,
          40.51349329947271,
          41.31481035583869,
          40.97664556009504,
          41.24192485280066,
          41.26528911799316,
          41.637420784598824,
          41.429332092807975,
          41.20235377695714,
          41.47815216163434,
          40.89757576763322,
          40.44604126328288,
          41.140149260175896,
          41.006530374843734,
          41.141116430855625,
          41.3540794789843
         ]
        },
        {
         "fill": "tonexty",
         "hoverinfo": "text",
         "hovertemplate": "%{text}<extra></extra>",
         "mode": "none",
         "name": "圣农发展",
         "text": [
          "圣农发展: 6.03%",
          "圣农发展: 6.10%",
          "圣农发展: 6.08%",
          "圣农发展: 6.13%",
          "圣农发展: 6.15%",
          "圣农发展: 6.02%",
          "圣农发展: 5.81%",
          "圣农发展: 5.69%",
          "圣农发展: 5.80%",
          "圣农发展: 5.80%",
          "圣农发展: 5.84%",
          "圣农发展: 5.92%",
          "圣农发展: 5.79%",
          "圣农发展: 5.65%",
          "圣农发展: 5.61%",
          "圣农发展: 5.73%",
          "圣农发展: 5.67%",
          "圣农发展: 5.58%",
          "圣农发展: 5.64%",
          "圣农发展: 5.68%",
          "圣农发展: 5.59%",
          "圣农发展: 5.48%",
          "圣农发展: 5.33%",
          "圣农发展: 5.31%",
          "圣农发展: 5.30%",
          "圣农发展: 5.22%",
          "圣农发展: 5.15%",
          "圣农发展: 5.11%",
          "圣农发展: 4.84%",
          "圣农发展: 4.81%",
          "圣农发展: 4.67%",
          "圣农发展: 4.54%",
          "圣农发展: 4.42%",
          "圣农发展: 4.37%",
          "圣农发展: 4.40%",
          "圣农发展: 4.23%",
          "圣农发展: 4.33%",
          "圣农发展: 4.36%",
          "圣农发展: 4.41%",
          "圣农发展: 4.44%",
          "圣农发展: 4.40%",
          "圣农发展: 4.51%",
          "圣农发展: 4.55%",
          "圣农发展: 4.69%",
          "圣农发展: 4.78%",
          "圣农发展: 4.71%",
          "圣农发展: 4.69%",
          "圣农发展: 4.90%",
          "圣农发展: 4.88%",
          "圣农发展: 4.77%",
          "圣农发展: 4.84%",
          "圣农发展: 4.90%",
          "圣农发展: 4.79%",
          "圣农发展: 4.90%",
          "圣农发展: 5.01%",
          "圣农发展: 5.05%",
          "圣农发展: 4.96%",
          "圣农发展: 5.03%",
          "圣农发展: 4.91%"
         ],
         "type": "scatter",
         "x": [
          "2024-05-20T00:00:00",
          "2024-05-21T00:00:00",
          "2024-05-22T00:00:00",
          "2024-05-23T00:00:00",
          "2024-05-24T00:00:00",
          "2024-05-27T00:00:00",
          "2024-05-28T00:00:00",
          "2024-05-29T00:00:00",
          "2024-05-30T00:00:00",
          "2024-05-31T00:00:00",
          "2024-06-03T00:00:00",
          "2024-06-04T00:00:00",
          "2024-06-05T00:00:00",
          "2024-06-06T00:00:00",
          "2024-06-07T00:00:00",
          "2024-06-11T00:00:00",
          "2024-06-12T00:00:00",
          "2024-06-13T00:00:00",
          "2024-06-14T00:00:00",
          "2024-06-17T00:00:00",
          "2024-06-18T00:00:00",
          "2024-06-19T00:00:00",
          "2024-06-20T00:00:00",
          "2024-06-21T00:00:00",
          "2024-06-24T00:00:00",
          "2024-06-25T00:00:00",
          "2024-06-26T00:00:00",
          "2024-06-27T00:00:00",
          "2024-06-28T00:00:00",
          "2024-07-01T00:00:00",
          "2024-07-02T00:00:00",
          "2024-07-03T00:00:00",
          "2024-07-04T00:00:00",
          "2024-07-05T00:00:00",
          "2024-07-08T00:00:00",
          "2024-07-09T00:00:00",
          "2024-07-10T00:00:00",
          "2024-07-11T00:00:00",
          "2024-07-12T00:00:00",
          "2024-07-15T00:00:00",
          "2024-07-16T00:00:00",
          "2024-07-17T00:00:00",
          "2024-07-18T00:00:00",
          "2024-07-19T00:00:00",
          "2024-07-22T00:00:00",
          "2024-07-23T00:00:00",
          "2024-07-24T00:00:00",
          "2024-07-25T00:00:00",
          "2024-07-26T00:00:00",
          "2024-07-29T00:00:00",
          "2024-07-30T00:00:00",
          "2024-07-31T00:00:00",
          "2024-08-01T00:00:00",
          "2024-08-02T00:00:00",
          "2024-08-05T00:00:00",
          "2024-08-06T00:00:00",
          "2024-08-07T00:00:00",
          "2024-08-08T00:00:00",
          "2024-08-09T00:00:00"
         ],
         "y": [
          45.41594768493845,
          46.19769920601677,
          46.38827973590892,
          46.79932488534954,
          46.28868008439532,
          45.760148037290165,
          45.293468633420304,
          44.46614771926912,
          45.13965734680546,
          45.137850788714886,
          45.52515183393096,
          45.05973332118844,
          45.44043250644088,
          45.417855445125326,
          45.49695263480695,
          46.32095509573648,
          46.03472010663237,
          46.41746248780378,
          46.61101320233515,
          46.902368440223924,
          46.27021613442719,
          45.97408328933747,
          45.795229554329744,
          45.64611128742936,
          45.91800094265907,
          45.530936306446264,
          45.91996322396324,
          46.169606509275255,
          45.37325332863049,
          44.9127089558211,
          44.947588115881175,
          45.318273424890606,
          45.23679404959174,
          44.93384241675149,
          45.2873658161667,
          45.12007474889097,
          45.758910344193644,
          45.53183639323804,
          45.50023609757225,
          45.84068417675528,
          45.25922338733813,
          45.6905635602707,
          45.25404358581619,
          45.40099234729043,
          45.296448362477264,
          46.023362665023555,
          45.66873909493528,
          46.14368225650667,
          46.14052249727076,
          46.410444547598736,
          46.273576332253555,
          46.100642554126146,
          46.26943571422724,
          45.801512731179926,
          45.45356966694093,
          46.19410003580373,
          45.96771433012804,
          46.17139779606311,
          46.266211043875174
         ]
        },
        {
         "fill": "tonexty",
         "hoverinfo": "text",
         "hovertemplate": "%{text}<extra></extra>",
         "mode": "none",
         "name": "中国海油",
         "text": [
          "中国海油: 0.00%",
          "中国海油: 0.00%",
          "中国海油: 0.00%",
          "中国海油: 0.00%",
          "中国海油: 0.00%",
          "中国海油: 0.00%",
          "中国海油: 0.00%",
          "中国海油: 0.00%",
          "中国海油: 0.00%",
          "中国海油: 0.00%",
          "中国海油: 0.00%",
          "中国海油: 0.00%",
          "中国海油: 0.00%",
          "中国海油: 0.00%",
          "中国海油: 0.00%",
          "中国海油: 0.00%",
          "中国海油: 0.00%",
          "中国海油: 0.00%",
          "中国海油: 0.00%",
          "中国海油: 0.00%",
          "中国海油: 0.00%",
          "中国海油: 0.00%",
          "中国海油: 0.00%",
          "中国海油: 0.00%",
          "中国海油: 0.00%",
          "中国海油: 0.00%",
          "中国海油: 0.00%",
          "中国海油: 0.00%",
          "中国海油: 0.00%",
          "中国海油: 0.00%",
          "中国海油: 0.00%",
          "中国海油: 0.00%",
          "中国海油: 0.00%",
          "中国海油: 0.00%",
          "中国海油: 0.00%",
          "中国海油: 0.00%",
          "中国海油: 0.00%",
          "中国海油: 0.00%",
          "中国海油: 0.00%",
          "中国海油: 0.00%",
          "中国海油: 0.00%",
          "中国海油: 0.00%",
          "中国海油: 0.00%",
          "中国海油: 0.00%",
          "中国海油: 0.00%",
          "中国海油: 0.00%",
          "中国海油: 0.00%",
          "中国海油: 0.00%",
          "中国海油: 0.00%",
          "中国海油: 0.00%",
          "中国海油: 0.00%",
          "中国海油: 0.00%",
          "中国海油: 0.00%",
          "中国海油: 0.00%",
          "中国海油: 0.00%",
          "中国海油: 0.00%",
          "中国海油: 0.00%",
          "中国海油: 0.00%",
          "中国海油: 0.00%"
         ],
         "type": "scatter",
         "x": [
          "2024-05-20T00:00:00",
          "2024-05-21T00:00:00",
          "2024-05-22T00:00:00",
          "2024-05-23T00:00:00",
          "2024-05-24T00:00:00",
          "2024-05-27T00:00:00",
          "2024-05-28T00:00:00",
          "2024-05-29T00:00:00",
          "2024-05-30T00:00:00",
          "2024-05-31T00:00:00",
          "2024-06-03T00:00:00",
          "2024-06-04T00:00:00",
          "2024-06-05T00:00:00",
          "2024-06-06T00:00:00",
          "2024-06-07T00:00:00",
          "2024-06-11T00:00:00",
          "2024-06-12T00:00:00",
          "2024-06-13T00:00:00",
          "2024-06-14T00:00:00",
          "2024-06-17T00:00:00",
          "2024-06-18T00:00:00",
          "2024-06-19T00:00:00",
          "2024-06-20T00:00:00",
          "2024-06-21T00:00:00",
          "2024-06-24T00:00:00",
          "2024-06-25T00:00:00",
          "2024-06-26T00:00:00",
          "2024-06-27T00:00:00",
          "2024-06-28T00:00:00",
          "2024-07-01T00:00:00",
          "2024-07-02T00:00:00",
          "2024-07-03T00:00:00",
          "2024-07-04T00:00:00",
          "2024-07-05T00:00:00",
          "2024-07-08T00:00:00",
          "2024-07-09T00:00:00",
          "2024-07-10T00:00:00",
          "2024-07-11T00:00:00",
          "2024-07-12T00:00:00",
          "2024-07-15T00:00:00",
          "2024-07-16T00:00:00",
          "2024-07-17T00:00:00",
          "2024-07-18T00:00:00",
          "2024-07-19T00:00:00",
          "2024-07-22T00:00:00",
          "2024-07-23T00:00:00",
          "2024-07-24T00:00:00",
          "2024-07-25T00:00:00",
          "2024-07-26T00:00:00",
          "2024-07-29T00:00:00",
          "2024-07-30T00:00:00",
          "2024-07-31T00:00:00",
          "2024-08-01T00:00:00",
          "2024-08-02T00:00:00",
          "2024-08-05T00:00:00",
          "2024-08-06T00:00:00",
          "2024-08-07T00:00:00",
          "2024-08-08T00:00:00",
          "2024-08-09T00:00:00"
         ],
         "y": [
          45.41594768493845,
          46.19769920601677,
          46.38827973590892,
          46.79932488534954,
          46.28868008439532,
          45.760148037290165,
          45.293468633420304,
          44.46614771926912,
          45.13965734680546,
          45.137850788714886,
          45.52515183393096,
          45.05973332118844,
          45.44043250644088,
          45.417855445125326,
          45.49695263480695,
          46.32095509573648,
          46.03472010663237,
          46.41746248780378,
          46.61101320233515,
          46.902368440223924,
          46.27021613442719,
          45.97408328933747,
          45.795229554329744,
          45.64611128742936,
          45.91800094265907,
          45.530936306446264,
          45.91996322396324,
          46.169606509275255,
          45.37325332863049,
          44.9127089558211,
          44.947588115881175,
          45.318273424890606,
          45.23679404959174,
          44.93384241675149,
          45.2873658161667,
          45.12007474889097,
          45.758910344193644,
          45.53183639323804,
          45.50023609757225,
          45.84068417675528,
          45.25922338733813,
          45.6905635602707,
          45.25404358581619,
          45.40099234729043,
          45.296448362477264,
          46.023362665023555,
          45.66873909493528,
          46.14368225650667,
          46.14052249727076,
          46.410444547598736,
          46.273576332253555,
          46.100642554126146,
          46.26943571422724,
          45.801512731179926,
          45.45356966694093,
          46.19410003580373,
          45.96771433012804,
          46.17139779606311,
          46.266211043875174
         ]
        },
        {
         "fill": "tonexty",
         "hoverinfo": "text",
         "hovertemplate": "%{text}<extra></extra>",
         "mode": "none",
         "name": "陕西煤业",
         "text": [
          "陕西煤业: 0.00%",
          "陕西煤业: 0.00%",
          "陕西煤业: 0.00%",
          "陕西煤业: 0.00%",
          "陕西煤业: 0.00%",
          "陕西煤业: 0.00%",
          "陕西煤业: 0.00%",
          "陕西煤业: 0.00%",
          "陕西煤业: 0.00%",
          "陕西煤业: 0.00%",
          "陕西煤业: 0.00%",
          "陕西煤业: 0.00%",
          "陕西煤业: 0.00%",
          "陕西煤业: 0.00%",
          "陕西煤业: 0.00%",
          "陕西煤业: 0.00%",
          "陕西煤业: 0.00%",
          "陕西煤业: 0.00%",
          "陕西煤业: 0.00%",
          "陕西煤业: 0.00%",
          "陕西煤业: 0.00%",
          "陕西煤业: 0.00%",
          "陕西煤业: 0.00%",
          "陕西煤业: 0.00%",
          "陕西煤业: 0.00%",
          "陕西煤业: 0.00%",
          "陕西煤业: 0.00%",
          "陕西煤业: 0.00%",
          "陕西煤业: 0.00%",
          "陕西煤业: 0.00%",
          "陕西煤业: 0.00%",
          "陕西煤业: 0.00%",
          "陕西煤业: 0.00%",
          "陕西煤业: 0.00%",
          "陕西煤业: 0.00%",
          "陕西煤业: 0.00%",
          "陕西煤业: 0.00%",
          "陕西煤业: 0.00%",
          "陕西煤业: 0.00%",
          "陕西煤业: 0.00%",
          "陕西煤业: 0.00%",
          "陕西煤业: 0.00%",
          "陕西煤业: 0.00%",
          "陕西煤业: 0.00%",
          "陕西煤业: 0.00%",
          "陕西煤业: 0.00%",
          "陕西煤业: 0.00%",
          "陕西煤业: 0.00%",
          "陕西煤业: 0.00%",
          "陕西煤业: 0.00%",
          "陕西煤业: 0.00%",
          "陕西煤业: 0.00%",
          "陕西煤业: 0.00%",
          "陕西煤业: 0.00%",
          "陕西煤业: 0.00%",
          "陕西煤业: 0.00%",
          "陕西煤业: 0.00%",
          "陕西煤业: 0.00%",
          "陕西煤业: 0.00%"
         ],
         "type": "scatter",
         "x": [
          "2024-05-20T00:00:00",
          "2024-05-21T00:00:00",
          "2024-05-22T00:00:00",
          "2024-05-23T00:00:00",
          "2024-05-24T00:00:00",
          "2024-05-27T00:00:00",
          "2024-05-28T00:00:00",
          "2024-05-29T00:00:00",
          "2024-05-30T00:00:00",
          "2024-05-31T00:00:00",
          "2024-06-03T00:00:00",
          "2024-06-04T00:00:00",
          "2024-06-05T00:00:00",
          "2024-06-06T00:00:00",
          "2024-06-07T00:00:00",
          "2024-06-11T00:00:00",
          "2024-06-12T00:00:00",
          "2024-06-13T00:00:00",
          "2024-06-14T00:00:00",
          "2024-06-17T00:00:00",
          "2024-06-18T00:00:00",
          "2024-06-19T00:00:00",
          "2024-06-20T00:00:00",
          "2024-06-21T00:00:00",
          "2024-06-24T00:00:00",
          "2024-06-25T00:00:00",
          "2024-06-26T00:00:00",
          "2024-06-27T00:00:00",
          "2024-06-28T00:00:00",
          "2024-07-01T00:00:00",
          "2024-07-02T00:00:00",
          "2024-07-03T00:00:00",
          "2024-07-04T00:00:00",
          "2024-07-05T00:00:00",
          "2024-07-08T00:00:00",
          "2024-07-09T00:00:00",
          "2024-07-10T00:00:00",
          "2024-07-11T00:00:00",
          "2024-07-12T00:00:00",
          "2024-07-15T00:00:00",
          "2024-07-16T00:00:00",
          "2024-07-17T00:00:00",
          "2024-07-18T00:00:00",
          "2024-07-19T00:00:00",
          "2024-07-22T00:00:00",
          "2024-07-23T00:00:00",
          "2024-07-24T00:00:00",
          "2024-07-25T00:00:00",
          "2024-07-26T00:00:00",
          "2024-07-29T00:00:00",
          "2024-07-30T00:00:00",
          "2024-07-31T00:00:00",
          "2024-08-01T00:00:00",
          "2024-08-02T00:00:00",
          "2024-08-05T00:00:00",
          "2024-08-06T00:00:00",
          "2024-08-07T00:00:00",
          "2024-08-08T00:00:00",
          "2024-08-09T00:00:00"
         ],
         "y": [
          45.41594768493845,
          46.19769920601677,
          46.38827973590892,
          46.79932488534954,
          46.28868008439532,
          45.760148037290165,
          45.293468633420304,
          44.46614771926912,
          45.13965734680546,
          45.137850788714886,
          45.52515183393096,
          45.05973332118844,
          45.44043250644088,
          45.417855445125326,
          45.49695263480695,
          46.32095509573648,
          46.03472010663237,
          46.41746248780378,
          46.61101320233515,
          46.902368440223924,
          46.27021613442719,
          45.97408328933747,
          45.795229554329744,
          45.64611128742936,
          45.91800094265907,
          45.530936306446264,
          45.91996322396324,
          46.169606509275255,
          45.37325332863049,
          44.9127089558211,
          44.947588115881175,
          45.318273424890606,
          45.23679404959174,
          44.93384241675149,
          45.2873658161667,
          45.12007474889097,
          45.758910344193644,
          45.53183639323804,
          45.50023609757225,
          45.84068417675528,
          45.25922338733813,
          45.6905635602707,
          45.25404358581619,
          45.40099234729043,
          45.296448362477264,
          46.023362665023555,
          45.66873909493528,
          46.14368225650667,
          46.14052249727076,
          46.410444547598736,
          46.273576332253555,
          46.100642554126146,
          46.26943571422724,
          45.801512731179926,
          45.45356966694093,
          46.19410003580373,
          45.96771433012804,
          46.17139779606311,
          46.266211043875174
         ]
        },
        {
         "fill": "tonexty",
         "hoverinfo": "text",
         "hovertemplate": "%{text}<extra></extra>",
         "mode": "none",
         "name": "中煤能源",
         "text": [
          "中煤能源: 4.46%",
          "中煤能源: 4.51%",
          "中煤能源: 4.51%",
          "中煤能源: 4.47%",
          "中煤能源: 4.49%",
          "中煤能源: 4.45%",
          "中煤能源: 4.43%",
          "中煤能源: 4.44%",
          "中煤能源: 4.62%",
          "中煤能源: 4.69%",
          "中煤能源: 4.64%",
          "中煤能源: 4.50%",
          "中煤能源: 4.49%",
          "中煤能源: 4.53%",
          "中煤能源: 4.51%",
          "中煤能源: 4.49%",
          "中煤能源: 4.68%",
          "中煤能源: 4.71%",
          "中煤能源: 4.65%",
          "中煤能源: 4.51%",
          "中煤能源: 4.52%",
          "中煤能源: 4.54%",
          "中煤能源: 4.62%",
          "中煤能源: 4.59%",
          "中煤能源: 4.53%",
          "中煤能源: 4.54%",
          "中煤能源: 4.45%",
          "中煤能源: 4.44%",
          "中煤能源: 4.43%",
          "中煤能源: 4.50%",
          "中煤能源: 4.50%",
          "中煤能源: 4.47%",
          "中煤能源: 4.50%",
          "中煤能源: 4.48%",
          "中煤能源: 4.43%",
          "中煤能源: 4.41%",
          "中煤能源: 4.25%",
          "中煤能源: 4.17%",
          "中煤能源: 4.19%",
          "中煤能源: 4.24%",
          "中煤能源: 4.23%",
          "中煤能源: 4.21%",
          "中煤能源: 4.23%",
          "中煤能源: 4.27%",
          "中煤能源: 4.31%",
          "中煤能源: 4.26%",
          "中煤能源: 4.32%",
          "中煤能源: 4.33%",
          "中煤能源: 4.38%",
          "中煤能源: 4.38%",
          "中煤能源: 4.26%",
          "中煤能源: 4.35%",
          "中煤能源: 4.31%",
          "中煤能源: 4.42%",
          "中煤能源: 4.52%",
          "中煤能源: 4.49%",
          "中煤能源: 4.65%",
          "中煤能源: 4.68%",
          "中煤能源: 4.72%"
         ],
         "type": "scatter",
         "x": [
          "2024-05-20T00:00:00",
          "2024-05-21T00:00:00",
          "2024-05-22T00:00:00",
          "2024-05-23T00:00:00",
          "2024-05-24T00:00:00",
          "2024-05-27T00:00:00",
          "2024-05-28T00:00:00",
          "2024-05-29T00:00:00",
          "2024-05-30T00:00:00",
          "2024-05-31T00:00:00",
          "2024-06-03T00:00:00",
          "2024-06-04T00:00:00",
          "2024-06-05T00:00:00",
          "2024-06-06T00:00:00",
          "2024-06-07T00:00:00",
          "2024-06-11T00:00:00",
          "2024-06-12T00:00:00",
          "2024-06-13T00:00:00",
          "2024-06-14T00:00:00",
          "2024-06-17T00:00:00",
          "2024-06-18T00:00:00",
          "2024-06-19T00:00:00",
          "2024-06-20T00:00:00",
          "2024-06-21T00:00:00",
          "2024-06-24T00:00:00",
          "2024-06-25T00:00:00",
          "2024-06-26T00:00:00",
          "2024-06-27T00:00:00",
          "2024-06-28T00:00:00",
          "2024-07-01T00:00:00",
          "2024-07-02T00:00:00",
          "2024-07-03T00:00:00",
          "2024-07-04T00:00:00",
          "2024-07-05T00:00:00",
          "2024-07-08T00:00:00",
          "2024-07-09T00:00:00",
          "2024-07-10T00:00:00",
          "2024-07-11T00:00:00",
          "2024-07-12T00:00:00",
          "2024-07-15T00:00:00",
          "2024-07-16T00:00:00",
          "2024-07-17T00:00:00",
          "2024-07-18T00:00:00",
          "2024-07-19T00:00:00",
          "2024-07-22T00:00:00",
          "2024-07-23T00:00:00",
          "2024-07-24T00:00:00",
          "2024-07-25T00:00:00",
          "2024-07-26T00:00:00",
          "2024-07-29T00:00:00",
          "2024-07-30T00:00:00",
          "2024-07-31T00:00:00",
          "2024-08-01T00:00:00",
          "2024-08-02T00:00:00",
          "2024-08-05T00:00:00",
          "2024-08-06T00:00:00",
          "2024-08-07T00:00:00",
          "2024-08-08T00:00:00",
          "2024-08-09T00:00:00"
         ],
         "y": [
          49.87322400824899,
          50.70378012883388,
          50.90078639245661,
          51.2733785409688,
          50.77804425816811,
          50.209429109811396,
          49.72465873011665,
          48.907373849121996,
          49.76313008963174,
          49.82914916389277,
          50.161244325202745,
          49.556154067381925,
          49.9259093953585,
          49.94817545838974,
          50.00198096768717,
          50.80773706208263,
          50.71825877974465,
          51.123958672282015,
          51.260758680036275,
          51.40888096400479,
          50.791841010993444,
          50.509807307689925,
          50.416493105562104,
          50.23734095658779,
          50.45049110840811,
          50.06922801993061,
          50.374575897842746,
          50.60794068744719,
          49.80070808082748,
          49.41478203291527,
          49.449657939092376,
          49.79268329662371,
          49.73780991229314,
          49.41134343280299,
          49.713718861715755,
          49.53408167036115,
          50.01159065823293,
          49.69894842138147,
          49.69464236312181,
          50.07600688397298,
          49.49220265681336,
          49.90164279188711,
          49.482967097564526,
          49.66822361618529,
          49.60612762703296,
          50.27931001619739,
          49.98502740294942,
          50.477711613497874,
          50.51752976733012,
          50.792715893686115,
          50.53621680137366,
          50.44619183345119,
          50.57832662934847,
          50.220973120885596,
          49.9706898709671,
          50.6801484457494,
          50.61882440090129,
          50.85331082394745,
          50.98868501659464
         ]
        },
        {
         "fill": "tonexty",
         "hoverinfo": "text",
         "hovertemplate": "%{text}<extra></extra>",
         "mode": "none",
         "name": "洛阳钼业",
         "text": [
          "洛阳钼业: 6.19%",
          "洛阳钼业: 5.92%",
          "洛阳钼业: 5.80%",
          "洛阳钼业: 5.82%",
          "洛阳钼业: 5.83%",
          "洛阳钼业: 5.93%",
          "洛阳钼业: 5.86%",
          "洛阳钼业: 5.91%",
          "洛阳钼业: 5.79%",
          "洛阳钼业: 5.79%",
          "洛阳钼业: 5.69%",
          "洛阳钼业: 5.78%",
          "洛阳钼业: 5.59%",
          "洛阳钼业: 5.68%",
          "洛阳钼业: 5.76%",
          "洛阳钼业: 5.68%",
          "洛阳钼业: 5.74%",
          "洛阳钼业: 5.68%",
          "洛阳钼业: 5.83%",
          "洛阳钼业: 5.81%",
          "洛阳钼业: 5.74%",
          "洛阳钼业: 5.92%",
          "洛阳钼业: 5.89%",
          "洛阳钼业: 5.85%",
          "洛阳钼业: 5.87%",
          "洛阳钼业: 5.92%",
          "洛阳钼业: 5.87%",
          "洛阳钼业: 5.86%",
          "洛阳钼业: 5.93%",
          "洛阳钼业: 5.93%",
          "洛阳钼业: 5.87%",
          "洛阳钼业: 5.97%",
          "洛阳钼业: 6.11%",
          "洛阳钼业: 6.08%",
          "洛阳钼业: 6.24%",
          "洛阳钼业: 6.29%",
          "洛阳钼业: 6.16%",
          "洛阳钼业: 6.26%",
          "洛阳钼业: 6.23%",
          "洛阳钼业: 6.42%",
          "洛阳钼业: 6.36%",
          "洛阳钼业: 6.04%",
          "洛阳钼业: 6.05%",
          "洛阳钼业: 5.99%",
          "洛阳钼业: 5.83%",
          "洛阳钼业: 5.52%",
          "洛阳钼业: 5.42%",
          "洛阳钼业: 5.21%",
          "洛阳钼业: 5.37%",
          "洛阳钼业: 5.38%",
          "洛阳钼业: 5.27%",
          "洛阳钼业: 5.43%",
          "洛阳钼业: 5.46%",
          "洛阳钼业: 5.34%",
          "洛阳钼业: 5.39%",
          "洛阳钼业: 5.32%",
          "洛阳钼业: 5.36%",
          "洛阳钼业: 5.32%",
          "洛阳钼业: 5.36%"
         ],
         "type": "scatter",
         "x": [
          "2024-05-20T00:00:00",
          "2024-05-21T00:00:00",
          "2024-05-22T00:00:00",
          "2024-05-23T00:00:00",
          "2024-05-24T00:00:00",
          "2024-05-27T00:00:00",
          "2024-05-28T00:00:00",
          "2024-05-29T00:00:00",
          "2024-05-30T00:00:00",
          "2024-05-31T00:00:00",
          "2024-06-03T00:00:00",
          "2024-06-04T00:00:00",
          "2024-06-05T00:00:00",
          "2024-06-06T00:00:00",
          "2024-06-07T00:00:00",
          "2024-06-11T00:00:00",
          "2024-06-12T00:00:00",
          "2024-06-13T00:00:00",
          "2024-06-14T00:00:00",
          "2024-06-17T00:00:00",
          "2024-06-18T00:00:00",
          "2024-06-19T00:00:00",
          "2024-06-20T00:00:00",
          "2024-06-21T00:00:00",
          "2024-06-24T00:00:00",
          "2024-06-25T00:00:00",
          "2024-06-26T00:00:00",
          "2024-06-27T00:00:00",
          "2024-06-28T00:00:00",
          "2024-07-01T00:00:00",
          "2024-07-02T00:00:00",
          "2024-07-03T00:00:00",
          "2024-07-04T00:00:00",
          "2024-07-05T00:00:00",
          "2024-07-08T00:00:00",
          "2024-07-09T00:00:00",
          "2024-07-10T00:00:00",
          "2024-07-11T00:00:00",
          "2024-07-12T00:00:00",
          "2024-07-15T00:00:00",
          "2024-07-16T00:00:00",
          "2024-07-17T00:00:00",
          "2024-07-18T00:00:00",
          "2024-07-19T00:00:00",
          "2024-07-22T00:00:00",
          "2024-07-23T00:00:00",
          "2024-07-24T00:00:00",
          "2024-07-25T00:00:00",
          "2024-07-26T00:00:00",
          "2024-07-29T00:00:00",
          "2024-07-30T00:00:00",
          "2024-07-31T00:00:00",
          "2024-08-01T00:00:00",
          "2024-08-02T00:00:00",
          "2024-08-05T00:00:00",
          "2024-08-06T00:00:00",
          "2024-08-07T00:00:00",
          "2024-08-08T00:00:00",
          "2024-08-09T00:00:00"
         ],
         "y": [
          56.063131104501565,
          56.620868683127405,
          56.696926889750344,
          57.08937114194738,
          56.606923998588044,
          56.135198230711346,
          55.58447793114298,
          54.81537113055535,
          55.55600581075288,
          55.61848362896218,
          55.85152879735956,
          55.331933835014354,
          55.51650436138452,
          55.62881157158613,
          55.759860247505095,
          56.49205038984689,
          56.461594003495364,
          56.79909611980031,
          57.089199670939465,
          57.215583603574075,
          56.53189470374409,
          56.43287039598305,
          56.31000261763909,
          56.085759536684336,
          56.3240465402362,
          55.993124266006696,
          56.247926429346826,
          56.472348100777126,
          55.726222177256,
          55.34451944349617,
          55.31994211888634,
          55.762603973266536,
          55.8466078430606,
          55.48822691337986,
          55.95610158023615,
          55.82300375029499,
          56.167984997788594,
          55.9582619570789,
          55.92755160232806,
          56.49934524345924,
          55.85555033400921,
          55.93963965227201,
          55.53331060134926,
          55.654447970705206,
          55.43602639237132,
          55.798171448856515,
          55.40684001401126,
          55.687452231386544,
          55.8836079614271,
          56.168302175736024,
          55.80746124171126,
          55.87903747745823,
          56.03335344540687,
          55.56130845071476,
          55.35751872334693,
          56.00089895877612,
          55.980835880596274,
          56.17453664058262,
          56.34461537610606
         ]
        },
        {
         "fill": "tonexty",
         "hoverinfo": "text",
         "hovertemplate": "%{text}<extra></extra>",
         "mode": "none",
         "name": "中远海控",
         "text": [
          "中远海控: 5.00%",
          "中远海控: 5.02%",
          "中远海控: 4.96%",
          "中远海控: 5.04%",
          "中远海控: 5.05%",
          "中远海控: 5.23%",
          "中远海控: 5.34%",
          "中远海控: 5.28%",
          "中远海控: 5.24%",
          "中远海控: 5.23%",
          "中远海控: 5.61%",
          "中远海控: 5.72%",
          "中远海控: 5.79%",
          "中远海控: 5.80%",
          "中远海控: 5.90%",
          "中远海控: 5.42%",
          "中远海控: 5.33%",
          "中远海控: 5.28%",
          "中远海控: 5.37%",
          "中远海控: 5.34%",
          "中远海控: 5.50%",
          "中远海控: 5.51%",
          "中远海控: 5.69%",
          "中远海控: 5.73%",
          "中远海控: 5.66%",
          "中远海控: 5.62%",
          "中远海控: 5.58%",
          "中远海控: 5.47%",
          "中远海控: 5.50%",
          "中远海控: 5.51%",
          "中远海控: 5.61%",
          "中远海控: 5.45%",
          "中远海控: 5.47%",
          "中远海控: 5.45%",
          "中远海控: 5.04%",
          "中远海控: 5.02%",
          "中远海控: 5.04%",
          "中远海控: 4.91%",
          "中远海控: 4.82%",
          "中远海控: 4.74%",
          "中远海控: 4.67%",
          "中远海控: 4.66%",
          "中远海控: 4.66%",
          "中远海控: 4.69%",
          "中远海控: 4.71%",
          "中远海控: 4.78%",
          "中远海控: 4.77%",
          "中远海控: 4.78%",
          "中远海控: 4.73%",
          "中远海控: 4.77%",
          "中远海控: 4.75%",
          "中远海控: 4.78%",
          "中远海控: 4.81%",
          "中远海控: 4.89%",
          "中远海控: 4.91%",
          "中远海控: 4.84%",
          "中远海控: 4.87%",
          "中远海控: 4.75%",
          "中远海控: 4.67%"
         ],
         "type": "scatter",
         "x": [
          "2024-05-20T00:00:00",
          "2024-05-21T00:00:00",
          "2024-05-22T00:00:00",
          "2024-05-23T00:00:00",
          "2024-05-24T00:00:00",
          "2024-05-27T00:00:00",
          "2024-05-28T00:00:00",
          "2024-05-29T00:00:00",
          "2024-05-30T00:00:00",
          "2024-05-31T00:00:00",
          "2024-06-03T00:00:00",
          "2024-06-04T00:00:00",
          "2024-06-05T00:00:00",
          "2024-06-06T00:00:00",
          "2024-06-07T00:00:00",
          "2024-06-11T00:00:00",
          "2024-06-12T00:00:00",
          "2024-06-13T00:00:00",
          "2024-06-14T00:00:00",
          "2024-06-17T00:00:00",
          "2024-06-18T00:00:00",
          "2024-06-19T00:00:00",
          "2024-06-20T00:00:00",
          "2024-06-21T00:00:00",
          "2024-06-24T00:00:00",
          "2024-06-25T00:00:00",
          "2024-06-26T00:00:00",
          "2024-06-27T00:00:00",
          "2024-06-28T00:00:00",
          "2024-07-01T00:00:00",
          "2024-07-02T00:00:00",
          "2024-07-03T00:00:00",
          "2024-07-04T00:00:00",
          "2024-07-05T00:00:00",
          "2024-07-08T00:00:00",
          "2024-07-09T00:00:00",
          "2024-07-10T00:00:00",
          "2024-07-11T00:00:00",
          "2024-07-12T00:00:00",
          "2024-07-15T00:00:00",
          "2024-07-16T00:00:00",
          "2024-07-17T00:00:00",
          "2024-07-18T00:00:00",
          "2024-07-19T00:00:00",
          "2024-07-22T00:00:00",
          "2024-07-23T00:00:00",
          "2024-07-24T00:00:00",
          "2024-07-25T00:00:00",
          "2024-07-26T00:00:00",
          "2024-07-29T00:00:00",
          "2024-07-30T00:00:00",
          "2024-07-31T00:00:00",
          "2024-08-01T00:00:00",
          "2024-08-02T00:00:00",
          "2024-08-05T00:00:00",
          "2024-08-06T00:00:00",
          "2024-08-07T00:00:00",
          "2024-08-08T00:00:00",
          "2024-08-09T00:00:00"
         ],
         "y": [
          61.062123074998524,
          61.645322964307525,
          61.652537272687205,
          62.132700255488814,
          61.65882148547768,
          61.36768370124948,
          60.927305212206505,
          60.09389439953683,
          60.79381058777399,
          60.8530864716147,
          61.459823091298105,
          61.04789481729091,
          61.304129256964345,
          61.4319737750729,
          61.657294151817005,
          61.91168872480499,
          61.788047178562586,
          62.075458990580884,
          62.45734970950721,
          62.55494136422001,
          62.03684615364539,
          61.941047547507225,
          61.999622839983424,
          61.82033000357908,
          61.98694186503444,
          61.609893778367535,
          61.82609538142317,
          61.94556482635655,
          61.22151669758561,
          60.85711962036367,
          60.93441126187454,
          61.208640299211275,
          61.32043498794178,
          60.9334569126774,
          60.994795974662715,
          60.845839280912784,
          61.205991184887516,
          60.868883456514304,
          60.744537256211906,
          61.24121802879195,
          60.52917597184381,
          60.59863117365253,
          60.19039077134763,
          60.34875820594824,
          60.14368754726514,
          60.57972484967122,
          60.1719057348394,
          60.470469221106285,
          60.614909267562666,
          60.93767431063397,
          60.555998442735934,
          60.66095984377691,
          60.84277212977892,
          60.4541502805033,
          60.26543321836443,
          60.84522123948843,
          60.84748507981048,
          60.929186055139525,
          61.01398545453315
         ]
        },
        {
         "fill": "tonexty",
         "hoverinfo": "text",
         "hovertemplate": "%{text}<extra></extra>",
         "mode": "none",
         "name": "中远海能",
         "text": [
          "中远海能: 6.07%",
          "中远海能: 6.21%",
          "中远海能: 6.06%",
          "中远海能: 6.08%",
          "中远海能: 6.09%",
          "中远海能: 6.15%",
          "中远海能: 6.20%",
          "中远海能: 6.08%",
          "中远海能: 6.25%",
          "中远海能: 6.07%",
          "中远海能: 6.07%",
          "中远海能: 6.01%",
          "中远海能: 6.05%",
          "中远海能: 6.11%",
          "中远海能: 6.25%",
          "中远海能: 5.95%",
          "中远海能: 5.91%",
          "中远海能: 5.90%",
          "中远海能: 5.72%",
          "中远海能: 5.58%",
          "中远海能: 5.61%",
          "中远海能: 5.57%",
          "中远海能: 5.69%",
          "中远海能: 5.63%",
          "中远海能: 5.60%",
          "中远海能: 5.57%",
          "中远海能: 5.44%",
          "中远海能: 5.41%",
          "中远海能: 5.40%",
          "中远海能: 5.44%",
          "中远海能: 5.39%",
          "中远海能: 5.31%",
          "中远海能: 5.37%",
          "中远海能: 5.35%",
          "中远海能: 5.17%",
          "中远海能: 5.03%",
          "中远海能: 4.98%",
          "中远海能: 4.91%",
          "中远海能: 4.92%",
          "中远海能: 4.79%",
          "中远海能: 4.83%",
          "中远海能: 4.92%",
          "中远海能: 5.00%",
          "中远海能: 5.08%",
          "中远海能: 5.15%",
          "中远海能: 5.46%",
          "中远海能: 5.37%",
          "中远海能: 5.48%",
          "中远海能: 5.43%",
          "中远海能: 5.36%",
          "中远海能: 5.43%",
          "中远海能: 5.60%",
          "中远海能: 5.40%",
          "中远海能: 5.51%",
          "中远海能: 5.50%",
          "中远海能: 5.63%",
          "中远海能: 5.60%",
          "中远海能: 5.51%",
          "中远海能: 5.50%"
         ],
         "type": "scatter",
         "x": [
          "2024-05-20T00:00:00",
          "2024-05-21T00:00:00",
          "2024-05-22T00:00:00",
          "2024-05-23T00:00:00",
          "2024-05-24T00:00:00",
          "2024-05-27T00:00:00",
          "2024-05-28T00:00:00",
          "2024-05-29T00:00:00",
          "2024-05-30T00:00:00",
          "2024-05-31T00:00:00",
          "2024-06-03T00:00:00",
          "2024-06-04T00:00:00",
          "2024-06-05T00:00:00",
          "2024-06-06T00:00:00",
          "2024-06-07T00:00:00",
          "2024-06-11T00:00:00",
          "2024-06-12T00:00:00",
          "2024-06-13T00:00:00",
          "2024-06-14T00:00:00",
          "2024-06-17T00:00:00",
          "2024-06-18T00:00:00",
          "2024-06-19T00:00:00",
          "2024-06-20T00:00:00",
          "2024-06-21T00:00:00",
          "2024-06-24T00:00:00",
          "2024-06-25T00:00:00",
          "2024-06-26T00:00:00",
          "2024-06-27T00:00:00",
          "2024-06-28T00:00:00",
          "2024-07-01T00:00:00",
          "2024-07-02T00:00:00",
          "2024-07-03T00:00:00",
          "2024-07-04T00:00:00",
          "2024-07-05T00:00:00",
          "2024-07-08T00:00:00",
          "2024-07-09T00:00:00",
          "2024-07-10T00:00:00",
          "2024-07-11T00:00:00",
          "2024-07-12T00:00:00",
          "2024-07-15T00:00:00",
          "2024-07-16T00:00:00",
          "2024-07-17T00:00:00",
          "2024-07-18T00:00:00",
          "2024-07-19T00:00:00",
          "2024-07-22T00:00:00",
          "2024-07-23T00:00:00",
          "2024-07-24T00:00:00",
          "2024-07-25T00:00:00",
          "2024-07-26T00:00:00",
          "2024-07-29T00:00:00",
          "2024-07-30T00:00:00",
          "2024-07-31T00:00:00",
          "2024-08-01T00:00:00",
          "2024-08-02T00:00:00",
          "2024-08-05T00:00:00",
          "2024-08-06T00:00:00",
          "2024-08-07T00:00:00",
          "2024-08-08T00:00:00",
          "2024-08-09T00:00:00"
         ],
         "y": [
          67.12852741387236,
          67.85481436896457,
          67.71545812329761,
          68.21083475606017,
          67.75005021967345,
          67.51957108270116,
          67.129941477096,
          66.17038536540676,
          67.04160002381283,
          66.9247615137599,
          67.5310497799372,
          67.06208743029336,
          67.35225160213717,
          67.53896161174525,
          67.91081238180874,
          67.85713988802094,
          67.70094382291039,
          67.97417128009633,
          68.17754421999838,
          68.1369297310131,
          67.6481672324312,
          67.50654852591704,
          67.68462330845577,
          67.45248800733329,
          67.58859769782039,
          67.18412033173256,
          67.26383993240647,
          67.3555360189822,
          66.62346040415423,
          66.29899981508699,
          66.3291842155604,
          66.51413999897454,
          66.6942931985114,
          66.27924024957528,
          66.1658105842402,
          65.87699291202348,
          66.1853211940747,
          65.78379002325272,
          65.66886191428803,
          66.03141128524744,
          65.35546629258488,
          65.51508383568932,
          65.18789026397627,
          65.42388081084697,
          65.29235563399855,
          66.03653556330198,
          65.54628656419197,
          65.94737612433842,
          66.04741770341128,
          66.29865303546111,
          65.98184645250699,
          66.26108187825797,
          66.24339389639871,
          65.96090908973757,
          65.76337018703701,
          66.47469740698868,
          66.44394271128473,
          66.44182287762614,
          66.51026238884224
         ]
        },
        {
         "fill": "tonexty",
         "hoverinfo": "text",
         "hovertemplate": "%{text}<extra></extra>",
         "mode": "none",
         "name": "山金国际",
         "text": [
          "山金国际: 7.31%",
          "山金国际: 6.98%",
          "山金国际: 6.87%",
          "山金国际: 6.78%",
          "山金国际: 6.81%",
          "山金国际: 6.71%",
          "山金国际: 6.63%",
          "山金国际: 6.67%",
          "山金国际: 6.54%",
          "山金国际: 6.84%",
          "山金国际: 6.53%",
          "山金国际: 6.53%",
          "山金国际: 6.36%",
          "山金国际: 6.48%",
          "山金国际: 6.46%",
          "山金国际: 6.26%",
          "山金国际: 6.25%",
          "山金国际: 6.11%",
          "山金国际: 6.01%",
          "山金国际: 5.99%",
          "山金国际: 5.89%",
          "山金国际: 5.99%",
          "山金国际: 5.99%",
          "山金国际: 6.03%",
          "山金国际: 5.90%",
          "山金国际: 5.88%",
          "山金国际: 5.80%",
          "山金国际: 5.72%",
          "山金国际: 5.78%",
          "山金国际: 5.91%",
          "山金国际: 5.90%",
          "山金国际: 5.84%",
          "山金国际: 5.93%",
          "山金国际: 6.29%",
          "山金国际: 6.31%",
          "山金国际: 6.26%",
          "山金国际: 6.20%",
          "山金国际: 6.27%",
          "山金国际: 6.20%",
          "山金国际: 6.35%",
          "山金国际: 6.56%",
          "山金国际: 6.58%",
          "山金国际: 6.55%",
          "山金国际: 6.46%",
          "山金国际: 6.51%",
          "山金国际: 6.21%",
          "山金国际: 6.28%",
          "山金国际: 6.22%",
          "山金国际: 6.24%",
          "山金国际: 6.22%",
          "山金国际: 6.29%",
          "山金国际: 6.47%",
          "山金国际: 6.55%",
          "山金国际: 6.59%",
          "山金国际: 6.77%",
          "山金国际: 6.62%",
          "山金国际: 6.54%",
          "山金国际: 6.54%",
          "山金国际: 6.51%"
         ],
         "type": "scatter",
         "x": [
          "2024-05-20T00:00:00",
          "2024-05-21T00:00:00",
          "2024-05-22T00:00:00",
          "2024-05-23T00:00:00",
          "2024-05-24T00:00:00",
          "2024-05-27T00:00:00",
          "2024-05-28T00:00:00",
          "2024-05-29T00:00:00",
          "2024-05-30T00:00:00",
          "2024-05-31T00:00:00",
          "2024-06-03T00:00:00",
          "2024-06-04T00:00:00",
          "2024-06-05T00:00:00",
          "2024-06-06T00:00:00",
          "2024-06-07T00:00:00",
          "2024-06-11T00:00:00",
          "2024-06-12T00:00:00",
          "2024-06-13T00:00:00",
          "2024-06-14T00:00:00",
          "2024-06-17T00:00:00",
          "2024-06-18T00:00:00",
          "2024-06-19T00:00:00",
          "2024-06-20T00:00:00",
          "2024-06-21T00:00:00",
          "2024-06-24T00:00:00",
          "2024-06-25T00:00:00",
          "2024-06-26T00:00:00",
          "2024-06-27T00:00:00",
          "2024-06-28T00:00:00",
          "2024-07-01T00:00:00",
          "2024-07-02T00:00:00",
          "2024-07-03T00:00:00",
          "2024-07-04T00:00:00",
          "2024-07-05T00:00:00",
          "2024-07-08T00:00:00",
          "2024-07-09T00:00:00",
          "2024-07-10T00:00:00",
          "2024-07-11T00:00:00",
          "2024-07-12T00:00:00",
          "2024-07-15T00:00:00",
          "2024-07-16T00:00:00",
          "2024-07-17T00:00:00",
          "2024-07-18T00:00:00",
          "2024-07-19T00:00:00",
          "2024-07-22T00:00:00",
          "2024-07-23T00:00:00",
          "2024-07-24T00:00:00",
          "2024-07-25T00:00:00",
          "2024-07-26T00:00:00",
          "2024-07-29T00:00:00",
          "2024-07-30T00:00:00",
          "2024-07-31T00:00:00",
          "2024-08-01T00:00:00",
          "2024-08-02T00:00:00",
          "2024-08-05T00:00:00",
          "2024-08-06T00:00:00",
          "2024-08-07T00:00:00",
          "2024-08-08T00:00:00",
          "2024-08-09T00:00:00"
         ],
         "y": [
          74.43634660066942,
          74.83566349699056,
          74.58122262010116,
          74.9889349354025,
          74.56387543417637,
          74.22880424290229,
          73.75752136581956,
          72.83565697108224,
          73.57738063965913,
          73.76035090943608,
          74.0598589956131,
          73.58802071525945,
          73.7084489759574,
          74.02333140667858,
          74.37394232500081,
          74.11586293492176,
          73.94684255275551,
          74.0819195267042,
          74.19212307830553,
          74.12637016213675,
          73.53345643923787,
          73.49915869281335,
          73.67948781041338,
          73.48361257243754,
          73.48699431337376,
          73.06869963990377,
          73.06167876929167,
          73.08018530973473,
          72.40256654295308,
          72.20535752723373,
          72.22700089327118,
          72.35797991673195,
          72.62280398341193,
          72.57298682538875,
          72.47817543816339,
          72.1382409942597,
          72.38729286075005,
          72.05002008565522,
          71.86975273066676,
          72.38087738792166,
          71.91658420990531,
          72.09269093982003,
          71.73307039945395,
          71.8798919944087,
          71.80707024161751,
          72.24525480557912,
          71.82551888103988,
          72.16641132273347,
          72.28446857488083,
          72.51782670487236,
          72.27641934786622,
          72.72667772792038,
          72.79015121805682,
          72.55496596580372,
          72.53713497449223,
          73.09514444309725,
          72.98196678728951,
          72.98425111604254,
          73.01551765562432
         ]
        },
        {
         "fill": "tonexty",
         "hoverinfo": "text",
         "hovertemplate": "%{text}<extra></extra>",
         "mode": "none",
         "name": "湖南黄金",
         "text": [
          "湖南黄金: 6.73%",
          "湖南黄金: 6.44%",
          "湖南黄金: 6.52%",
          "湖南黄金: 6.37%",
          "湖南黄金: 6.52%",
          "湖南黄金: 6.68%",
          "湖南黄金: 6.83%",
          "湖南黄金: 7.38%",
          "湖南黄金: 6.84%",
          "湖南黄金: 6.79%",
          "湖南黄金: 6.51%",
          "湖南黄金: 6.67%",
          "湖南黄金: 6.56%",
          "湖南黄金: 6.55%",
          "湖南黄金: 6.35%",
          "湖南黄金: 6.30%",
          "湖南黄金: 6.30%",
          "湖南黄金: 6.11%",
          "湖南黄金: 6.19%",
          "湖南黄金: 6.16%",
          "湖南黄金: 6.34%",
          "湖南黄金: 6.36%",
          "湖南黄金: 6.20%",
          "湖南黄金: 6.38%",
          "湖南黄金: 6.23%",
          "湖南黄金: 6.33%",
          "湖南黄金: 6.29%",
          "湖南黄金: 6.18%",
          "湖南黄金: 6.42%",
          "湖南黄金: 6.64%",
          "湖南黄金: 6.63%",
          "湖南黄金: 6.57%",
          "湖南黄金: 6.36%",
          "湖南黄金: 6.52%",
          "湖南黄金: 6.41%",
          "湖南黄金: 6.53%",
          "湖南黄金: 6.42%",
          "湖南黄金: 6.65%",
          "湖南黄金: 6.68%",
          "湖南黄金: 6.78%",
          "湖南黄金: 7.04%",
          "湖南黄金: 6.97%",
          "湖南黄金: 7.07%",
          "湖南黄金: 6.64%",
          "湖南黄金: 6.61%",
          "湖南黄金: 6.22%",
          "湖南黄金: 6.23%",
          "湖南黄金: 5.93%",
          "湖南黄金: 5.99%",
          "湖南黄金: 5.96%",
          "湖南黄金: 6.10%",
          "湖南黄金: 6.22%",
          "湖南黄金: 6.15%",
          "湖南黄金: 6.31%",
          "湖南黄金: 6.09%",
          "湖南黄金: 5.96%",
          "湖南黄金: 6.05%",
          "湖南黄金: 5.93%",
          "湖南黄金: 5.93%"
         ],
         "type": "scatter",
         "x": [
          "2024-05-20T00:00:00",
          "2024-05-21T00:00:00",
          "2024-05-22T00:00:00",
          "2024-05-23T00:00:00",
          "2024-05-24T00:00:00",
          "2024-05-27T00:00:00",
          "2024-05-28T00:00:00",
          "2024-05-29T00:00:00",
          "2024-05-30T00:00:00",
          "2024-05-31T00:00:00",
          "2024-06-03T00:00:00",
          "2024-06-04T00:00:00",
          "2024-06-05T00:00:00",
          "2024-06-06T00:00:00",
          "2024-06-07T00:00:00",
          "2024-06-11T00:00:00",
          "2024-06-12T00:00:00",
          "2024-06-13T00:00:00",
          "2024-06-14T00:00:00",
          "2024-06-17T00:00:00",
          "2024-06-18T00:00:00",
          "2024-06-19T00:00:00",
          "2024-06-20T00:00:00",
          "2024-06-21T00:00:00",
          "2024-06-24T00:00:00",
          "2024-06-25T00:00:00",
          "2024-06-26T00:00:00",
          "2024-06-27T00:00:00",
          "2024-06-28T00:00:00",
          "2024-07-01T00:00:00",
          "2024-07-02T00:00:00",
          "2024-07-03T00:00:00",
          "2024-07-04T00:00:00",
          "2024-07-05T00:00:00",
          "2024-07-08T00:00:00",
          "2024-07-09T00:00:00",
          "2024-07-10T00:00:00",
          "2024-07-11T00:00:00",
          "2024-07-12T00:00:00",
          "2024-07-15T00:00:00",
          "2024-07-16T00:00:00",
          "2024-07-17T00:00:00",
          "2024-07-18T00:00:00",
          "2024-07-19T00:00:00",
          "2024-07-22T00:00:00",
          "2024-07-23T00:00:00",
          "2024-07-24T00:00:00",
          "2024-07-25T00:00:00",
          "2024-07-26T00:00:00",
          "2024-07-29T00:00:00",
          "2024-07-30T00:00:00",
          "2024-07-31T00:00:00",
          "2024-08-01T00:00:00",
          "2024-08-02T00:00:00",
          "2024-08-05T00:00:00",
          "2024-08-06T00:00:00",
          "2024-08-07T00:00:00",
          "2024-08-08T00:00:00",
          "2024-08-09T00:00:00"
         ],
         "y": [
          81.16813097494067,
          81.27418436078074,
          81.09937980647493,
          81.36009183900832,
          81.08170572948723,
          80.90859051182096,
          80.58476545510786,
          80.21721297904996,
          80.41831764218689,
          80.5550331185293,
          80.5676932957476,
          80.25933698135704,
          80.26649019451229,
          80.57687573713848,
          80.71929036611671,
          80.41225277144032,
          80.24771996718971,
          80.19679967152736,
          80.38223154371454,
          80.28899906308722,
          79.87808554854723,
          79.86137250490248,
          79.8802150168951,
          79.86845892304834,
          79.71509239045916,
          79.3948030940954,
          79.35647490677236,
          79.25668496665398,
          78.82379536051003,
          78.8434758072172,
          78.85592298676605,
          78.93053950728302,
          78.98485018352501,
          79.09464051538193,
          78.8920136542816,
          78.67276972128484,
          78.80663115788509,
          78.69664988248876,
          78.55091921090062,
          79.16302231832373,
          78.95651491448079,
          79.06178051309693,
          78.80467254050969,
          78.51741184897728,
          78.41500594345597,
          78.46492442045773,
          78.0573197641357,
          78.09230585869415,
          78.2779423625404,
          78.47406364773067,
          78.37957816638365,
          78.94499534467383,
          78.9379377159667,
          78.86795246853761,
          78.62892545398797,
          79.05621461667002,
          79.02840969898399,
          78.91033568196127,
          78.94421403031176
         ]
        },
        {
         "fill": "tonexty",
         "hoverinfo": "text",
         "hovertemplate": "%{text}<extra></extra>",
         "mode": "none",
         "name": "华锡有色",
         "text": [
          "华锡有色: 6.58%",
          "华锡有色: 6.35%",
          "华锡有色: 6.40%",
          "华锡有色: 6.09%",
          "华锡有色: 6.35%",
          "华锡有色: 6.64%",
          "华锡有色: 6.98%",
          "华锡有色: 7.55%",
          "华锡有色: 7.00%",
          "华锡有色: 6.97%",
          "华锡有色: 6.67%",
          "华锡有色: 7.01%",
          "华锡有色: 6.95%",
          "华锡有色: 6.79%",
          "华锡有色: 6.44%",
          "华锡有色: 6.54%",
          "华锡有色: 6.66%",
          "华锡有色: 6.57%",
          "华锡有色: 6.48%",
          "华锡有色: 6.44%",
          "华锡有色: 6.69%",
          "华锡有色: 6.67%",
          "华锡有色: 6.47%",
          "华锡有色: 6.38%",
          "华锡有色: 6.32%",
          "华锡有色: 6.64%",
          "华锡有色: 6.73%",
          "华锡有色: 6.72%",
          "华锡有色: 7.17%",
          "华锡有色: 7.14%",
          "华锡有色: 7.05%",
          "华锡有色: 6.97%",
          "华锡有色: 6.82%",
          "华锡有色: 6.78%",
          "华锡有色: 6.79%",
          "华锡有色: 6.91%",
          "华锡有色: 6.73%",
          "华锡有色: 6.89%",
          "华锡有色: 6.79%",
          "华锡有色: 6.54%",
          "华锡有色: 6.69%",
          "华锡有色: 6.62%",
          "华锡有色: 6.66%",
          "华锡有色: 6.73%",
          "华锡有色: 6.84%",
          "华锡有色: 6.37%",
          "华锡有色: 6.33%",
          "华锡有色: 6.13%",
          "华锡有色: 6.27%",
          "华锡有色: 6.28%",
          "华锡有色: 6.46%",
          "华锡有色: 6.41%",
          "华锡有色: 6.27%",
          "华锡有色: 6.29%",
          "华锡有色: 6.23%",
          "华锡有色: 6.14%",
          "华锡有色: 6.00%",
          "华锡有色: 6.08%",
          "华锡有色: 6.16%"
         ],
         "type": "scatter",
         "x": [
          "2024-05-20T00:00:00",
          "2024-05-21T00:00:00",
          "2024-05-22T00:00:00",
          "2024-05-23T00:00:00",
          "2024-05-24T00:00:00",
          "2024-05-27T00:00:00",
          "2024-05-28T00:00:00",
          "2024-05-29T00:00:00",
          "2024-05-30T00:00:00",
          "2024-05-31T00:00:00",
          "2024-06-03T00:00:00",
          "2024-06-04T00:00:00",
          "2024-06-05T00:00:00",
          "2024-06-06T00:00:00",
          "2024-06-07T00:00:00",
          "2024-06-11T00:00:00",
          "2024-06-12T00:00:00",
          "2024-06-13T00:00:00",
          "2024-06-14T00:00:00",
          "2024-06-17T00:00:00",
          "2024-06-18T00:00:00",
          "2024-06-19T00:00:00",
          "2024-06-20T00:00:00",
          "2024-06-21T00:00:00",
          "2024-06-24T00:00:00",
          "2024-06-25T00:00:00",
          "2024-06-26T00:00:00",
          "2024-06-27T00:00:00",
          "2024-06-28T00:00:00",
          "2024-07-01T00:00:00",
          "2024-07-02T00:00:00",
          "2024-07-03T00:00:00",
          "2024-07-04T00:00:00",
          "2024-07-05T00:00:00",
          "2024-07-08T00:00:00",
          "2024-07-09T00:00:00",
          "2024-07-10T00:00:00",
          "2024-07-11T00:00:00",
          "2024-07-12T00:00:00",
          "2024-07-15T00:00:00",
          "2024-07-16T00:00:00",
          "2024-07-17T00:00:00",
          "2024-07-18T00:00:00",
          "2024-07-19T00:00:00",
          "2024-07-22T00:00:00",
          "2024-07-23T00:00:00",
          "2024-07-24T00:00:00",
          "2024-07-25T00:00:00",
          "2024-07-26T00:00:00",
          "2024-07-29T00:00:00",
          "2024-07-30T00:00:00",
          "2024-07-31T00:00:00",
          "2024-08-01T00:00:00",
          "2024-08-02T00:00:00",
          "2024-08-05T00:00:00",
          "2024-08-06T00:00:00",
          "2024-08-07T00:00:00",
          "2024-08-08T00:00:00",
          "2024-08-09T00:00:00"
         ],
         "y": [
          87.750101377353,
          87.62203626224823,
          87.4944922555421,
          87.4462534324727,
          87.42773741888773,
          87.55073115183495,
          87.56502486785604,
          87.76455183113174,
          87.41361812744277,
          87.52486117996744,
          87.23827890582689,
          87.2646554813395,
          87.21437373239185,
          87.36536452913467,
          87.15454699806223,
          86.95206649239606,
          86.91166536510931,
          86.76450128742553,
          86.8660834611413,
          86.72945156450348,
          86.56363039818199,
          86.52859953227033,
          86.35069347016463,
          86.24615922756145,
          86.0373909838466,
          86.03214527678963,
          86.08700958939778,
          85.97248941728452,
          85.99712351219435,
          85.98685796940248,
          85.90461809375606,
          85.90442281990359,
          85.8051051199548,
          85.87926410683637,
          85.68025475978678,
          85.5808977471278,
          85.53799673939773,
          85.58535283722958,
          85.33881331485442,
          85.70596286811525,
          85.64254063052587,
          85.68171031903934,
          85.46215593007652,
          85.24746557575466,
          85.25957954451886,
          84.83424564660652,
          84.38398421065004,
          84.21857502019384,
          84.5518990020852,
          84.75166754603296,
          84.84347841287847,
          85.35240816231018,
          85.2090426948962,
          85.15505103122926,
          84.85864350224897,
          85.19642190736906,
          85.03325744783136,
          84.98572096387564,
          85.10049929855899
         ]
        },
        {
         "fill": "tonexty",
         "hoverinfo": "text",
         "hovertemplate": "%{text}<extra></extra>",
         "mode": "none",
         "name": "青岛港",
         "text": [
          "青岛港: 5.76%",
          "青岛港: 5.78%",
          "青岛港: 5.82%",
          "青岛港: 5.80%",
          "青岛港: 5.88%",
          "青岛港: 5.82%",
          "青岛港: 5.71%",
          "青岛港: 5.64%",
          "青岛港: 5.87%",
          "青岛港: 5.82%",
          "青岛港: 5.77%",
          "青岛港: 5.77%",
          "青岛港: 5.70%",
          "青岛港: 5.66%",
          "青岛港: 5.72%",
          "青岛港: 5.86%",
          "青岛港: 5.89%",
          "青岛港: 5.93%",
          "青岛港: 6.06%",
          "青岛港: 6.16%",
          "青岛港: 6.28%",
          "青岛港: 6.24%",
          "青岛港: 6.41%",
          "青岛港: 6.46%",
          "青岛港: 6.46%",
          "青岛港: 6.48%",
          "青岛港: 6.44%",
          "青岛港: 6.57%",
          "青岛港: 6.57%",
          "青岛港: 6.53%",
          "青岛港: 6.53%",
          "青岛港: 6.55%",
          "青岛港: 6.62%",
          "青岛港: 6.59%",
          "青岛港: 6.51%",
          "青岛港: 6.63%",
          "青岛港: 6.72%",
          "青岛港: 6.62%",
          "青岛港: 6.81%",
          "青岛港: 6.42%",
          "青岛港: 6.38%",
          "青岛港: 6.30%",
          "青岛港: 6.41%",
          "青岛港: 6.42%",
          "青岛港: 6.47%",
          "青岛港: 6.61%",
          "青岛港: 6.71%",
          "青岛港: 6.71%",
          "青岛港: 6.58%",
          "青岛港: 6.56%",
          "青岛港: 6.61%",
          "青岛港: 6.63%",
          "青岛港: 6.74%",
          "青岛港: 6.74%",
          "青岛港: 6.83%",
          "青岛港: 6.61%",
          "青岛港: 6.66%",
          "青岛港: 6.73%",
          "青岛港: 6.71%"
         ],
         "type": "scatter",
         "x": [
          "2024-05-20T00:00:00",
          "2024-05-21T00:00:00",
          "2024-05-22T00:00:00",
          "2024-05-23T00:00:00",
          "2024-05-24T00:00:00",
          "2024-05-27T00:00:00",
          "2024-05-28T00:00:00",
          "2024-05-29T00:00:00",
          "2024-05-30T00:00:00",
          "2024-05-31T00:00:00",
          "2024-06-03T00:00:00",
          "2024-06-04T00:00:00",
          "2024-06-05T00:00:00",
          "2024-06-06T00:00:00",
          "2024-06-07T00:00:00",
          "2024-06-11T00:00:00",
          "2024-06-12T00:00:00",
          "2024-06-13T00:00:00",
          "2024-06-14T00:00:00",
          "2024-06-17T00:00:00",
          "2024-06-18T00:00:00",
          "2024-06-19T00:00:00",
          "2024-06-20T00:00:00",
          "2024-06-21T00:00:00",
          "2024-06-24T00:00:00",
          "2024-06-25T00:00:00",
          "2024-06-26T00:00:00",
          "2024-06-27T00:00:00",
          "2024-06-28T00:00:00",
          "2024-07-01T00:00:00",
          "2024-07-02T00:00:00",
          "2024-07-03T00:00:00",
          "2024-07-04T00:00:00",
          "2024-07-05T00:00:00",
          "2024-07-08T00:00:00",
          "2024-07-09T00:00:00",
          "2024-07-10T00:00:00",
          "2024-07-11T00:00:00",
          "2024-07-12T00:00:00",
          "2024-07-15T00:00:00",
          "2024-07-16T00:00:00",
          "2024-07-17T00:00:00",
          "2024-07-18T00:00:00",
          "2024-07-19T00:00:00",
          "2024-07-22T00:00:00",
          "2024-07-23T00:00:00",
          "2024-07-24T00:00:00",
          "2024-07-25T00:00:00",
          "2024-07-26T00:00:00",
          "2024-07-29T00:00:00",
          "2024-07-30T00:00:00",
          "2024-07-31T00:00:00",
          "2024-08-01T00:00:00",
          "2024-08-02T00:00:00",
          "2024-08-05T00:00:00",
          "2024-08-06T00:00:00",
          "2024-08-07T00:00:00",
          "2024-08-08T00:00:00",
          "2024-08-09T00:00:00"
         ],
         "y": [
          93.51003484055917,
          93.39887826780033,
          93.31191295907738,
          93.24902900385176,
          93.30649640509637,
          93.3710246211625,
          93.27319875356349,
          93.40171318668419,
          93.2809056271455,
          93.34750988318125,
          93.01174102603854,
          93.03217936493064,
          92.91696124035325,
          93.02549117362875,
          92.87711330520251,
          92.80987053396684,
          92.79909782777459,
          92.6897567243943,
          92.93012198367276,
          92.88618130244957,
          92.839988473552,
          92.76985318425574,
          92.75779518274243,
          92.70967410033315,
          92.49338914434337,
          92.5159900143154,
          92.53179126561486,
          92.54329210078487,
          92.56603578895528,
          92.51323994039564,
          92.43602517045613,
          92.45014347359322,
          92.42707733929845,
          92.46664087795062,
          92.19316236652206,
          92.20725152084903,
          92.25374213275653,
          92.2096592571981,
          92.15354844651486,
          92.13088265655588,
          92.02673252494945,
          91.97990417684389,
          91.87204428742538,
          91.67195896826877,
          91.72484248676568,
          91.44430450343641,
          91.09742740927946,
          90.93119203493957,
          91.13526815565555,
          91.30849544221068,
          91.45263303815558,
          91.978007003246,
          91.94803192915495,
          91.8933411191842,
          91.68604646388386,
          91.80543440419224,
          91.69606737299895,
          91.71573190040544,
          91.8143783508214
         ]
        },
        {
         "fill": "tonexty",
         "hoverinfo": "text",
         "hovertemplate": "%{text}<extra></extra>",
         "mode": "none",
         "name": "中国核电",
         "text": [
          "中国核电: 6.49%",
          "中国核电: 6.60%",
          "中国核电: 6.69%",
          "中国核电: 6.75%",
          "中国核电: 6.69%",
          "中国核电: 6.63%",
          "中国核电: 6.73%",
          "中国核电: 6.60%",
          "中国核电: 6.72%",
          "中国核电: 6.65%",
          "中国核电: 6.99%",
          "中国核电: 6.97%",
          "中国核电: 7.08%",
          "中国核电: 6.97%",
          "中国核电: 7.12%",
          "中国核电: 7.19%",
          "中国核电: 7.20%",
          "中国核电: 7.31%",
          "中国核电: 7.07%",
          "中国核电: 7.11%",
          "中国核电: 7.16%",
          "中国核电: 7.23%",
          "中国核电: 7.24%",
          "中国核电: 7.29%",
          "中国核电: 7.51%",
          "中国核电: 7.48%",
          "中国核电: 7.47%",
          "中国核电: 7.46%",
          "中国核电: 7.43%",
          "中国核电: 7.49%",
          "中国核电: 7.56%",
          "中国核电: 7.55%",
          "中国核电: 7.57%",
          "中国核电: 7.53%",
          "中国核电: 7.81%",
          "中国核电: 7.79%",
          "中国核电: 7.75%",
          "中国核电: 7.79%",
          "中国核电: 7.85%",
          "中国核电: 7.87%",
          "中国核电: 7.97%",
          "中国核电: 8.02%",
          "中国核电: 8.13%",
          "中国核电: 8.33%",
          "中国核电: 8.28%",
          "中国核电: 8.56%",
          "中国核电: 8.90%",
          "中国核电: 9.07%",
          "中国核电: 8.86%",
          "中国核电: 8.69%",
          "中国核电: 8.55%",
          "中国核电: 8.02%",
          "中国核电: 8.05%",
          "中国核电: 8.11%",
          "中国核电: 8.31%",
          "中国核电: 8.19%",
          "中国核电: 8.30%",
          "中国核电: 8.28%",
          "中国核电: 8.19%"
         ],
         "type": "scatter",
         "x": [
          "2024-05-20T00:00:00",
          "2024-05-21T00:00:00",
          "2024-05-22T00:00:00",
          "2024-05-23T00:00:00",
          "2024-05-24T00:00:00",
          "2024-05-27T00:00:00",
          "2024-05-28T00:00:00",
          "2024-05-29T00:00:00",
          "2024-05-30T00:00:00",
          "2024-05-31T00:00:00",
          "2024-06-03T00:00:00",
          "2024-06-04T00:00:00",
          "2024-06-05T00:00:00",
          "2024-06-06T00:00:00",
          "2024-06-07T00:00:00",
          "2024-06-11T00:00:00",
          "2024-06-12T00:00:00",
          "2024-06-13T00:00:00",
          "2024-06-14T00:00:00",
          "2024-06-17T00:00:00",
          "2024-06-18T00:00:00",
          "2024-06-19T00:00:00",
          "2024-06-20T00:00:00",
          "2024-06-21T00:00:00",
          "2024-06-24T00:00:00",
          "2024-06-25T00:00:00",
          "2024-06-26T00:00:00",
          "2024-06-27T00:00:00",
          "2024-06-28T00:00:00",
          "2024-07-01T00:00:00",
          "2024-07-02T00:00:00",
          "2024-07-03T00:00:00",
          "2024-07-04T00:00:00",
          "2024-07-05T00:00:00",
          "2024-07-08T00:00:00",
          "2024-07-09T00:00:00",
          "2024-07-10T00:00:00",
          "2024-07-11T00:00:00",
          "2024-07-12T00:00:00",
          "2024-07-15T00:00:00",
          "2024-07-16T00:00:00",
          "2024-07-17T00:00:00",
          "2024-07-18T00:00:00",
          "2024-07-19T00:00:00",
          "2024-07-22T00:00:00",
          "2024-07-23T00:00:00",
          "2024-07-24T00:00:00",
          "2024-07-25T00:00:00",
          "2024-07-26T00:00:00",
          "2024-07-29T00:00:00",
          "2024-07-30T00:00:00",
          "2024-07-31T00:00:00",
          "2024-08-01T00:00:00",
          "2024-08-02T00:00:00",
          "2024-08-05T00:00:00",
          "2024-08-06T00:00:00",
          "2024-08-07T00:00:00",
          "2024-08-08T00:00:00",
          "2024-08-09T00:00:00"
         ],
         "y": [
          99.99999999999999,
          100.00000000000001,
          99.99999999999999,
          100,
          100.00000000000001,
          100,
          100,
          100,
          99.99999999999999,
          100,
          100,
          99.99999999999999,
          100,
          100.00000000000001,
          99.99999999999999,
          100,
          99.99999999999999,
          100,
          100.00000000000001,
          100.00000000000001,
          100.00000000000001,
          99.99999999999997,
          100,
          100,
          100,
          100,
          100,
          99.99999999999999,
          100,
          99.99999999999999,
          100,
          99.99999999999999,
          99.99999999999999,
          100,
          100.00000000000001,
          99.99999999999999,
          99.99999999999999,
          100,
          99.99999999999997,
          100,
          100,
          99.99999999999999,
          100.00000000000001,
          100,
          100,
          100,
          100,
          100,
          99.99999999999999,
          100,
          100,
          100.00000000000003,
          100.00000000000001,
          100,
          99.99999999999999,
          100.00000000000001,
          99.99999999999999,
          99.99999999999999,
          99.99999999999997
         ]
        },
        {
         "fill": "tonexty",
         "hoverinfo": "text",
         "hovertemplate": "%{text}<extra></extra>",
         "mode": "none",
         "name": "长江电力",
         "text": [
          "长江电力: 0.00%",
          "长江电力: 0.00%",
          "长江电力: 0.00%",
          "长江电力: 0.00%",
          "长江电力: 0.00%",
          "长江电力: 0.00%",
          "长江电力: 0.00%",
          "长江电力: 0.00%",
          "长江电力: 0.00%",
          "长江电力: 0.00%",
          "长江电力: 0.00%",
          "长江电力: 0.00%",
          "长江电力: 0.00%",
          "长江电力: 0.00%",
          "长江电力: 0.00%",
          "长江电力: 0.00%",
          "长江电力: 0.00%",
          "长江电力: 0.00%",
          "长江电力: 0.00%",
          "长江电力: 0.00%",
          "长江电力: 0.00%",
          "长江电力: 0.00%",
          "长江电力: 0.00%",
          "长江电力: 0.00%",
          "长江电力: 0.00%",
          "长江电力: 0.00%",
          "长江电力: 0.00%",
          "长江电力: 0.00%",
          "长江电力: 0.00%",
          "长江电力: 0.00%",
          "长江电力: 0.00%",
          "长江电力: 0.00%",
          "长江电力: 0.00%",
          "长江电力: 0.00%",
          "长江电力: 0.00%",
          "长江电力: 0.00%",
          "长江电力: 0.00%",
          "长江电力: 0.00%",
          "长江电力: 0.00%",
          "长江电力: 0.00%",
          "长江电力: 0.00%",
          "长江电力: 0.00%",
          "长江电力: 0.00%",
          "长江电力: 0.00%",
          "长江电力: 0.00%",
          "长江电力: 0.00%",
          "长江电力: 0.00%",
          "长江电力: 0.00%",
          "长江电力: 0.00%",
          "长江电力: 0.00%",
          "长江电力: 0.00%",
          "长江电力: 0.00%",
          "长江电力: 0.00%",
          "长江电力: 0.00%",
          "长江电力: 0.00%",
          "长江电力: 0.00%",
          "长江电力: 0.00%",
          "长江电力: 0.00%",
          "长江电力: 0.00%"
         ],
         "type": "scatter",
         "x": [
          "2024-05-20T00:00:00",
          "2024-05-21T00:00:00",
          "2024-05-22T00:00:00",
          "2024-05-23T00:00:00",
          "2024-05-24T00:00:00",
          "2024-05-27T00:00:00",
          "2024-05-28T00:00:00",
          "2024-05-29T00:00:00",
          "2024-05-30T00:00:00",
          "2024-05-31T00:00:00",
          "2024-06-03T00:00:00",
          "2024-06-04T00:00:00",
          "2024-06-05T00:00:00",
          "2024-06-06T00:00:00",
          "2024-06-07T00:00:00",
          "2024-06-11T00:00:00",
          "2024-06-12T00:00:00",
          "2024-06-13T00:00:00",
          "2024-06-14T00:00:00",
          "2024-06-17T00:00:00",
          "2024-06-18T00:00:00",
          "2024-06-19T00:00:00",
          "2024-06-20T00:00:00",
          "2024-06-21T00:00:00",
          "2024-06-24T00:00:00",
          "2024-06-25T00:00:00",
          "2024-06-26T00:00:00",
          "2024-06-27T00:00:00",
          "2024-06-28T00:00:00",
          "2024-07-01T00:00:00",
          "2024-07-02T00:00:00",
          "2024-07-03T00:00:00",
          "2024-07-04T00:00:00",
          "2024-07-05T00:00:00",
          "2024-07-08T00:00:00",
          "2024-07-09T00:00:00",
          "2024-07-10T00:00:00",
          "2024-07-11T00:00:00",
          "2024-07-12T00:00:00",
          "2024-07-15T00:00:00",
          "2024-07-16T00:00:00",
          "2024-07-17T00:00:00",
          "2024-07-18T00:00:00",
          "2024-07-19T00:00:00",
          "2024-07-22T00:00:00",
          "2024-07-23T00:00:00",
          "2024-07-24T00:00:00",
          "2024-07-25T00:00:00",
          "2024-07-26T00:00:00",
          "2024-07-29T00:00:00",
          "2024-07-30T00:00:00",
          "2024-07-31T00:00:00",
          "2024-08-01T00:00:00",
          "2024-08-02T00:00:00",
          "2024-08-05T00:00:00",
          "2024-08-06T00:00:00",
          "2024-08-07T00:00:00",
          "2024-08-08T00:00:00",
          "2024-08-09T00:00:00"
         ],
         "y": [
          99.99999999999999,
          100.00000000000001,
          99.99999999999999,
          100,
          100.00000000000001,
          100,
          100,
          100,
          99.99999999999999,
          100,
          100,
          99.99999999999999,
          100,
          100.00000000000001,
          99.99999999999999,
          100,
          99.99999999999999,
          100,
          100.00000000000001,
          100.00000000000001,
          100.00000000000001,
          99.99999999999997,
          100,
          100,
          100,
          100,
          100,
          99.99999999999999,
          100,
          99.99999999999999,
          100,
          99.99999999999999,
          99.99999999999999,
          100,
          100.00000000000001,
          99.99999999999999,
          99.99999999999999,
          100,
          99.99999999999997,
          100,
          100,
          99.99999999999999,
          100.00000000000001,
          100,
          100,
          100,
          100,
          100,
          99.99999999999999,
          100,
          100,
          100.00000000000003,
          100.00000000000001,
          100,
          99.99999999999999,
          100.00000000000001,
          99.99999999999999,
          99.99999999999999,
          99.99999999999997
         ]
        }
       ],
       "layout": {
        "hovermode": "x unified",
        "showlegend": true,
        "template": {
         "data": {
          "bar": [
           {
            "error_x": {
             "color": "#2a3f5f"
            },
            "error_y": {
             "color": "#2a3f5f"
            },
            "marker": {
             "line": {
              "color": "#E5ECF6",
              "width": 0.5
             },
             "pattern": {
              "fillmode": "overlay",
              "size": 10,
              "solidity": 0.2
             }
            },
            "type": "bar"
           }
          ],
          "barpolar": [
           {
            "marker": {
             "line": {
              "color": "#E5ECF6",
              "width": 0.5
             },
             "pattern": {
              "fillmode": "overlay",
              "size": 10,
              "solidity": 0.2
             }
            },
            "type": "barpolar"
           }
          ],
          "carpet": [
           {
            "aaxis": {
             "endlinecolor": "#2a3f5f",
             "gridcolor": "white",
             "linecolor": "white",
             "minorgridcolor": "white",
             "startlinecolor": "#2a3f5f"
            },
            "baxis": {
             "endlinecolor": "#2a3f5f",
             "gridcolor": "white",
             "linecolor": "white",
             "minorgridcolor": "white",
             "startlinecolor": "#2a3f5f"
            },
            "type": "carpet"
           }
          ],
          "choropleth": [
           {
            "colorbar": {
             "outlinewidth": 0,
             "ticks": ""
            },
            "type": "choropleth"
           }
          ],
          "contour": [
           {
            "colorbar": {
             "outlinewidth": 0,
             "ticks": ""
            },
            "colorscale": [
             [
              0,
              "#0d0887"
             ],
             [
              0.1111111111111111,
              "#46039f"
             ],
             [
              0.2222222222222222,
              "#7201a8"
             ],
             [
              0.3333333333333333,
              "#9c179e"
             ],
             [
              0.4444444444444444,
              "#bd3786"
             ],
             [
              0.5555555555555556,
              "#d8576b"
             ],
             [
              0.6666666666666666,
              "#ed7953"
             ],
             [
              0.7777777777777778,
              "#fb9f3a"
             ],
             [
              0.8888888888888888,
              "#fdca26"
             ],
             [
              1,
              "#f0f921"
             ]
            ],
            "type": "contour"
           }
          ],
          "contourcarpet": [
           {
            "colorbar": {
             "outlinewidth": 0,
             "ticks": ""
            },
            "type": "contourcarpet"
           }
          ],
          "heatmap": [
           {
            "colorbar": {
             "outlinewidth": 0,
             "ticks": ""
            },
            "colorscale": [
             [
              0,
              "#0d0887"
             ],
             [
              0.1111111111111111,
              "#46039f"
             ],
             [
              0.2222222222222222,
              "#7201a8"
             ],
             [
              0.3333333333333333,
              "#9c179e"
             ],
             [
              0.4444444444444444,
              "#bd3786"
             ],
             [
              0.5555555555555556,
              "#d8576b"
             ],
             [
              0.6666666666666666,
              "#ed7953"
             ],
             [
              0.7777777777777778,
              "#fb9f3a"
             ],
             [
              0.8888888888888888,
              "#fdca26"
             ],
             [
              1,
              "#f0f921"
             ]
            ],
            "type": "heatmap"
           }
          ],
          "heatmapgl": [
           {
            "colorbar": {
             "outlinewidth": 0,
             "ticks": ""
            },
            "colorscale": [
             [
              0,
              "#0d0887"
             ],
             [
              0.1111111111111111,
              "#46039f"
             ],
             [
              0.2222222222222222,
              "#7201a8"
             ],
             [
              0.3333333333333333,
              "#9c179e"
             ],
             [
              0.4444444444444444,
              "#bd3786"
             ],
             [
              0.5555555555555556,
              "#d8576b"
             ],
             [
              0.6666666666666666,
              "#ed7953"
             ],
             [
              0.7777777777777778,
              "#fb9f3a"
             ],
             [
              0.8888888888888888,
              "#fdca26"
             ],
             [
              1,
              "#f0f921"
             ]
            ],
            "type": "heatmapgl"
           }
          ],
          "histogram": [
           {
            "marker": {
             "pattern": {
              "fillmode": "overlay",
              "size": 10,
              "solidity": 0.2
             }
            },
            "type": "histogram"
           }
          ],
          "histogram2d": [
           {
            "colorbar": {
             "outlinewidth": 0,
             "ticks": ""
            },
            "colorscale": [
             [
              0,
              "#0d0887"
             ],
             [
              0.1111111111111111,
              "#46039f"
             ],
             [
              0.2222222222222222,
              "#7201a8"
             ],
             [
              0.3333333333333333,
              "#9c179e"
             ],
             [
              0.4444444444444444,
              "#bd3786"
             ],
             [
              0.5555555555555556,
              "#d8576b"
             ],
             [
              0.6666666666666666,
              "#ed7953"
             ],
             [
              0.7777777777777778,
              "#fb9f3a"
             ],
             [
              0.8888888888888888,
              "#fdca26"
             ],
             [
              1,
              "#f0f921"
             ]
            ],
            "type": "histogram2d"
           }
          ],
          "histogram2dcontour": [
           {
            "colorbar": {
             "outlinewidth": 0,
             "ticks": ""
            },
            "colorscale": [
             [
              0,
              "#0d0887"
             ],
             [
              0.1111111111111111,
              "#46039f"
             ],
             [
              0.2222222222222222,
              "#7201a8"
             ],
             [
              0.3333333333333333,
              "#9c179e"
             ],
             [
              0.4444444444444444,
              "#bd3786"
             ],
             [
              0.5555555555555556,
              "#d8576b"
             ],
             [
              0.6666666666666666,
              "#ed7953"
             ],
             [
              0.7777777777777778,
              "#fb9f3a"
             ],
             [
              0.8888888888888888,
              "#fdca26"
             ],
             [
              1,
              "#f0f921"
             ]
            ],
            "type": "histogram2dcontour"
           }
          ],
          "mesh3d": [
           {
            "colorbar": {
             "outlinewidth": 0,
             "ticks": ""
            },
            "type": "mesh3d"
           }
          ],
          "parcoords": [
           {
            "line": {
             "colorbar": {
              "outlinewidth": 0,
              "ticks": ""
             }
            },
            "type": "parcoords"
           }
          ],
          "pie": [
           {
            "automargin": true,
            "type": "pie"
           }
          ],
          "scatter": [
           {
            "fillpattern": {
             "fillmode": "overlay",
             "size": 10,
             "solidity": 0.2
            },
            "type": "scatter"
           }
          ],
          "scatter3d": [
           {
            "line": {
             "colorbar": {
              "outlinewidth": 0,
              "ticks": ""
             }
            },
            "marker": {
             "colorbar": {
              "outlinewidth": 0,
              "ticks": ""
             }
            },
            "type": "scatter3d"
           }
          ],
          "scattercarpet": [
           {
            "marker": {
             "colorbar": {
              "outlinewidth": 0,
              "ticks": ""
             }
            },
            "type": "scattercarpet"
           }
          ],
          "scattergeo": [
           {
            "marker": {
             "colorbar": {
              "outlinewidth": 0,
              "ticks": ""
             }
            },
            "type": "scattergeo"
           }
          ],
          "scattergl": [
           {
            "marker": {
             "colorbar": {
              "outlinewidth": 0,
              "ticks": ""
             }
            },
            "type": "scattergl"
           }
          ],
          "scattermapbox": [
           {
            "marker": {
             "colorbar": {
              "outlinewidth": 0,
              "ticks": ""
             }
            },
            "type": "scattermapbox"
           }
          ],
          "scatterpolar": [
           {
            "marker": {
             "colorbar": {
              "outlinewidth": 0,
              "ticks": ""
             }
            },
            "type": "scatterpolar"
           }
          ],
          "scatterpolargl": [
           {
            "marker": {
             "colorbar": {
              "outlinewidth": 0,
              "ticks": ""
             }
            },
            "type": "scatterpolargl"
           }
          ],
          "scatterternary": [
           {
            "marker": {
             "colorbar": {
              "outlinewidth": 0,
              "ticks": ""
             }
            },
            "type": "scatterternary"
           }
          ],
          "surface": [
           {
            "colorbar": {
             "outlinewidth": 0,
             "ticks": ""
            },
            "colorscale": [
             [
              0,
              "#0d0887"
             ],
             [
              0.1111111111111111,
              "#46039f"
             ],
             [
              0.2222222222222222,
              "#7201a8"
             ],
             [
              0.3333333333333333,
              "#9c179e"
             ],
             [
              0.4444444444444444,
              "#bd3786"
             ],
             [
              0.5555555555555556,
              "#d8576b"
             ],
             [
              0.6666666666666666,
              "#ed7953"
             ],
             [
              0.7777777777777778,
              "#fb9f3a"
             ],
             [
              0.8888888888888888,
              "#fdca26"
             ],
             [
              1,
              "#f0f921"
             ]
            ],
            "type": "surface"
           }
          ],
          "table": [
           {
            "cells": {
             "fill": {
              "color": "#EBF0F8"
             },
             "line": {
              "color": "white"
             }
            },
            "header": {
             "fill": {
              "color": "#C8D4E3"
             },
             "line": {
              "color": "white"
             }
            },
            "type": "table"
           }
          ]
         },
         "layout": {
          "annotationdefaults": {
           "arrowcolor": "#2a3f5f",
           "arrowhead": 0,
           "arrowwidth": 1
          },
          "autotypenumbers": "strict",
          "coloraxis": {
           "colorbar": {
            "outlinewidth": 0,
            "ticks": ""
           }
          },
          "colorscale": {
           "diverging": [
            [
             0,
             "#8e0152"
            ],
            [
             0.1,
             "#c51b7d"
            ],
            [
             0.2,
             "#de77ae"
            ],
            [
             0.3,
             "#f1b6da"
            ],
            [
             0.4,
             "#fde0ef"
            ],
            [
             0.5,
             "#f7f7f7"
            ],
            [
             0.6,
             "#e6f5d0"
            ],
            [
             0.7,
             "#b8e186"
            ],
            [
             0.8,
             "#7fbc41"
            ],
            [
             0.9,
             "#4d9221"
            ],
            [
             1,
             "#276419"
            ]
           ],
           "sequential": [
            [
             0,
             "#0d0887"
            ],
            [
             0.1111111111111111,
             "#46039f"
            ],
            [
             0.2222222222222222,
             "#7201a8"
            ],
            [
             0.3333333333333333,
             "#9c179e"
            ],
            [
             0.4444444444444444,
             "#bd3786"
            ],
            [
             0.5555555555555556,
             "#d8576b"
            ],
            [
             0.6666666666666666,
             "#ed7953"
            ],
            [
             0.7777777777777778,
             "#fb9f3a"
            ],
            [
             0.8888888888888888,
             "#fdca26"
            ],
            [
             1,
             "#f0f921"
            ]
           ],
           "sequentialminus": [
            [
             0,
             "#0d0887"
            ],
            [
             0.1111111111111111,
             "#46039f"
            ],
            [
             0.2222222222222222,
             "#7201a8"
            ],
            [
             0.3333333333333333,
             "#9c179e"
            ],
            [
             0.4444444444444444,
             "#bd3786"
            ],
            [
             0.5555555555555556,
             "#d8576b"
            ],
            [
             0.6666666666666666,
             "#ed7953"
            ],
            [
             0.7777777777777778,
             "#fb9f3a"
            ],
            [
             0.8888888888888888,
             "#fdca26"
            ],
            [
             1,
             "#f0f921"
            ]
           ]
          },
          "colorway": [
           "#636efa",
           "#EF553B",
           "#00cc96",
           "#ab63fa",
           "#FFA15A",
           "#19d3f3",
           "#FF6692",
           "#B6E880",
           "#FF97FF",
           "#FECB52"
          ],
          "font": {
           "color": "#2a3f5f"
          },
          "geo": {
           "bgcolor": "white",
           "lakecolor": "white",
           "landcolor": "#E5ECF6",
           "showlakes": true,
           "showland": true,
           "subunitcolor": "white"
          },
          "hoverlabel": {
           "align": "left"
          },
          "hovermode": "closest",
          "mapbox": {
           "style": "light"
          },
          "paper_bgcolor": "white",
          "plot_bgcolor": "#E5ECF6",
          "polar": {
           "angularaxis": {
            "gridcolor": "white",
            "linecolor": "white",
            "ticks": ""
           },
           "bgcolor": "#E5ECF6",
           "radialaxis": {
            "gridcolor": "white",
            "linecolor": "white",
            "ticks": ""
           }
          },
          "scene": {
           "xaxis": {
            "backgroundcolor": "#E5ECF6",
            "gridcolor": "white",
            "gridwidth": 2,
            "linecolor": "white",
            "showbackground": true,
            "ticks": "",
            "zerolinecolor": "white"
           },
           "yaxis": {
            "backgroundcolor": "#E5ECF6",
            "gridcolor": "white",
            "gridwidth": 2,
            "linecolor": "white",
            "showbackground": true,
            "ticks": "",
            "zerolinecolor": "white"
           },
           "zaxis": {
            "backgroundcolor": "#E5ECF6",
            "gridcolor": "white",
            "gridwidth": 2,
            "linecolor": "white",
            "showbackground": true,
            "ticks": "",
            "zerolinecolor": "white"
           }
          },
          "shapedefaults": {
           "line": {
            "color": "#2a3f5f"
           }
          },
          "ternary": {
           "aaxis": {
            "gridcolor": "white",
            "linecolor": "white",
            "ticks": ""
           },
           "baxis": {
            "gridcolor": "white",
            "linecolor": "white",
            "ticks": ""
           },
           "bgcolor": "#E5ECF6",
           "caxis": {
            "gridcolor": "white",
            "linecolor": "white",
            "ticks": ""
           }
          },
          "title": {
           "x": 0.05
          },
          "xaxis": {
           "automargin": true,
           "gridcolor": "white",
           "linecolor": "white",
           "ticks": "",
           "title": {
            "standoff": 15
           },
           "zerolinecolor": "white",
           "zerolinewidth": 2
          },
          "yaxis": {
           "automargin": true,
           "gridcolor": "white",
           "linecolor": "white",
           "ticks": "",
           "title": {
            "standoff": 15
           },
           "zerolinecolor": "white",
           "zerolinewidth": 2
          }
         }
        },
        "title": {
         "text": "Historical Stock Positions Over Time"
        },
        "xaxis": {
         "title": {
          "text": "Date"
         }
        },
        "yaxis": {
         "range": [
          0,
          100
         ],
         "title": {
          "text": "Position Percentage (%)"
         }
        }
       }
      }
     },
     "metadata": {},
     "output_type": "display_data"
    }
   ],
   "source": [
    "plot_historical_positions(dates, positions1, stock_names, stock_prices)"
   ]
  },
  {
   "cell_type": "code",
   "execution_count": 51,
   "metadata": {},
   "outputs": [
    {
     "data": {
      "application/vnd.plotly.v1+json": {
       "config": {
        "plotlyServerURL": "https://plot.ly"
       },
       "data": [
        {
         "hole": 0.3,
         "hoverinfo": "label+percent+value",
         "labels": [
          "标普500ETF",
          "纳斯达克ETF",
          "日经ETF",
          "黄金ETF",
          "纳斯达克100ETF",
          "煤炭ETF",
          "电力ETF",
          "纳指科技ETF",
          "圣农发展",
          "中国海油",
          "陕西煤业",
          "中煤能源",
          "洛阳钼业",
          "中远海控",
          "中远海能",
          "山金国际",
          "湖南黄金",
          "华锡有色",
          "青岛港",
          "中国核电",
          "长江电力"
         ],
         "marker": {
          "line": {
           "color": "#000000",
           "width": 2
          }
         },
         "textfont": {
          "size": 12
         },
         "textinfo": "label+percent",
         "type": "pie",
         "values": [
          0.04761904761904761,
          0.04761904761904761,
          0.04761904761904761,
          0.04761904761904761,
          0.04761904761904761,
          0.04761904761904761,
          0.04761904761904761,
          0.04761904761904761,
          0.04761904761904761,
          0.04761904761904761,
          0.04761904761904761,
          0.04761904761904761,
          0.04761904761904761,
          0.04761904761904761,
          0.04761904761904761,
          0.04761904761904761,
          0.04761904761904761,
          0.04761904761904761,
          0.04761904761904761,
          0.04761904761904761,
          0.04761904761904761
         ]
        }
       ],
       "layout": {
        "annotations": [
         {
          "font": {
           "size": 15
          },
          "showarrow": false,
          "text": "Portfolio",
          "x": 0.5,
          "y": 0.5
         }
        ],
        "template": {
         "data": {
          "bar": [
           {
            "error_x": {
             "color": "#2a3f5f"
            },
            "error_y": {
             "color": "#2a3f5f"
            },
            "marker": {
             "line": {
              "color": "#E5ECF6",
              "width": 0.5
             },
             "pattern": {
              "fillmode": "overlay",
              "size": 10,
              "solidity": 0.2
             }
            },
            "type": "bar"
           }
          ],
          "barpolar": [
           {
            "marker": {
             "line": {
              "color": "#E5ECF6",
              "width": 0.5
             },
             "pattern": {
              "fillmode": "overlay",
              "size": 10,
              "solidity": 0.2
             }
            },
            "type": "barpolar"
           }
          ],
          "carpet": [
           {
            "aaxis": {
             "endlinecolor": "#2a3f5f",
             "gridcolor": "white",
             "linecolor": "white",
             "minorgridcolor": "white",
             "startlinecolor": "#2a3f5f"
            },
            "baxis": {
             "endlinecolor": "#2a3f5f",
             "gridcolor": "white",
             "linecolor": "white",
             "minorgridcolor": "white",
             "startlinecolor": "#2a3f5f"
            },
            "type": "carpet"
           }
          ],
          "choropleth": [
           {
            "colorbar": {
             "outlinewidth": 0,
             "ticks": ""
            },
            "type": "choropleth"
           }
          ],
          "contour": [
           {
            "colorbar": {
             "outlinewidth": 0,
             "ticks": ""
            },
            "colorscale": [
             [
              0,
              "#0d0887"
             ],
             [
              0.1111111111111111,
              "#46039f"
             ],
             [
              0.2222222222222222,
              "#7201a8"
             ],
             [
              0.3333333333333333,
              "#9c179e"
             ],
             [
              0.4444444444444444,
              "#bd3786"
             ],
             [
              0.5555555555555556,
              "#d8576b"
             ],
             [
              0.6666666666666666,
              "#ed7953"
             ],
             [
              0.7777777777777778,
              "#fb9f3a"
             ],
             [
              0.8888888888888888,
              "#fdca26"
             ],
             [
              1,
              "#f0f921"
             ]
            ],
            "type": "contour"
           }
          ],
          "contourcarpet": [
           {
            "colorbar": {
             "outlinewidth": 0,
             "ticks": ""
            },
            "type": "contourcarpet"
           }
          ],
          "heatmap": [
           {
            "colorbar": {
             "outlinewidth": 0,
             "ticks": ""
            },
            "colorscale": [
             [
              0,
              "#0d0887"
             ],
             [
              0.1111111111111111,
              "#46039f"
             ],
             [
              0.2222222222222222,
              "#7201a8"
             ],
             [
              0.3333333333333333,
              "#9c179e"
             ],
             [
              0.4444444444444444,
              "#bd3786"
             ],
             [
              0.5555555555555556,
              "#d8576b"
             ],
             [
              0.6666666666666666,
              "#ed7953"
             ],
             [
              0.7777777777777778,
              "#fb9f3a"
             ],
             [
              0.8888888888888888,
              "#fdca26"
             ],
             [
              1,
              "#f0f921"
             ]
            ],
            "type": "heatmap"
           }
          ],
          "heatmapgl": [
           {
            "colorbar": {
             "outlinewidth": 0,
             "ticks": ""
            },
            "colorscale": [
             [
              0,
              "#0d0887"
             ],
             [
              0.1111111111111111,
              "#46039f"
             ],
             [
              0.2222222222222222,
              "#7201a8"
             ],
             [
              0.3333333333333333,
              "#9c179e"
             ],
             [
              0.4444444444444444,
              "#bd3786"
             ],
             [
              0.5555555555555556,
              "#d8576b"
             ],
             [
              0.6666666666666666,
              "#ed7953"
             ],
             [
              0.7777777777777778,
              "#fb9f3a"
             ],
             [
              0.8888888888888888,
              "#fdca26"
             ],
             [
              1,
              "#f0f921"
             ]
            ],
            "type": "heatmapgl"
           }
          ],
          "histogram": [
           {
            "marker": {
             "pattern": {
              "fillmode": "overlay",
              "size": 10,
              "solidity": 0.2
             }
            },
            "type": "histogram"
           }
          ],
          "histogram2d": [
           {
            "colorbar": {
             "outlinewidth": 0,
             "ticks": ""
            },
            "colorscale": [
             [
              0,
              "#0d0887"
             ],
             [
              0.1111111111111111,
              "#46039f"
             ],
             [
              0.2222222222222222,
              "#7201a8"
             ],
             [
              0.3333333333333333,
              "#9c179e"
             ],
             [
              0.4444444444444444,
              "#bd3786"
             ],
             [
              0.5555555555555556,
              "#d8576b"
             ],
             [
              0.6666666666666666,
              "#ed7953"
             ],
             [
              0.7777777777777778,
              "#fb9f3a"
             ],
             [
              0.8888888888888888,
              "#fdca26"
             ],
             [
              1,
              "#f0f921"
             ]
            ],
            "type": "histogram2d"
           }
          ],
          "histogram2dcontour": [
           {
            "colorbar": {
             "outlinewidth": 0,
             "ticks": ""
            },
            "colorscale": [
             [
              0,
              "#0d0887"
             ],
             [
              0.1111111111111111,
              "#46039f"
             ],
             [
              0.2222222222222222,
              "#7201a8"
             ],
             [
              0.3333333333333333,
              "#9c179e"
             ],
             [
              0.4444444444444444,
              "#bd3786"
             ],
             [
              0.5555555555555556,
              "#d8576b"
             ],
             [
              0.6666666666666666,
              "#ed7953"
             ],
             [
              0.7777777777777778,
              "#fb9f3a"
             ],
             [
              0.8888888888888888,
              "#fdca26"
             ],
             [
              1,
              "#f0f921"
             ]
            ],
            "type": "histogram2dcontour"
           }
          ],
          "mesh3d": [
           {
            "colorbar": {
             "outlinewidth": 0,
             "ticks": ""
            },
            "type": "mesh3d"
           }
          ],
          "parcoords": [
           {
            "line": {
             "colorbar": {
              "outlinewidth": 0,
              "ticks": ""
             }
            },
            "type": "parcoords"
           }
          ],
          "pie": [
           {
            "automargin": true,
            "type": "pie"
           }
          ],
          "scatter": [
           {
            "fillpattern": {
             "fillmode": "overlay",
             "size": 10,
             "solidity": 0.2
            },
            "type": "scatter"
           }
          ],
          "scatter3d": [
           {
            "line": {
             "colorbar": {
              "outlinewidth": 0,
              "ticks": ""
             }
            },
            "marker": {
             "colorbar": {
              "outlinewidth": 0,
              "ticks": ""
             }
            },
            "type": "scatter3d"
           }
          ],
          "scattercarpet": [
           {
            "marker": {
             "colorbar": {
              "outlinewidth": 0,
              "ticks": ""
             }
            },
            "type": "scattercarpet"
           }
          ],
          "scattergeo": [
           {
            "marker": {
             "colorbar": {
              "outlinewidth": 0,
              "ticks": ""
             }
            },
            "type": "scattergeo"
           }
          ],
          "scattergl": [
           {
            "marker": {
             "colorbar": {
              "outlinewidth": 0,
              "ticks": ""
             }
            },
            "type": "scattergl"
           }
          ],
          "scattermapbox": [
           {
            "marker": {
             "colorbar": {
              "outlinewidth": 0,
              "ticks": ""
             }
            },
            "type": "scattermapbox"
           }
          ],
          "scatterpolar": [
           {
            "marker": {
             "colorbar": {
              "outlinewidth": 0,
              "ticks": ""
             }
            },
            "type": "scatterpolar"
           }
          ],
          "scatterpolargl": [
           {
            "marker": {
             "colorbar": {
              "outlinewidth": 0,
              "ticks": ""
             }
            },
            "type": "scatterpolargl"
           }
          ],
          "scatterternary": [
           {
            "marker": {
             "colorbar": {
              "outlinewidth": 0,
              "ticks": ""
             }
            },
            "type": "scatterternary"
           }
          ],
          "surface": [
           {
            "colorbar": {
             "outlinewidth": 0,
             "ticks": ""
            },
            "colorscale": [
             [
              0,
              "#0d0887"
             ],
             [
              0.1111111111111111,
              "#46039f"
             ],
             [
              0.2222222222222222,
              "#7201a8"
             ],
             [
              0.3333333333333333,
              "#9c179e"
             ],
             [
              0.4444444444444444,
              "#bd3786"
             ],
             [
              0.5555555555555556,
              "#d8576b"
             ],
             [
              0.6666666666666666,
              "#ed7953"
             ],
             [
              0.7777777777777778,
              "#fb9f3a"
             ],
             [
              0.8888888888888888,
              "#fdca26"
             ],
             [
              1,
              "#f0f921"
             ]
            ],
            "type": "surface"
           }
          ],
          "table": [
           {
            "cells": {
             "fill": {
              "color": "#EBF0F8"
             },
             "line": {
              "color": "white"
             }
            },
            "header": {
             "fill": {
              "color": "#C8D4E3"
             },
             "line": {
              "color": "white"
             }
            },
            "type": "table"
           }
          ]
         },
         "layout": {
          "annotationdefaults": {
           "arrowcolor": "#2a3f5f",
           "arrowhead": 0,
           "arrowwidth": 1
          },
          "autotypenumbers": "strict",
          "coloraxis": {
           "colorbar": {
            "outlinewidth": 0,
            "ticks": ""
           }
          },
          "colorscale": {
           "diverging": [
            [
             0,
             "#8e0152"
            ],
            [
             0.1,
             "#c51b7d"
            ],
            [
             0.2,
             "#de77ae"
            ],
            [
             0.3,
             "#f1b6da"
            ],
            [
             0.4,
             "#fde0ef"
            ],
            [
             0.5,
             "#f7f7f7"
            ],
            [
             0.6,
             "#e6f5d0"
            ],
            [
             0.7,
             "#b8e186"
            ],
            [
             0.8,
             "#7fbc41"
            ],
            [
             0.9,
             "#4d9221"
            ],
            [
             1,
             "#276419"
            ]
           ],
           "sequential": [
            [
             0,
             "#0d0887"
            ],
            [
             0.1111111111111111,
             "#46039f"
            ],
            [
             0.2222222222222222,
             "#7201a8"
            ],
            [
             0.3333333333333333,
             "#9c179e"
            ],
            [
             0.4444444444444444,
             "#bd3786"
            ],
            [
             0.5555555555555556,
             "#d8576b"
            ],
            [
             0.6666666666666666,
             "#ed7953"
            ],
            [
             0.7777777777777778,
             "#fb9f3a"
            ],
            [
             0.8888888888888888,
             "#fdca26"
            ],
            [
             1,
             "#f0f921"
            ]
           ],
           "sequentialminus": [
            [
             0,
             "#0d0887"
            ],
            [
             0.1111111111111111,
             "#46039f"
            ],
            [
             0.2222222222222222,
             "#7201a8"
            ],
            [
             0.3333333333333333,
             "#9c179e"
            ],
            [
             0.4444444444444444,
             "#bd3786"
            ],
            [
             0.5555555555555556,
             "#d8576b"
            ],
            [
             0.6666666666666666,
             "#ed7953"
            ],
            [
             0.7777777777777778,
             "#fb9f3a"
            ],
            [
             0.8888888888888888,
             "#fdca26"
            ],
            [
             1,
             "#f0f921"
            ]
           ]
          },
          "colorway": [
           "#636efa",
           "#EF553B",
           "#00cc96",
           "#ab63fa",
           "#FFA15A",
           "#19d3f3",
           "#FF6692",
           "#B6E880",
           "#FF97FF",
           "#FECB52"
          ],
          "font": {
           "color": "#2a3f5f"
          },
          "geo": {
           "bgcolor": "white",
           "lakecolor": "white",
           "landcolor": "#E5ECF6",
           "showlakes": true,
           "showland": true,
           "subunitcolor": "white"
          },
          "hoverlabel": {
           "align": "left"
          },
          "hovermode": "closest",
          "mapbox": {
           "style": "light"
          },
          "paper_bgcolor": "white",
          "plot_bgcolor": "#E5ECF6",
          "polar": {
           "angularaxis": {
            "gridcolor": "white",
            "linecolor": "white",
            "ticks": ""
           },
           "bgcolor": "#E5ECF6",
           "radialaxis": {
            "gridcolor": "white",
            "linecolor": "white",
            "ticks": ""
           }
          },
          "scene": {
           "xaxis": {
            "backgroundcolor": "#E5ECF6",
            "gridcolor": "white",
            "gridwidth": 2,
            "linecolor": "white",
            "showbackground": true,
            "ticks": "",
            "zerolinecolor": "white"
           },
           "yaxis": {
            "backgroundcolor": "#E5ECF6",
            "gridcolor": "white",
            "gridwidth": 2,
            "linecolor": "white",
            "showbackground": true,
            "ticks": "",
            "zerolinecolor": "white"
           },
           "zaxis": {
            "backgroundcolor": "#E5ECF6",
            "gridcolor": "white",
            "gridwidth": 2,
            "linecolor": "white",
            "showbackground": true,
            "ticks": "",
            "zerolinecolor": "white"
           }
          },
          "shapedefaults": {
           "line": {
            "color": "#2a3f5f"
           }
          },
          "ternary": {
           "aaxis": {
            "gridcolor": "white",
            "linecolor": "white",
            "ticks": ""
           },
           "baxis": {
            "gridcolor": "white",
            "linecolor": "white",
            "ticks": ""
           },
           "bgcolor": "#E5ECF6",
           "caxis": {
            "gridcolor": "white",
            "linecolor": "white",
            "ticks": ""
           }
          },
          "title": {
           "x": 0.05
          },
          "xaxis": {
           "automargin": true,
           "gridcolor": "white",
           "linecolor": "white",
           "ticks": "",
           "title": {
            "standoff": 15
           },
           "zerolinecolor": "white",
           "zerolinewidth": 2
          },
          "yaxis": {
           "automargin": true,
           "gridcolor": "white",
           "linecolor": "white",
           "ticks": "",
           "title": {
            "standoff": 15
           },
           "zerolinecolor": "white",
           "zerolinewidth": 2
          }
         }
        },
        "title": {
         "text": "Current Portfolio Positions"
        }
       }
      }
     },
     "metadata": {},
     "output_type": "display_data"
    }
   ],
   "source": [
    "plot_current_positions(weights, stock_names)"
   ]
  },
  {
   "cell_type": "code",
   "execution_count": 52,
   "metadata": {},
   "outputs": [
    {
     "data": {
      "application/vnd.plotly.v1+json": {
       "config": {
        "plotlyServerURL": "https://plot.ly"
       },
       "data": [
        {
         "hole": 0.3,
         "hoverinfo": "label+percent+value",
         "labels": [
          "标普500ETF",
          "纳斯达克ETF",
          "日经ETF",
          "黄金ETF",
          "纳斯达克100ETF",
          "煤炭ETF",
          "电力ETF",
          "纳指科技ETF",
          "圣农发展",
          "中国海油",
          "陕西煤业",
          "中煤能源",
          "洛阳钼业",
          "中远海控",
          "中远海能",
          "山金国际",
          "湖南黄金",
          "华锡有色",
          "青岛港",
          "中国核电",
          "长江电力"
         ],
         "marker": {
          "line": {
           "color": "#000000",
           "width": 2
          }
         },
         "textfont": {
          "size": 12
         },
         "textinfo": "label+percent",
         "type": "pie",
         "values": [
          0.03225806451612903,
          0.03379416282642089,
          0.035330261136712754,
          0.03686635944700461,
          0.03840245775729647,
          0.03993855606758833,
          0.041474654377880185,
          0.043010752688172046,
          0.0445468509984639,
          0.04608294930875576,
          0.04761904761904762,
          0.04915514592933947,
          0.05069124423963134,
          0.0522273425499232,
          0.05376344086021505,
          0.05529953917050692,
          0.05683563748079877,
          0.058371735791090625,
          0.05990783410138249,
          0.06144393241167434,
          0.06298003072196622
         ]
        }
       ],
       "layout": {
        "annotations": [
         {
          "font": {
           "size": 15
          },
          "showarrow": false,
          "text": "Portfolio",
          "x": 0.5,
          "y": 0.5
         }
        ],
        "template": {
         "data": {
          "bar": [
           {
            "error_x": {
             "color": "#2a3f5f"
            },
            "error_y": {
             "color": "#2a3f5f"
            },
            "marker": {
             "line": {
              "color": "#E5ECF6",
              "width": 0.5
             },
             "pattern": {
              "fillmode": "overlay",
              "size": 10,
              "solidity": 0.2
             }
            },
            "type": "bar"
           }
          ],
          "barpolar": [
           {
            "marker": {
             "line": {
              "color": "#E5ECF6",
              "width": 0.5
             },
             "pattern": {
              "fillmode": "overlay",
              "size": 10,
              "solidity": 0.2
             }
            },
            "type": "barpolar"
           }
          ],
          "carpet": [
           {
            "aaxis": {
             "endlinecolor": "#2a3f5f",
             "gridcolor": "white",
             "linecolor": "white",
             "minorgridcolor": "white",
             "startlinecolor": "#2a3f5f"
            },
            "baxis": {
             "endlinecolor": "#2a3f5f",
             "gridcolor": "white",
             "linecolor": "white",
             "minorgridcolor": "white",
             "startlinecolor": "#2a3f5f"
            },
            "type": "carpet"
           }
          ],
          "choropleth": [
           {
            "colorbar": {
             "outlinewidth": 0,
             "ticks": ""
            },
            "type": "choropleth"
           }
          ],
          "contour": [
           {
            "colorbar": {
             "outlinewidth": 0,
             "ticks": ""
            },
            "colorscale": [
             [
              0,
              "#0d0887"
             ],
             [
              0.1111111111111111,
              "#46039f"
             ],
             [
              0.2222222222222222,
              "#7201a8"
             ],
             [
              0.3333333333333333,
              "#9c179e"
             ],
             [
              0.4444444444444444,
              "#bd3786"
             ],
             [
              0.5555555555555556,
              "#d8576b"
             ],
             [
              0.6666666666666666,
              "#ed7953"
             ],
             [
              0.7777777777777778,
              "#fb9f3a"
             ],
             [
              0.8888888888888888,
              "#fdca26"
             ],
             [
              1,
              "#f0f921"
             ]
            ],
            "type": "contour"
           }
          ],
          "contourcarpet": [
           {
            "colorbar": {
             "outlinewidth": 0,
             "ticks": ""
            },
            "type": "contourcarpet"
           }
          ],
          "heatmap": [
           {
            "colorbar": {
             "outlinewidth": 0,
             "ticks": ""
            },
            "colorscale": [
             [
              0,
              "#0d0887"
             ],
             [
              0.1111111111111111,
              "#46039f"
             ],
             [
              0.2222222222222222,
              "#7201a8"
             ],
             [
              0.3333333333333333,
              "#9c179e"
             ],
             [
              0.4444444444444444,
              "#bd3786"
             ],
             [
              0.5555555555555556,
              "#d8576b"
             ],
             [
              0.6666666666666666,
              "#ed7953"
             ],
             [
              0.7777777777777778,
              "#fb9f3a"
             ],
             [
              0.8888888888888888,
              "#fdca26"
             ],
             [
              1,
              "#f0f921"
             ]
            ],
            "type": "heatmap"
           }
          ],
          "heatmapgl": [
           {
            "colorbar": {
             "outlinewidth": 0,
             "ticks": ""
            },
            "colorscale": [
             [
              0,
              "#0d0887"
             ],
             [
              0.1111111111111111,
              "#46039f"
             ],
             [
              0.2222222222222222,
              "#7201a8"
             ],
             [
              0.3333333333333333,
              "#9c179e"
             ],
             [
              0.4444444444444444,
              "#bd3786"
             ],
             [
              0.5555555555555556,
              "#d8576b"
             ],
             [
              0.6666666666666666,
              "#ed7953"
             ],
             [
              0.7777777777777778,
              "#fb9f3a"
             ],
             [
              0.8888888888888888,
              "#fdca26"
             ],
             [
              1,
              "#f0f921"
             ]
            ],
            "type": "heatmapgl"
           }
          ],
          "histogram": [
           {
            "marker": {
             "pattern": {
              "fillmode": "overlay",
              "size": 10,
              "solidity": 0.2
             }
            },
            "type": "histogram"
           }
          ],
          "histogram2d": [
           {
            "colorbar": {
             "outlinewidth": 0,
             "ticks": ""
            },
            "colorscale": [
             [
              0,
              "#0d0887"
             ],
             [
              0.1111111111111111,
              "#46039f"
             ],
             [
              0.2222222222222222,
              "#7201a8"
             ],
             [
              0.3333333333333333,
              "#9c179e"
             ],
             [
              0.4444444444444444,
              "#bd3786"
             ],
             [
              0.5555555555555556,
              "#d8576b"
             ],
             [
              0.6666666666666666,
              "#ed7953"
             ],
             [
              0.7777777777777778,
              "#fb9f3a"
             ],
             [
              0.8888888888888888,
              "#fdca26"
             ],
             [
              1,
              "#f0f921"
             ]
            ],
            "type": "histogram2d"
           }
          ],
          "histogram2dcontour": [
           {
            "colorbar": {
             "outlinewidth": 0,
             "ticks": ""
            },
            "colorscale": [
             [
              0,
              "#0d0887"
             ],
             [
              0.1111111111111111,
              "#46039f"
             ],
             [
              0.2222222222222222,
              "#7201a8"
             ],
             [
              0.3333333333333333,
              "#9c179e"
             ],
             [
              0.4444444444444444,
              "#bd3786"
             ],
             [
              0.5555555555555556,
              "#d8576b"
             ],
             [
              0.6666666666666666,
              "#ed7953"
             ],
             [
              0.7777777777777778,
              "#fb9f3a"
             ],
             [
              0.8888888888888888,
              "#fdca26"
             ],
             [
              1,
              "#f0f921"
             ]
            ],
            "type": "histogram2dcontour"
           }
          ],
          "mesh3d": [
           {
            "colorbar": {
             "outlinewidth": 0,
             "ticks": ""
            },
            "type": "mesh3d"
           }
          ],
          "parcoords": [
           {
            "line": {
             "colorbar": {
              "outlinewidth": 0,
              "ticks": ""
             }
            },
            "type": "parcoords"
           }
          ],
          "pie": [
           {
            "automargin": true,
            "type": "pie"
           }
          ],
          "scatter": [
           {
            "fillpattern": {
             "fillmode": "overlay",
             "size": 10,
             "solidity": 0.2
            },
            "type": "scatter"
           }
          ],
          "scatter3d": [
           {
            "line": {
             "colorbar": {
              "outlinewidth": 0,
              "ticks": ""
             }
            },
            "marker": {
             "colorbar": {
              "outlinewidth": 0,
              "ticks": ""
             }
            },
            "type": "scatter3d"
           }
          ],
          "scattercarpet": [
           {
            "marker": {
             "colorbar": {
              "outlinewidth": 0,
              "ticks": ""
             }
            },
            "type": "scattercarpet"
           }
          ],
          "scattergeo": [
           {
            "marker": {
             "colorbar": {
              "outlinewidth": 0,
              "ticks": ""
             }
            },
            "type": "scattergeo"
           }
          ],
          "scattergl": [
           {
            "marker": {
             "colorbar": {
              "outlinewidth": 0,
              "ticks": ""
             }
            },
            "type": "scattergl"
           }
          ],
          "scattermapbox": [
           {
            "marker": {
             "colorbar": {
              "outlinewidth": 0,
              "ticks": ""
             }
            },
            "type": "scattermapbox"
           }
          ],
          "scatterpolar": [
           {
            "marker": {
             "colorbar": {
              "outlinewidth": 0,
              "ticks": ""
             }
            },
            "type": "scatterpolar"
           }
          ],
          "scatterpolargl": [
           {
            "marker": {
             "colorbar": {
              "outlinewidth": 0,
              "ticks": ""
             }
            },
            "type": "scatterpolargl"
           }
          ],
          "scatterternary": [
           {
            "marker": {
             "colorbar": {
              "outlinewidth": 0,
              "ticks": ""
             }
            },
            "type": "scatterternary"
           }
          ],
          "surface": [
           {
            "colorbar": {
             "outlinewidth": 0,
             "ticks": ""
            },
            "colorscale": [
             [
              0,
              "#0d0887"
             ],
             [
              0.1111111111111111,
              "#46039f"
             ],
             [
              0.2222222222222222,
              "#7201a8"
             ],
             [
              0.3333333333333333,
              "#9c179e"
             ],
             [
              0.4444444444444444,
              "#bd3786"
             ],
             [
              0.5555555555555556,
              "#d8576b"
             ],
             [
              0.6666666666666666,
              "#ed7953"
             ],
             [
              0.7777777777777778,
              "#fb9f3a"
             ],
             [
              0.8888888888888888,
              "#fdca26"
             ],
             [
              1,
              "#f0f921"
             ]
            ],
            "type": "surface"
           }
          ],
          "table": [
           {
            "cells": {
             "fill": {
              "color": "#EBF0F8"
             },
             "line": {
              "color": "white"
             }
            },
            "header": {
             "fill": {
              "color": "#C8D4E3"
             },
             "line": {
              "color": "white"
             }
            },
            "type": "table"
           }
          ]
         },
         "layout": {
          "annotationdefaults": {
           "arrowcolor": "#2a3f5f",
           "arrowhead": 0,
           "arrowwidth": 1
          },
          "autotypenumbers": "strict",
          "coloraxis": {
           "colorbar": {
            "outlinewidth": 0,
            "ticks": ""
           }
          },
          "colorscale": {
           "diverging": [
            [
             0,
             "#8e0152"
            ],
            [
             0.1,
             "#c51b7d"
            ],
            [
             0.2,
             "#de77ae"
            ],
            [
             0.3,
             "#f1b6da"
            ],
            [
             0.4,
             "#fde0ef"
            ],
            [
             0.5,
             "#f7f7f7"
            ],
            [
             0.6,
             "#e6f5d0"
            ],
            [
             0.7,
             "#b8e186"
            ],
            [
             0.8,
             "#7fbc41"
            ],
            [
             0.9,
             "#4d9221"
            ],
            [
             1,
             "#276419"
            ]
           ],
           "sequential": [
            [
             0,
             "#0d0887"
            ],
            [
             0.1111111111111111,
             "#46039f"
            ],
            [
             0.2222222222222222,
             "#7201a8"
            ],
            [
             0.3333333333333333,
             "#9c179e"
            ],
            [
             0.4444444444444444,
             "#bd3786"
            ],
            [
             0.5555555555555556,
             "#d8576b"
            ],
            [
             0.6666666666666666,
             "#ed7953"
            ],
            [
             0.7777777777777778,
             "#fb9f3a"
            ],
            [
             0.8888888888888888,
             "#fdca26"
            ],
            [
             1,
             "#f0f921"
            ]
           ],
           "sequentialminus": [
            [
             0,
             "#0d0887"
            ],
            [
             0.1111111111111111,
             "#46039f"
            ],
            [
             0.2222222222222222,
             "#7201a8"
            ],
            [
             0.3333333333333333,
             "#9c179e"
            ],
            [
             0.4444444444444444,
             "#bd3786"
            ],
            [
             0.5555555555555556,
             "#d8576b"
            ],
            [
             0.6666666666666666,
             "#ed7953"
            ],
            [
             0.7777777777777778,
             "#fb9f3a"
            ],
            [
             0.8888888888888888,
             "#fdca26"
            ],
            [
             1,
             "#f0f921"
            ]
           ]
          },
          "colorway": [
           "#636efa",
           "#EF553B",
           "#00cc96",
           "#ab63fa",
           "#FFA15A",
           "#19d3f3",
           "#FF6692",
           "#B6E880",
           "#FF97FF",
           "#FECB52"
          ],
          "font": {
           "color": "#2a3f5f"
          },
          "geo": {
           "bgcolor": "white",
           "lakecolor": "white",
           "landcolor": "#E5ECF6",
           "showlakes": true,
           "showland": true,
           "subunitcolor": "white"
          },
          "hoverlabel": {
           "align": "left"
          },
          "hovermode": "closest",
          "mapbox": {
           "style": "light"
          },
          "paper_bgcolor": "white",
          "plot_bgcolor": "#E5ECF6",
          "polar": {
           "angularaxis": {
            "gridcolor": "white",
            "linecolor": "white",
            "ticks": ""
           },
           "bgcolor": "#E5ECF6",
           "radialaxis": {
            "gridcolor": "white",
            "linecolor": "white",
            "ticks": ""
           }
          },
          "scene": {
           "xaxis": {
            "backgroundcolor": "#E5ECF6",
            "gridcolor": "white",
            "gridwidth": 2,
            "linecolor": "white",
            "showbackground": true,
            "ticks": "",
            "zerolinecolor": "white"
           },
           "yaxis": {
            "backgroundcolor": "#E5ECF6",
            "gridcolor": "white",
            "gridwidth": 2,
            "linecolor": "white",
            "showbackground": true,
            "ticks": "",
            "zerolinecolor": "white"
           },
           "zaxis": {
            "backgroundcolor": "#E5ECF6",
            "gridcolor": "white",
            "gridwidth": 2,
            "linecolor": "white",
            "showbackground": true,
            "ticks": "",
            "zerolinecolor": "white"
           }
          },
          "shapedefaults": {
           "line": {
            "color": "#2a3f5f"
           }
          },
          "ternary": {
           "aaxis": {
            "gridcolor": "white",
            "linecolor": "white",
            "ticks": ""
           },
           "baxis": {
            "gridcolor": "white",
            "linecolor": "white",
            "ticks": ""
           },
           "bgcolor": "#E5ECF6",
           "caxis": {
            "gridcolor": "white",
            "linecolor": "white",
            "ticks": ""
           }
          },
          "title": {
           "x": 0.05
          },
          "xaxis": {
           "automargin": true,
           "gridcolor": "white",
           "linecolor": "white",
           "ticks": "",
           "title": {
            "standoff": 15
           },
           "zerolinecolor": "white",
           "zerolinewidth": 2
          },
          "yaxis": {
           "automargin": true,
           "gridcolor": "white",
           "linecolor": "white",
           "ticks": "",
           "title": {
            "standoff": 15
           },
           "zerolinecolor": "white",
           "zerolinewidth": 2
          }
         }
        },
        "title": {
         "text": "Current Portfolio Positions"
        }
       }
      }
     },
     "metadata": {},
     "output_type": "display_data"
    }
   ],
   "source": [
    "plot_current_positions(weights1, stock_names)"
   ]
  },
  {
   "cell_type": "code",
   "execution_count": 53,
   "metadata": {},
   "outputs": [
    {
     "data": {
      "image/png": "[encoded data removed]",
      "text/plain": [
       "<Figure size 1800x1200 with 2 Axes>"
      ]
     },
     "metadata": {},
     "output_type": "display_data"
    }
   ],
   "source": [
    "plot_adjustment_heatmap(dates, adjustments, stock_names)"
   ]
  },
  {
   "cell_type": "code",
   "execution_count": 54,
   "metadata": {},
   "outputs": [
    {
     "name": "stdout",
     "output_type": "stream",
     "text": [
      "21\n",
      "21\n",
      "21\n",
      "   Stock Symbol  Current Position  Adjustment Signal\n",
      "0     513500.SS          0.047619                0.0\n",
      "1     513300.SS          0.047619                0.0\n",
      "2     513520.SS          0.047619                0.0\n",
      "3     518880.SS          0.047619                0.0\n",
      "4     513110.SS          0.047619                0.0\n",
      "5     515220.SS          0.047619                0.0\n",
      "6     159611.SZ          0.047619                0.0\n",
      "7     159509.SZ          0.047619                0.0\n",
      "8     002299.SZ          0.047619                0.0\n",
      "9     600938.SS          0.047619                0.0\n",
      "10    601225.SS          0.047619                0.0\n",
      "11    601898.SS          0.047619                0.0\n",
      "12    603993.SS          0.047619                0.0\n",
      "13    601919.SS          0.047619                0.0\n",
      "14    600026.SS          0.047619                0.0\n",
      "15    000975.SZ          0.047619                0.0\n",
      "16    002155.SZ          0.047619                0.0\n",
      "17    600301.SS          0.047619                0.0\n",
      "18    601298.SS          0.047619                0.0\n",
      "19    601985.SS          0.047619                0.0\n",
      "20    600900.SS          0.047619                0.0\n"
     ]
    }
   ],
   "source": [
    "display_position_table(stock_symbols, weights, adjustments)"
   ]
  }
 ],
 "metadata": {
  "kernelspec": {
   "display_name": "Python 3",
   "language": "python",
   "name": "python3"
  },
  "language_info": {
   "codemirror_mode": {
    "name": "ipython",
    "version": 3
   },
   "file_extension": ".py",
   "mimetype": "text/x-python",
   "name": "python",
   "nbconvert_exporter": "python",
   "pygments_lexer": "ipython3",
   "version": "3.9.5"
  }
 },
 "nbformat": 4,
 "nbformat_minor": 2
}
